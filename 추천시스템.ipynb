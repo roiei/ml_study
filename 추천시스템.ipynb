{
  "nbformat": 4,
  "nbformat_minor": 0,
  "metadata": {
    "colab": {
      "name": "추천시스템.ipynb",
      "provenance": [],
      "include_colab_link": true
    },
    "kernelspec": {
      "name": "python3",
      "display_name": "Python 3"
    }
  },
  "cells": [
    {
      "cell_type": "markdown",
      "metadata": {
        "id": "view-in-github",
        "colab_type": "text"
      },
      "source": [
        "<a href=\"https://colab.research.google.com/github/roiei/ml_study/blob/master/%EC%B6%94%EC%B2%9C%EC%8B%9C%EC%8A%A4%ED%85%9C.ipynb\" target=\"_parent\"><img src=\"https://colab.research.google.com/assets/colab-badge.svg\" alt=\"Open In Colab\"/></a>"
      ]
    },
    {
      "cell_type": "code",
      "metadata": {
        "colab": {
          "base_uri": "https://localhost:8080/"
        },
        "id": "mwQrvMBuKXM1",
        "outputId": "6f2fe05c-5635-4b7a-ee4f-fb2d46fd4657"
      },
      "source": [
        "!pip install scikit-surprise\n"
      ],
      "execution_count": null,
      "outputs": [
        {
          "output_type": "stream",
          "text": [
            "Collecting scikit-surprise\n",
            "  Downloading scikit-surprise-1.1.1.tar.gz (11.8 MB)\n",
            "\u001b[K     |████████████████████████████████| 11.8 MB 45 kB/s \n",
            "\u001b[?25hRequirement already satisfied: joblib>=0.11 in /usr/local/lib/python3.7/dist-packages (from scikit-surprise) (1.0.1)\n",
            "Requirement already satisfied: numpy>=1.11.2 in /usr/local/lib/python3.7/dist-packages (from scikit-surprise) (1.19.5)\n",
            "Requirement already satisfied: scipy>=1.0.0 in /usr/local/lib/python3.7/dist-packages (from scikit-surprise) (1.4.1)\n",
            "Requirement already satisfied: six>=1.10.0 in /usr/local/lib/python3.7/dist-packages (from scikit-surprise) (1.15.0)\n",
            "Building wheels for collected packages: scikit-surprise\n",
            "  Building wheel for scikit-surprise (setup.py) ... \u001b[?25l\u001b[?25hdone\n",
            "  Created wheel for scikit-surprise: filename=scikit_surprise-1.1.1-cp37-cp37m-linux_x86_64.whl size=1619429 sha256=16b4cc85888f364ca4be723a8f8f12ddf4283b3ae77b1ccfd5898457afab7643\n",
            "  Stored in directory: /root/.cache/pip/wheels/76/44/74/b498c42be47b2406bd27994e16c5188e337c657025ab400c1c\n",
            "Successfully built scikit-surprise\n",
            "Installing collected packages: scikit-surprise\n",
            "Successfully installed scikit-surprise-1.1.1\n"
          ],
          "name": "stdout"
        }
      ]
    },
    {
      "cell_type": "code",
      "metadata": {
        "id": "pEm54pzWKv9j"
      },
      "source": [
        ""
      ],
      "execution_count": null,
      "outputs": []
    },
    {
      "cell_type": "markdown",
      "metadata": {
        "id": "BhKqnUELK0Fi"
      },
      "source": [
        "## content-based filtering"
      ]
    },
    {
      "cell_type": "code",
      "metadata": {
        "id": "pqrPxAOyK2ni"
      },
      "source": [
        "from surprise import SVD\n",
        "from surprise import Dataset\n",
        "from surprise.model_selection import cross_validate"
      ],
      "execution_count": null,
      "outputs": []
    },
    {
      "cell_type": "code",
      "metadata": {
        "colab": {
          "base_uri": "https://localhost:8080/"
        },
        "id": "ALcZAkHFK4fy",
        "outputId": "fc9826a4-f4db-4547-ddef-1a3d6421cf82"
      },
      "source": [
        "data = Dataset.load_builtin('ml-100k', prompt=False)\n",
        "data.raw_ratings[:10]"
      ],
      "execution_count": null,
      "outputs": [
        {
          "output_type": "stream",
          "text": [
            "Trying to download dataset from http://files.grouplens.org/datasets/movielens/ml-100k.zip...\n",
            "Done! Dataset ml-100k has been saved to /root/.surprise_data/ml-100k\n"
          ],
          "name": "stdout"
        },
        {
          "output_type": "execute_result",
          "data": {
            "text/plain": [
              "[('196', '242', 3.0, '881250949'),\n",
              " ('186', '302', 3.0, '891717742'),\n",
              " ('22', '377', 1.0, '878887116'),\n",
              " ('244', '51', 2.0, '880606923'),\n",
              " ('166', '346', 1.0, '886397596'),\n",
              " ('298', '474', 4.0, '884182806'),\n",
              " ('115', '265', 2.0, '881171488'),\n",
              " ('253', '465', 5.0, '891628467'),\n",
              " ('305', '451', 3.0, '886324817'),\n",
              " ('6', '86', 3.0, '883603013')]"
            ]
          },
          "metadata": {},
          "execution_count": 3
        }
      ]
    },
    {
      "cell_type": "code",
      "metadata": {
        "id": "PmBp7EFzLETS"
      },
      "source": [
        "# (user, item, rating, id)"
      ],
      "execution_count": null,
      "outputs": []
    },
    {
      "cell_type": "code",
      "metadata": {
        "id": "YrMRr6kzLa71"
      },
      "source": [
        "model = SVD()"
      ],
      "execution_count": null,
      "outputs": []
    },
    {
      "cell_type": "code",
      "metadata": {
        "colab": {
          "base_uri": "https://localhost:8080/"
        },
        "id": "Xl_fOzkMMPSH",
        "outputId": "3ae37a33-174c-49ff-ecbe-61c378c175b8"
      },
      "source": [
        "cross_validate(model, data, measures=['rmse', 'mae'], cv=5, verbose=True)"
      ],
      "execution_count": null,
      "outputs": [
        {
          "output_type": "stream",
          "text": [
            "Evaluating RMSE, MAE of algorithm SVD on 5 split(s).\n",
            "\n",
            "                  Fold 1  Fold 2  Fold 3  Fold 4  Fold 5  Mean    Std     \n",
            "RMSE (testset)    0.9309  0.9429  0.9353  0.9396  0.9394  0.9376  0.0041  \n",
            "MAE (testset)     0.7350  0.7435  0.7349  0.7391  0.7417  0.7388  0.0035  \n",
            "Fit time          4.91    4.72    4.81    5.09    5.07    4.92    0.14    \n",
            "Test time         0.17    0.24    0.16    0.26    0.14    0.20    0.05    \n"
          ],
          "name": "stdout"
        },
        {
          "output_type": "execute_result",
          "data": {
            "text/plain": [
              "{'fit_time': (4.9104485511779785,\n",
              "  4.715155363082886,\n",
              "  4.811928749084473,\n",
              "  5.085328817367554,\n",
              "  5.065017223358154),\n",
              " 'test_mae': array([0.73499975, 0.74346667, 0.73485134, 0.73910972, 0.74172654]),\n",
              " 'test_rmse': array([0.9308702 , 0.9428944 , 0.93532773, 0.93955265, 0.93941293]),\n",
              " 'test_time': (0.1651465892791748,\n",
              "  0.24354982376098633,\n",
              "  0.1631484031677246,\n",
              "  0.2646331787109375,\n",
              "  0.1435871124267578)}"
            ]
          },
          "metadata": {
            "tags": []
          },
          "execution_count": 8
        }
      ]
    },
    {
      "cell_type": "code",
      "metadata": {
        "id": "mGkV1-T5MWQL"
      },
      "source": [
        ""
      ],
      "execution_count": null,
      "outputs": []
    },
    {
      "cell_type": "markdown",
      "metadata": {
        "id": "7afO5eSeWzrR"
      },
      "source": [
        "Content based filtering"
      ]
    },
    {
      "cell_type": "markdown",
      "metadata": {
        "id": "KfiLCuA7W44e"
      },
      "source": [
        "쉬운 확장, 미관심 아이템 추천 가능\n",
        "feature를 직접 설계 해야 함 - 기존 관심 사항을 가지고서만 추천 가능\n"
      ]
    },
    {
      "cell_type": "code",
      "metadata": {
        "id": "yiuTCawuW1SU"
      },
      "source": [
        "import numpy as np\n",
        "from surprise import Dataset"
      ],
      "execution_count": null,
      "outputs": []
    },
    {
      "cell_type": "code",
      "metadata": {
        "id": "jJkvkzkfXJ5V"
      },
      "source": [
        "data = Dataset.load_builtin('ml-100k', prompt=False)"
      ],
      "execution_count": null,
      "outputs": []
    },
    {
      "cell_type": "code",
      "metadata": {
        "id": "OKmxv-k8XPvY"
      },
      "source": [
        "raw_data = np.array(data.raw_ratings, dtype=int)"
      ],
      "execution_count": null,
      "outputs": []
    },
    {
      "cell_type": "code",
      "metadata": {
        "colab": {
          "base_uri": "https://localhost:8080/"
        },
        "id": "MpY9Mya6aMqE",
        "outputId": "72d2b825-a4aa-4ad1-b8b6-828dca93c4de"
      },
      "source": [
        "raw_data"
      ],
      "execution_count": null,
      "outputs": [
        {
          "output_type": "execute_result",
          "data": {
            "text/plain": [
              "array([[      196,       242,         3, 881250949],\n",
              "       [      186,       302,         3, 891717742],\n",
              "       [       22,       377,         1, 878887116],\n",
              "       ...,\n",
              "       [      276,      1090,         1, 874795795],\n",
              "       [       13,       225,         2, 882399156],\n",
              "       [       12,       203,         3, 879959583]])"
            ]
          },
          "metadata": {
            "tags": []
          },
          "execution_count": 15
        }
      ]
    },
    {
      "cell_type": "code",
      "metadata": {
        "id": "_kQuztDbXS0Y"
      },
      "source": [
        "raw_data[:, 0] -= 1\n",
        "raw_data[:, 1] -= 1"
      ],
      "execution_count": null,
      "outputs": []
    },
    {
      "cell_type": "code",
      "metadata": {
        "colab": {
          "base_uri": "https://localhost:8080/"
        },
        "id": "MoApRp88XbCg",
        "outputId": "7401d0ae-f444-4fbc-b822-8241e3f51a7b"
      },
      "source": [
        "raw_data"
      ],
      "execution_count": null,
      "outputs": [
        {
          "output_type": "execute_result",
          "data": {
            "text/plain": [
              "array([[      195,       241,         3, 881250949],\n",
              "       [      185,       301,         3, 891717742],\n",
              "       [       21,       376,         1, 878887116],\n",
              "       ...,\n",
              "       [      275,      1089,         1, 874795795],\n",
              "       [       12,       224,         2, 882399156],\n",
              "       [       11,       202,         3, 879959583]])"
            ]
          },
          "metadata": {
            "tags": []
          },
          "execution_count": 17
        }
      ]
    },
    {
      "cell_type": "code",
      "metadata": {
        "id": "JySs-70waQvS"
      },
      "source": [
        "n_users = np.max(raw_data[:, 0])"
      ],
      "execution_count": null,
      "outputs": []
    },
    {
      "cell_type": "code",
      "metadata": {
        "colab": {
          "base_uri": "https://localhost:8080/"
        },
        "id": "CdTj9MLYbMNT",
        "outputId": "57c74bf7-67a4-4328-a336-14435aa812b5"
      },
      "source": [
        "n_users"
      ],
      "execution_count": null,
      "outputs": [
        {
          "output_type": "execute_result",
          "data": {
            "text/plain": [
              "942"
            ]
          },
          "metadata": {
            "tags": []
          },
          "execution_count": 20
        }
      ]
    },
    {
      "cell_type": "code",
      "metadata": {
        "id": "tVt_zPw0bNZJ"
      },
      "source": [
        "n_movies = np.max(raw_data[:,1])"
      ],
      "execution_count": null,
      "outputs": []
    },
    {
      "cell_type": "code",
      "metadata": {
        "id": "mDIlfruibQib"
      },
      "source": [
        "shape = (n_users + 1, n_movies + 1)"
      ],
      "execution_count": null,
      "outputs": []
    },
    {
      "cell_type": "code",
      "metadata": {
        "colab": {
          "base_uri": "https://localhost:8080/"
        },
        "id": "YvqnguDibTOB",
        "outputId": "9d27a3d9-5feb-43d9-f1bb-337fdfaf01d0"
      },
      "source": [
        "shape"
      ],
      "execution_count": null,
      "outputs": [
        {
          "output_type": "execute_result",
          "data": {
            "text/plain": [
              "(943, 1682)"
            ]
          },
          "metadata": {
            "tags": []
          },
          "execution_count": 23
        }
      ]
    },
    {
      "cell_type": "code",
      "metadata": {
        "id": "Aw_gV8RLbUNA"
      },
      "source": [
        "adj_matrix = np.ndarray(shape, dtype=int)"
      ],
      "execution_count": null,
      "outputs": []
    },
    {
      "cell_type": "code",
      "metadata": {
        "id": "u6bL15S3bck-"
      },
      "source": [
        "for user_id, movie_id, rating, time in raw_data:\n",
        "  adj_matrix[user_id][movie_id] = 1.\n",
        "  "
      ],
      "execution_count": null,
      "outputs": []
    },
    {
      "cell_type": "code",
      "metadata": {
        "colab": {
          "base_uri": "https://localhost:8080/"
        },
        "id": "nm4EhDgybkss",
        "outputId": "8496ac05-6be6-4d44-914d-c170626cc179"
      },
      "source": [
        "adj_matrix"
      ],
      "execution_count": null,
      "outputs": [
        {
          "output_type": "execute_result",
          "data": {
            "text/plain": [
              "array([[1, 1, 1, ..., 0, 0, 0],\n",
              "       [1, 0, 0, ..., 0, 0, 0],\n",
              "       [0, 0, 0, ..., 0, 0, 0],\n",
              "       ...,\n",
              "       [1, 0, 0, ..., 0, 0, 0],\n",
              "       [0, 0, 0, ..., 0, 0, 0],\n",
              "       [0, 1, 0, ..., 0, 0, 0]])"
            ]
          },
          "metadata": {
            "tags": []
          },
          "execution_count": 26
        }
      ]
    },
    {
      "cell_type": "code",
      "metadata": {
        "id": "mx0E8sh1blUo"
      },
      "source": [
        "my_id, my_vector = 0, adj_matrix[0]\n",
        "best_match, best_match_id, best_match_vector = -1, -1, []\n",
        "\n",
        "for user_id, user_vector in enumerate(adj_matrix):\n",
        "  if my_id != user_id:\n",
        "    similarity = np.dot(my_vector, user_vector)\n",
        "    if similarity > best_match:\n",
        "      best_match = similarity\n",
        "      best_match_id = user_id\n",
        "      best_match_vector = user_vector\n",
        "\n"
      ],
      "execution_count": null,
      "outputs": []
    },
    {
      "cell_type": "code",
      "metadata": {
        "colab": {
          "base_uri": "https://localhost:8080/"
        },
        "id": "j4RkW3_ocKex",
        "outputId": "c915874b-ecd4-43c6-84a7-72af34c9f2f2"
      },
      "source": [
        "print('best match {}, best match id {}'.format(best_match, best_match_id))"
      ],
      "execution_count": null,
      "outputs": [
        {
          "output_type": "stream",
          "text": [
            "best match 183, best match id 275\n"
          ],
          "name": "stdout"
        }
      ]
    },
    {
      "cell_type": "code",
      "metadata": {
        "colab": {
          "base_uri": "https://localhost:8080/"
        },
        "id": "7ipg2pCqdDNU",
        "outputId": "44e7103c-b15f-42f4-beeb-8c39809966c5"
      },
      "source": [
        "print(my_vector)\n",
        "print(best_match_vector)"
      ],
      "execution_count": null,
      "outputs": [
        {
          "output_type": "stream",
          "text": [
            "[1 1 1 ... 0 0 0]\n",
            "[1 1 1 ... 0 0 0]\n"
          ],
          "name": "stdout"
        }
      ]
    },
    {
      "cell_type": "markdown",
      "metadata": {
        "id": "BVgRlQfZcVV4"
      },
      "source": [
        "0번째 user와 가장 유사한 user는 275번 user"
      ]
    },
    {
      "cell_type": "code",
      "metadata": {
        "id": "en9vvSD7cQR_"
      },
      "source": [
        "recommend_list = []\n",
        "for i, log in enumerate(zip(my_vector, best_match_vector)):\n",
        "  log1, log2 = log\n",
        "  if log1 == 0. and log2 == 1.:\n",
        "    recommend_list += i,"
      ],
      "execution_count": null,
      "outputs": []
    },
    {
      "cell_type": "code",
      "metadata": {
        "colab": {
          "base_uri": "https://localhost:8080/"
        },
        "id": "T0-EB_N9dTaw",
        "outputId": "22047a7e-8353-4dad-941a-fb7b1fcecb8b"
      },
      "source": [
        "print(recommend_list)"
      ],
      "execution_count": null,
      "outputs": [
        {
          "output_type": "stream",
          "text": [
            "[272, 273, 275, 280, 281, 283, 287, 288, 289, 290, 292, 293, 297, 299, 300, 301, 302, 306, 312, 314, 315, 316, 317, 321, 322, 323, 324, 327, 330, 331, 332, 333, 339, 342, 345, 346, 353, 354, 355, 356, 357, 363, 364, 365, 366, 372, 374, 378, 379, 381, 382, 383, 384, 385, 386, 387, 390, 391, 392, 394, 395, 396, 398, 400, 401, 402, 403, 404, 405, 406, 407, 408, 409, 410, 412, 414, 416, 417, 418, 419, 420, 422, 424, 425, 426, 427, 428, 430, 431, 432, 435, 442, 446, 447, 448, 449, 450, 451, 452, 454, 455, 457, 460, 461, 462, 468, 469, 470, 471, 472, 473, 474, 478, 495, 500, 507, 517, 522, 525, 530, 539, 540, 543, 545, 546, 548, 549, 550, 551, 553, 557, 558, 560, 561, 562, 563, 565, 566, 567, 568, 570, 571, 574, 575, 576, 577, 580, 581, 582, 585, 587, 589, 590, 594, 596, 602, 623, 626, 627, 630, 633, 635, 639, 646, 648, 651, 652, 654, 657, 664, 668, 671, 677, 678, 681, 683, 684, 685, 690, 691, 692, 695, 696, 708, 709, 714, 718, 719, 720, 724, 726, 727, 731, 733, 734, 736, 738, 741, 742, 745, 746, 747, 749, 750, 754, 758, 762, 764, 767, 768, 769, 770, 771, 772, 773, 778, 779, 782, 785, 788, 789, 793, 795, 796, 799, 800, 801, 802, 805, 806, 808, 815, 819, 822, 824, 830, 839, 842, 843, 844, 852, 853, 870, 875, 878, 880, 889, 901, 914, 915, 918, 921, 927, 929, 930, 938, 940, 941, 942, 948, 950, 958, 968, 973, 974, 976, 992, 999, 1005, 1009, 1010, 1012, 1015, 1018, 1027, 1030, 1034, 1035, 1041, 1043, 1045, 1046, 1051, 1055, 1072, 1073, 1078, 1080, 1082, 1088, 1089, 1090, 1094, 1097, 1108, 1109, 1117, 1128, 1130, 1134, 1139, 1140, 1144, 1156, 1169, 1171, 1179, 1193, 1198, 1207, 1209, 1212, 1217, 1219, 1220, 1227, 1231, 1238, 1239, 1243, 1244, 1252, 1266, 1272, 1273, 1300, 1313, 1406, 1412, 1415, 1470, 1477, 1480, 1481, 1482]\n"
          ],
          "name": "stdout"
        }
      ]
    },
    {
      "cell_type": "markdown",
      "metadata": {
        "id": "FKB6Y4ICdcBH"
      },
      "source": [
        "# 유클리드 거리로 추천\n",
        "![image.png](data:image/png;base64,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)\n",
        "> 들여쓴 블록\n",
        "\n"
      ]
    },
    {
      "cell_type": "markdown",
      "metadata": {
        "id": "iA-2P5OCebL_"
      },
      "source": [
        "sqrt(∑d=1~D (Ai - Bi)^2)"
      ]
    },
    {
      "cell_type": "code",
      "metadata": {
        "id": "StdneRX5gnGU"
      },
      "source": [
        "def get_eclidean_dist(v1, v2):\n",
        "  return -1*np.sqrt(np.sum(np.square(my_vector - user_vector)))"
      ],
      "execution_count": null,
      "outputs": []
    },
    {
      "cell_type": "code",
      "metadata": {
        "id": "j2YAS-SidUQe"
      },
      "source": [
        "def find_best_match_eclidean(my_id, my_vector):\n",
        "  best_match, best_match_id, best_match_vector = float('inf'), -1, []\n",
        "\n",
        "  for user_id, user_vector in enumerate(adj_matrix):\n",
        "    if my_id != user_id:\n",
        "      similarity = np.dot(my_vector, user_vector)\n",
        "      eclidean_dist = np.sqrt(np.sum(np.square(my_vector - user_vector)))\n",
        "      if eclidean_dist < best_match:\n",
        "        best_match = eclidean_dist\n",
        "        best_match_id = user_id\n",
        "        best_match_vector = user_vector\n",
        "\n",
        "  return best_match, best_match_id, best_match_vector"
      ],
      "execution_count": null,
      "outputs": []
    },
    {
      "cell_type": "code",
      "metadata": {
        "id": "Nvj6rESrfErf"
      },
      "source": [
        "def find_best_match(my_id, my_vector, matrix, model_func):\n",
        "  best_match, best_match_id, best_match_vector = float('-inf'), -1, []\n",
        "  for user_id, user_vector in enumerate(matrix):\n",
        "    if my_id != user_id:\n",
        "      similarity = model_func(my_vector, user_vector)\n",
        "      if similarity > best_match:\n",
        "        best_match = similarity\n",
        "        best_match_id = user_id\n",
        "        best_match_vector = user_vector\n",
        "\n",
        "  return best_match, best_match_id, best_match_vector"
      ],
      "execution_count": null,
      "outputs": []
    },
    {
      "cell_type": "code",
      "metadata": {
        "id": "zOwAqLyZgw6R"
      },
      "source": [
        "est_match, best_match_id, best_match_vector = find_best_match(0, adj_matrix[0], get_eclidean_dist)\n"
      ],
      "execution_count": null,
      "outputs": []
    },
    {
      "cell_type": "code",
      "metadata": {
        "colab": {
          "base_uri": "https://localhost:8080/"
        },
        "id": "kOOzVDVmd88O",
        "outputId": "59c5582f-a8e3-4fff-b37e-e7573b0e5115"
      },
      "source": [
        "print('best match {}, best match id {}'.format(best_match, best_match_id))"
      ],
      "execution_count": null,
      "outputs": [
        {
          "output_type": "stream",
          "text": [
            "best match 14.832396974191326, best match id 737\n"
          ],
          "name": "stdout"
        }
      ]
    },
    {
      "cell_type": "code",
      "metadata": {
        "id": "hxTjGKg0d-v2"
      },
      "source": [
        "def get_recommend_list(my_vector, best_match_vector):\n",
        "  recommend_list = []\n",
        "  for i, log in enumerate(zip(my_vector, best_match_vector)):\n",
        "    log1, log2 = log\n",
        "    if log1 < 1. and log2 > 0.:\n",
        "      recommend_list += i,\n",
        "\n",
        "  return recommend_list"
      ],
      "execution_count": null,
      "outputs": []
    },
    {
      "cell_type": "code",
      "metadata": {
        "colab": {
          "base_uri": "https://localhost:8080/"
        },
        "id": "G2f9IvOSemCh",
        "outputId": "338bf276-1fa1-4e1e-a832-b74ff0745480"
      },
      "source": [
        "print(recommend_list)"
      ],
      "execution_count": null,
      "outputs": [
        {
          "output_type": "stream",
          "text": [
            "[297, 312, 317, 342, 356, 366, 379, 384, 392, 402, 404, 407, 417, 422, 428, 433, 448, 454, 469, 473, 495, 510, 516, 526, 527, 549, 567, 602, 635, 649, 650, 654, 658, 661, 664, 696, 731, 746, 750, 754, 915, 918, 925, 929, 950, 968, 1015, 1046]\n"
          ],
          "name": "stdout"
        }
      ]
    },
    {
      "cell_type": "markdown",
      "metadata": {
        "id": "SterzPiNetrp"
      },
      "source": [
        "# Cosine similarity"
      ]
    },
    {
      "cell_type": "code",
      "metadata": {
        "id": "21tx4ANFenr-"
      },
      "source": [
        "def compute_cos_sim(v1, v2):\n",
        "  norm1 = np.sqrt(np.sum(np.square(v1)))\n",
        "  norm2 = np.sqrt(np.sum(np.square(v2)))\n",
        "  dot = np.dot(v1, v2)\n",
        "  return dot / (norm1*norm2)\n",
        "\n"
      ],
      "execution_count": null,
      "outputs": []
    },
    {
      "cell_type": "code",
      "metadata": {
        "id": "Fun0NJXyfCEO"
      },
      "source": [
        "best_match, best_match_id, best_match_vector = find_best_match(0, adj_matrix[0], adj_matrix, compute_cos_sim)"
      ],
      "execution_count": null,
      "outputs": []
    },
    {
      "cell_type": "code",
      "metadata": {
        "colab": {
          "base_uri": "https://localhost:8080/"
        },
        "id": "94daHWT9feCN",
        "outputId": "32b42783-2ca6-4d88-c014-32ea49088252"
      },
      "source": [
        "print('best match {}, best match id {}'.format(best_match, best_match_id))"
      ],
      "execution_count": null,
      "outputs": [
        {
          "output_type": "stream",
          "text": [
            "best match 0.569065731527988, best match id 915\n"
          ],
          "name": "stdout"
        }
      ]
    },
    {
      "cell_type": "code",
      "metadata": {
        "colab": {
          "base_uri": "https://localhost:8080/",
          "height": 173
        },
        "id": "MiN9v80JfhFQ",
        "outputId": "35676542-cf74-4bc7-9548-2a62487130e7"
      },
      "source": [
        "recommend_list = get_recommend_list(my_vector, best_match_vector)"
      ],
      "execution_count": null,
      "outputs": [
        {
          "output_type": "error",
          "ename": "NameError",
          "evalue": "ignored",
          "traceback": [
            "\u001b[0;31m---------------------------------------------------------------------------\u001b[0m",
            "\u001b[0;31mNameError\u001b[0m                                 Traceback (most recent call last)",
            "\u001b[0;32m<ipython-input-24-3326a4a00add>\u001b[0m in \u001b[0;36m<module>\u001b[0;34m()\u001b[0m\n\u001b[0;32m----> 1\u001b[0;31m \u001b[0mrecommend_list\u001b[0m \u001b[0;34m=\u001b[0m \u001b[0mget_recommend_list\u001b[0m\u001b[0;34m(\u001b[0m\u001b[0mmy_vector\u001b[0m\u001b[0;34m,\u001b[0m \u001b[0mbest_match_vector\u001b[0m\u001b[0;34m)\u001b[0m\u001b[0;34m\u001b[0m\u001b[0;34m\u001b[0m\u001b[0m\n\u001b[0m",
            "\u001b[0;31mNameError\u001b[0m: name 'my_vector' is not defined"
          ]
        }
      ]
    },
    {
      "cell_type": "code",
      "metadata": {
        "colab": {
          "base_uri": "https://localhost:8080/"
        },
        "id": "KWK9VfCkf9o_",
        "outputId": "8b6ea7d8-d97a-4b08-c377-70ba749a14dc"
      },
      "source": [
        "print(recommend_list)"
      ],
      "execution_count": null,
      "outputs": [
        {
          "output_type": "stream",
          "text": [
            "[272, 275, 279, 280, 283, 285, 289, 294, 297, 316, 317, 355, 365, 366, 368, 379, 380, 381, 384, 386, 392, 398, 401, 404, 416, 420, 422, 424, 426, 427, 430, 432, 450, 460, 461, 466, 469, 471, 473, 474, 475, 479, 482, 483, 497, 505, 508, 510, 511, 522, 526, 527, 529, 530, 534, 536, 540, 545, 548, 549, 556, 557, 558, 560, 565, 567, 568, 569, 577, 580, 581, 582, 592, 596, 630, 635, 639, 641, 649, 651, 654, 673, 677, 678, 683, 684, 692, 696, 701, 703, 707, 708, 709, 712, 714, 719, 720, 726, 731, 734, 736, 738, 740, 745, 747, 754, 755, 761, 762, 763, 766, 780, 789, 791, 805, 819, 823, 824, 830, 843, 862, 865, 918, 929, 930, 938, 942, 943, 947, 958, 959, 960, 970, 977, 1004, 1008, 1009, 1010, 1013, 1041, 1045, 1069, 1072, 1073, 1078, 1097, 1100, 1108, 1112, 1118, 1134, 1193, 1205, 1207, 1216, 1219, 1267, 1334, 1400, 1427, 1596, 1681]\n"
          ],
          "name": "stdout"
        }
      ]
    },
    {
      "cell_type": "code",
      "metadata": {
        "id": "IipSwzxWf_G_"
      },
      "source": [
        ""
      ],
      "execution_count": null,
      "outputs": []
    },
    {
      "cell_type": "markdown",
      "metadata": {
        "id": "_0gBKyuAgAU_"
      },
      "source": [
        "## 기존 방법에 명시적 feedback 추가"
      ]
    },
    {
      "cell_type": "code",
      "metadata": {
        "id": "EzKQ8Gi7gCt4"
      },
      "source": [
        "adj_matrix = np.ndarray(shape, dtype=int)\n",
        "for user_id, movie_id, rating, time in raw_data:\n",
        "  adj_matrix[user_id][movie_id] = rating"
      ],
      "execution_count": null,
      "outputs": []
    },
    {
      "cell_type": "code",
      "metadata": {
        "colab": {
          "base_uri": "https://localhost:8080/"
        },
        "id": "JaVonh1dgNN3",
        "outputId": "13af9fc6-371b-4b09-ea13-89d25d3daf1c"
      },
      "source": [
        "adj_matrix"
      ],
      "execution_count": null,
      "outputs": [
        {
          "output_type": "execute_result",
          "data": {
            "text/plain": [
              "array([[5, 3, 4, ..., 0, 0, 0],\n",
              "       [4, 0, 0, ..., 0, 0, 0],\n",
              "       [0, 0, 0, ..., 0, 0, 0],\n",
              "       ...,\n",
              "       [5, 0, 0, ..., 0, 0, 0],\n",
              "       [0, 0, 0, ..., 0, 0, 0],\n",
              "       [0, 5, 0, ..., 0, 0, 0]])"
            ]
          },
          "metadata": {
            "tags": []
          },
          "execution_count": 59
        }
      ]
    },
    {
      "cell_type": "code",
      "metadata": {
        "id": "OzQTXeX0gOKc"
      },
      "source": [
        "best_match, best_match_id, best_match_vector = find_best_match_eclidean(0, adj_matrix[0])"
      ],
      "execution_count": null,
      "outputs": []
    },
    {
      "cell_type": "code",
      "metadata": {
        "colab": {
          "base_uri": "https://localhost:8080/"
        },
        "id": "hQHwa3KfhBLA",
        "outputId": "cf1c5a4e-7abe-4517-dda0-135927f1ba77"
      },
      "source": [
        "print('best match {}, best match id {}'.format(best_match, best_match_id))"
      ],
      "execution_count": null,
      "outputs": [
        {
          "output_type": "stream",
          "text": [
            "best match 55.06359959174482, best match id 737\n"
          ],
          "name": "stdout"
        }
      ]
    },
    {
      "cell_type": "code",
      "metadata": {
        "colab": {
          "base_uri": "https://localhost:8080/"
        },
        "id": "KmZCAt9MhCOJ",
        "outputId": "2b0d4a82-1044-49a5-fefe-19b5567ef720"
      },
      "source": [
        "best_match, best_match_id, best_match_vector = find_best_match(0, adj_matrix[0], compute_cos_sim)\n",
        "print('best match {}, best match id {}'.format(best_match, best_match_id))"
      ],
      "execution_count": null,
      "outputs": [
        {
          "output_type": "stream",
          "text": [
            "best match 0.569065731527988, best match id 915\n"
          ],
          "name": "stdout"
        }
      ]
    },
    {
      "cell_type": "markdown",
      "metadata": {
        "id": "yCwftsuDhzW5"
      },
      "source": [
        "# collaborative filtering"
      ]
    },
    {
      "cell_type": "markdown",
      "metadata": {
        "id": "ZC-dCp94h6Rr"
      },
      "source": [
        "기존 관심이 아닌 것의 추천이 가능함\n",
        "feature를 알 필요가 없음\n",
        "\n",
        "cold-latency가 있음\n",
        "추가 특성 사용이 어려움 "
      ]
    },
    {
      "cell_type": "code",
      "metadata": {
        "id": "IjNto30Hhtol"
      },
      "source": [
        "from surprise import KNNBasic, SVD, SVDpp, NMF\n",
        "from surprise import Dataset\n",
        "from surprise.model_selection import cross_validate"
      ],
      "execution_count": null,
      "outputs": []
    },
    {
      "cell_type": "code",
      "metadata": {
        "id": "QZ4_klaViLqE"
      },
      "source": [
        "data = Dataset.load_builtin('ml-100k', prompt=False)"
      ],
      "execution_count": null,
      "outputs": []
    },
    {
      "cell_type": "markdown",
      "metadata": {
        "id": "Oyyu1tm7iSsS"
      },
      "source": [
        "## collaborative filtering with KNN (Nearest Neighbor)"
      ]
    },
    {
      "cell_type": "code",
      "metadata": {
        "colab": {
          "base_uri": "https://localhost:8080/"
        },
        "id": "7aBvOw6LicVz",
        "outputId": "3f2d4fd0-c0d7-469b-d4d2-45b4afe799cd"
      },
      "source": [
        "model = KNNBasic()\n",
        "cross_validate(model, data, measures=['rmse', 'mae'], cv=5, n_jobs=4, verbose=True)"
      ],
      "execution_count": null,
      "outputs": [
        {
          "output_type": "stream",
          "text": [
            "Evaluating RMSE, MAE of algorithm KNNBasic on 5 split(s).\n",
            "\n",
            "                  Fold 1  Fold 2  Fold 3  Fold 4  Fold 5  Mean    Std     \n",
            "RMSE (testset)    0.9843  0.9809  0.9776  0.9751  0.9781  0.9792  0.0031  \n",
            "MAE (testset)     0.7749  0.7761  0.7710  0.7697  0.7738  0.7731  0.0024  \n",
            "Fit time          0.42    1.03    0.54    0.95    0.59    0.71    0.24    \n",
            "Test time         6.60    9.35    8.28    6.68    4.44    7.07    1.67    \n"
          ],
          "name": "stdout"
        },
        {
          "output_type": "execute_result",
          "data": {
            "text/plain": [
              "{'fit_time': (0.422623872756958,\n",
              "  1.0282177925109863,\n",
              "  0.544945478439331,\n",
              "  0.9493236541748047,\n",
              "  0.592808723449707),\n",
              " 'test_mae': array([0.77487979, 0.77608821, 0.77101561, 0.76972097, 0.77375284]),\n",
              " 'test_rmse': array([0.98430446, 0.98085017, 0.97760271, 0.97514126, 0.97806215]),\n",
              " 'test_time': (6.599138021469116,\n",
              "  9.349785089492798,\n",
              "  8.28296971321106,\n",
              "  6.675295829772949,\n",
              "  4.437984228134155)}"
            ]
          },
          "metadata": {
            "tags": []
          },
          "execution_count": 80
        }
      ]
    },
    {
      "cell_type": "markdown",
      "metadata": {
        "id": "OWlZggQyiS1O"
      },
      "source": [
        "## collaborative filtering with SVD"
      ]
    },
    {
      "cell_type": "code",
      "metadata": {
        "colab": {
          "base_uri": "https://localhost:8080/"
        },
        "id": "O_1l1Xh1icyd",
        "outputId": "f203be0d-4dd5-45b4-9720-6f1d9b4361f6"
      },
      "source": [
        "model = SVD()\n",
        "cross_validate(model, data, measures=['rmse', 'mae'], cv=5, n_jobs=4, verbose=True)"
      ],
      "execution_count": null,
      "outputs": [
        {
          "output_type": "stream",
          "text": [
            "Evaluating RMSE, MAE of algorithm SVD on 5 split(s).\n",
            "\n",
            "                  Fold 1  Fold 2  Fold 3  Fold 4  Fold 5  Mean    Std     \n",
            "RMSE (testset)    0.9374  0.9357  0.9378  0.9376  0.9336  0.9364  0.0016  \n",
            "MAE (testset)     0.7399  0.7414  0.7377  0.7388  0.7340  0.7384  0.0025  \n",
            "Fit time          11.50   15.13   15.39   12.76   8.89    12.73   2.41    \n",
            "Test time         0.70    0.57    0.49    0.28    0.17    0.44    0.20    \n"
          ],
          "name": "stdout"
        },
        {
          "output_type": "execute_result",
          "data": {
            "text/plain": [
              "{'fit_time': (11.503535509109497,\n",
              "  15.132008075714111,\n",
              "  15.391123533248901,\n",
              "  12.759834289550781,\n",
              "  8.886595487594604),\n",
              " 'test_mae': array([0.73994769, 0.74139153, 0.7376755 , 0.73884946, 0.73396998]),\n",
              " 'test_rmse': array([0.93742088, 0.93566368, 0.93783935, 0.93756692, 0.93361914]),\n",
              " 'test_time': (0.7045497894287109,\n",
              "  0.5651793479919434,\n",
              "  0.49170994758605957,\n",
              "  0.27554941177368164,\n",
              "  0.16616201400756836)}"
            ]
          },
          "metadata": {
            "tags": []
          },
          "execution_count": 81
        }
      ]
    },
    {
      "cell_type": "markdown",
      "metadata": {
        "id": "P74JF3eBiS-g"
      },
      "source": [
        "## collaborative filtering with NMF (Non negative Matrix Factorization)"
      ]
    },
    {
      "cell_type": "code",
      "metadata": {
        "colab": {
          "base_uri": "https://localhost:8080/"
        },
        "id": "AIdHTvHbidTE",
        "outputId": "01741317-8335-45d5-9656-3ab5d4aa9a67"
      },
      "source": [
        "model = NMF()\n",
        "cross_validate(model, data, measures=['rmse', 'mae'], cv=5, n_jobs=4, verbose=True)"
      ],
      "execution_count": null,
      "outputs": [
        {
          "output_type": "stream",
          "text": [
            "Evaluating RMSE, MAE of algorithm NMF on 5 split(s).\n",
            "\n",
            "                  Fold 1  Fold 2  Fold 3  Fold 4  Fold 5  Mean    Std     \n",
            "RMSE (testset)    0.9580  0.9685  0.9531  0.9724  0.9667  0.9637  0.0071  \n",
            "MAE (testset)     0.7553  0.7606  0.7493  0.7637  0.7592  0.7576  0.0049  \n",
            "Fit time          12.48   16.32   17.43   13.86   9.79    13.97   2.73    \n",
            "Test time         0.75    0.56    0.29    0.24    0.17    0.40    0.22    \n"
          ],
          "name": "stdout"
        },
        {
          "output_type": "execute_result",
          "data": {
            "text/plain": [
              "{'fit_time': (12.481255054473877,\n",
              "  16.320284128189087,\n",
              "  17.426214933395386,\n",
              "  13.859009742736816,\n",
              "  9.78527545928955),\n",
              " 'test_mae': array([0.75527228, 0.76057648, 0.74934184, 0.76369895, 0.75919401]),\n",
              " 'test_rmse': array([0.95797852, 0.96847057, 0.9530902 , 0.97244727, 0.96665278]),\n",
              " 'test_time': (0.7520012855529785,\n",
              "  0.560783863067627,\n",
              "  0.2872915267944336,\n",
              "  0.2367994785308838,\n",
              "  0.16922783851623535)}"
            ]
          },
          "metadata": {
            "tags": []
          },
          "execution_count": 82
        }
      ]
    },
    {
      "cell_type": "markdown",
      "metadata": {
        "id": "VaHjoIIyiTZ1"
      },
      "source": [
        "## collaborative filtering with SVD++"
      ]
    },
    {
      "cell_type": "code",
      "metadata": {
        "colab": {
          "base_uri": "https://localhost:8080/"
        },
        "id": "h-4I0dKxidvm",
        "outputId": "3bc12bdb-6e78-4d2e-d450-00d238bad23a"
      },
      "source": [
        "model = SVDpp()\n",
        "cross_validate(model, data, measures=['rmse', 'mae'], cv=5, n_jobs=4, verbose=True)"
      ],
      "execution_count": null,
      "outputs": [
        {
          "output_type": "stream",
          "text": [
            "Evaluating RMSE, MAE of algorithm SVDpp on 5 split(s).\n",
            "\n",
            "                  Fold 1  Fold 2  Fold 3  Fold 4  Fold 5  Mean    Std     \n",
            "RMSE (testset)    0.9224  0.9120  0.9150  0.9183  0.9272  0.9190  0.0054  \n",
            "MAE (testset)     0.7233  0.7167  0.7193  0.7203  0.7256  0.7210  0.0031  \n",
            "Fit time          659.80  676.91  674.23  664.90  177.31  570.63  196.76  \n",
            "Test time         13.12   12.29   11.32   12.49   3.45    10.54   3.59    \n"
          ],
          "name": "stdout"
        },
        {
          "output_type": "execute_result",
          "data": {
            "text/plain": [
              "{'fit_time': (659.7962131500244,\n",
              "  676.9084165096283,\n",
              "  674.2303149700165,\n",
              "  664.9017832279205,\n",
              "  177.30719876289368),\n",
              " 'test_mae': array([0.72333719, 0.71668345, 0.71928763, 0.72027156, 0.72562894]),\n",
              " 'test_rmse': array([0.92238062, 0.91198948, 0.91497139, 0.9182806 , 0.92716417]),\n",
              " 'test_time': (13.124354124069214,\n",
              "  12.292790412902832,\n",
              "  11.321568727493286,\n",
              "  12.492684125900269,\n",
              "  3.452782154083252)}"
            ]
          },
          "metadata": {
            "tags": []
          },
          "execution_count": 83
        }
      ]
    },
    {
      "cell_type": "code",
      "metadata": {
        "id": "KKn6zgepiO1X"
      },
      "source": [
        ""
      ],
      "execution_count": null,
      "outputs": []
    },
    {
      "cell_type": "markdown",
      "metadata": {
        "id": "bVrX8VD-jbDI"
      },
      "source": [
        "# Hybrid"
      ]
    },
    {
      "cell_type": "markdown",
      "metadata": {
        "id": "kEd8K35ajpX8"
      },
      "source": [
        "많은 방법 이 존재함\n",
        "여기서는\n",
        "\n",
        "1. collaborative filtering으로 embedding을 학습 \n",
        "2. content-based filtering으로 유사도 기반 추천 수행"
      ]
    },
    {
      "cell_type": "code",
      "metadata": {
        "id": "-Jr6WVNYjcV_"
      },
      "source": [
        "import numpy as np\n",
        "from sklearn.decomposition import randomized_svd, non_negative_factorization\n",
        "from surprise import Dataset"
      ],
      "execution_count": null,
      "outputs": []
    },
    {
      "cell_type": "code",
      "metadata": {
        "colab": {
          "base_uri": "https://localhost:8080/"
        },
        "id": "ANcfD71-lnKl",
        "outputId": "9d630e24-c976-4d27-84df-142284162a3d"
      },
      "source": [
        "data = Dataset.load_builtin('ml-100k', prompt=False)\n",
        "raw_data = np.array(data.raw_ratings, dtype=int)\n",
        "raw_data[:, 0] -= 1\n",
        "raw_data[:, 1] -= 1"
      ],
      "execution_count": null,
      "outputs": [
        {
          "output_type": "stream",
          "text": [
            "Trying to download dataset from http://files.grouplens.org/datasets/movielens/ml-100k.zip...\n",
            "Done! Dataset ml-100k has been saved to /root/.surprise_data/ml-100k\n"
          ],
          "name": "stdout"
        }
      ]
    },
    {
      "cell_type": "code",
      "metadata": {
        "id": "Rl6M9Kpxlwxx"
      },
      "source": [
        "n_users = np.max(raw_data[:, 0])\n",
        "n_movies = np.max(raw_data[:, 1])\n",
        "share = (n_users + 1, n_movies + 1)"
      ],
      "execution_count": null,
      "outputs": []
    },
    {
      "cell_type": "code",
      "metadata": {
        "colab": {
          "base_uri": "https://localhost:8080/",
          "height": 173
        },
        "id": "IIw9GQENl5HE",
        "outputId": "365cba3f-d335-4959-841f-13a41cf369dd"
      },
      "source": [
        "shape"
      ],
      "execution_count": null,
      "outputs": [
        {
          "output_type": "error",
          "ename": "NameError",
          "evalue": "ignored",
          "traceback": [
            "\u001b[0;31m---------------------------------------------------------------------------\u001b[0m",
            "\u001b[0;31mNameError\u001b[0m                                 Traceback (most recent call last)",
            "\u001b[0;32m<ipython-input-7-8ae9a22b4037>\u001b[0m in \u001b[0;36m<module>\u001b[0;34m()\u001b[0m\n\u001b[0;32m----> 1\u001b[0;31m \u001b[0mshape\u001b[0m\u001b[0;34m\u001b[0m\u001b[0;34m\u001b[0m\u001b[0m\n\u001b[0m",
            "\u001b[0;31mNameError\u001b[0m: name 'shape' is not defined"
          ]
        }
      ]
    },
    {
      "cell_type": "code",
      "metadata": {
        "id": "K9oi5L4dl6WQ"
      },
      "source": [
        "adj_matrix = np.ndarray(share, dtype=int)"
      ],
      "execution_count": null,
      "outputs": []
    },
    {
      "cell_type": "code",
      "metadata": {
        "id": "AsjEfwUSl-8H"
      },
      "source": [
        "for user_id, movie_id, rating, time in raw_data:\n",
        "  adj_matrix[user_id][movie_id] = rating\n",
        "  "
      ],
      "execution_count": null,
      "outputs": []
    },
    {
      "cell_type": "code",
      "metadata": {
        "colab": {
          "base_uri": "https://localhost:8080/"
        },
        "id": "U05pwGHbmGDr",
        "outputId": "d02f1d33-e113-4093-919a-be38f0b0c920"
      },
      "source": [
        "adj_matrix"
      ],
      "execution_count": null,
      "outputs": [
        {
          "output_type": "execute_result",
          "data": {
            "text/plain": [
              "array([[5, 3, 4, ..., 0, 0, 0],\n",
              "       [4, 0, 0, ..., 0, 0, 0],\n",
              "       [0, 0, 0, ..., 0, 0, 0],\n",
              "       ...,\n",
              "       [5, 0, 0, ..., 0, 0, 0],\n",
              "       [0, 0, 0, ..., 0, 0, 0],\n",
              "       [0, 5, 0, ..., 0, 0, 0]])"
            ]
          },
          "metadata": {
            "tags": []
          },
          "execution_count": 10
        }
      ]
    },
    {
      "cell_type": "code",
      "metadata": {
        "id": "Xaoqgo99mHPJ"
      },
      "source": [
        "# U: user\n",
        "# V: item\n",
        "# S: singular vector\n",
        "U, S, V = randomized_svd(adj_matrix, n_components=2)"
      ],
      "execution_count": null,
      "outputs": []
    },
    {
      "cell_type": "code",
      "metadata": {
        "id": "U3k8jimKmjeD"
      },
      "source": [
        "S = np.diag(S)"
      ],
      "execution_count": null,
      "outputs": []
    },
    {
      "cell_type": "code",
      "metadata": {
        "colab": {
          "base_uri": "https://localhost:8080/"
        },
        "id": "qSr7DJb7mp1j",
        "outputId": "54d0c783-23a8-425a-f4f8-be68a38f5643"
      },
      "source": [
        "print(U.shape, S.shape, V.shape)"
      ],
      "execution_count": null,
      "outputs": [
        {
          "output_type": "stream",
          "text": [
            "(943, 2) (2, 2) (2, 1682)\n"
          ],
          "name": "stdout"
        }
      ]
    },
    {
      "cell_type": "markdown",
      "metadata": {
        "id": "Kz9Z03HEtjBF"
      },
      "source": [
        "S는 latent factor에 대한 특잇값 행렬"
      ]
    },
    {
      "cell_type": "code",
      "metadata": {
        "colab": {
          "base_uri": "https://localhost:8080/"
        },
        "id": "a9UOpauImu0N",
        "outputId": "c54fdecb-e9a7-40bc-fae3-330a8bc13a89"
      },
      "source": [
        "np.matmul(np.matmul(U, S), V)"
      ],
      "execution_count": null,
      "outputs": [
        {
          "output_type": "execute_result",
          "data": {
            "text/plain": [
              "array([[ 3.91732663e+00,  1.47276644e+00,  7.98261988e-01, ...,\n",
              "         6.24907189e-04,  1.41100852e-02,  1.36545878e-02],\n",
              "       [ 1.85777226e+00,  3.96191175e-01,  5.05705740e-01, ...,\n",
              "         5.38862978e-03,  1.77237914e-03,  5.26968095e-04],\n",
              "       [ 8.94989517e-01,  1.71578497e-01,  2.51738682e-01, ...,\n",
              "         2.92094923e-03,  5.39937171e-04, -1.25733753e-04],\n",
              "       ...,\n",
              "       [ 9.92051955e-01,  2.10814957e-01,  2.70363365e-01, ...,\n",
              "         2.89019297e-03,  9.34221962e-04,  2.66612193e-04],\n",
              "       [ 1.30425401e+00,  5.27669941e-01,  2.50080165e-01, ...,\n",
              "        -4.20677765e-04,  5.30525683e-03,  5.28069948e-03],\n",
              "       [ 2.82999397e+00,  9.70812247e-01,  6.15871694e-01, ...,\n",
              "         2.02091492e-03,  8.67740813e-03,  8.03107892e-03]])"
            ]
          },
          "metadata": {
            "tags": []
          },
          "execution_count": 14
        }
      ]
    },
    {
      "cell_type": "code",
      "metadata": {
        "id": "1kwPEFv-tuWT"
      },
      "source": [
        "best_match, best_match_id, best_match_vector = find_best_match(0, U[0], U, compute_cos_sim)"
      ],
      "execution_count": null,
      "outputs": []
    },
    {
      "cell_type": "markdown",
      "metadata": {
        "id": "ooDUWt-NuFao"
      },
      "source": [
        "## 사용자 기반 추천"
      ]
    },
    {
      "cell_type": "code",
      "metadata": {
        "colab": {
          "base_uri": "https://localhost:8080/"
        },
        "id": "dVqkzsJ8u2YT",
        "outputId": "a1bff25c-7bea-4b11-9478-123c678d1ce9"
      },
      "source": [
        "print('best match {}, best match id {}'.format(best_match, best_match_id))"
      ],
      "execution_count": null,
      "outputs": [
        {
          "output_type": "stream",
          "text": [
            "best match 0.9999942295956324, best match id 235\n"
          ],
          "name": "stdout"
        }
      ]
    },
    {
      "cell_type": "markdown",
      "metadata": {
        "id": "px0meOM-u_Wa"
      },
      "source": [
        "SVD -> cosine sim의 경우 96%\n",
        "즉, latent factor model의 성능이 좋음을 알 수 있음"
      ]
    },
    {
      "cell_type": "code",
      "metadata": {
        "id": "j0K80ZUAu2nd"
      },
      "source": [
        "recommend_list = get_recommend_list(adj_matrix[0], adj_matrix[best_match_id])"
      ],
      "execution_count": null,
      "outputs": []
    },
    {
      "cell_type": "code",
      "metadata": {
        "colab": {
          "base_uri": "https://localhost:8080/"
        },
        "id": "BWFRLURbv456",
        "outputId": "2e7ce905-f72c-4675-d9ff-6ff679891060"
      },
      "source": [
        "print(recommend_list)"
      ],
      "execution_count": null,
      "outputs": [
        {
          "output_type": "stream",
          "text": [
            "[272, 273, 274, 281, 285, 288, 293, 297, 303, 306, 312, 317, 327, 332, 369, 410, 418, 419, 422, 426, 428, 431, 434, 442, 461, 475, 477, 482, 495, 503, 504, 505, 506, 509, 519, 520, 522, 525, 531, 545, 548, 590, 594, 595, 613, 631, 654, 658, 660, 672, 684, 685, 691, 695, 698, 704, 716, 728, 734, 749, 755, 863, 865, 933, 1012, 1038, 1101, 1327, 1400]\n"
          ],
          "name": "stdout"
        }
      ]
    },
    {
      "cell_type": "markdown",
      "metadata": {
        "id": "RnALltTmwOvB"
      },
      "source": [
        "##  항목 기반 추천\n"
      ]
    },
    {
      "cell_type": "markdown",
      "metadata": {
        "id": "nKK6l-D-wkg8"
      },
      "source": [
        "앞서 U(즉, user), 여기서는 item인 V를 사용\n",
        "V는 transpose 필요"
      ]
    },
    {
      "cell_type": "code",
      "metadata": {
        "id": "bAeIEG9xv522"
      },
      "source": [
        "best_match, best_match_id, best_match_vector = find_best_match(0, V.T[0], V.T, compute_cos_sim)"
      ],
      "execution_count": null,
      "outputs": []
    },
    {
      "cell_type": "code",
      "metadata": {
        "colab": {
          "base_uri": "https://localhost:8080/"
        },
        "id": "7CLsPDnqwb9e",
        "outputId": "011c87a2-d923-409a-fea8-b2484f2e0cb1"
      },
      "source": [
        "print('best match {}, best match id {}'.format(best_match, best_match_id))"
      ],
      "execution_count": null,
      "outputs": [
        {
          "output_type": "stream",
          "text": [
            "best match 0.9999999951364145, best match id 1287\n"
          ],
          "name": "stdout"
        }
      ]
    },
    {
      "cell_type": "code",
      "metadata": {
        "id": "DJBLTnAlwdZ3"
      },
      "source": [
        "def get_recommend_list_lfm(matrix, my_id):\n",
        "  recommend_list = []\n",
        "  for i, user_vector in enumerate(matrix):\n",
        "    if adj_matrix[i][my_id] > 0.9:\n",
        "      recommend_list += i,\n",
        "\n",
        "  return recommend_list\n"
      ],
      "execution_count": null,
      "outputs": []
    },
    {
      "cell_type": "code",
      "metadata": {
        "colab": {
          "base_uri": "https://localhost:8080/"
        },
        "id": "XbFnLsVqxJAv",
        "outputId": "4ac4e4c3-65e1-41f5-fa33-d8fad74f233e"
      },
      "source": [
        "print(get_recommend_list_lfm(adj_matrix, 0))"
      ],
      "execution_count": null,
      "outputs": [
        {
          "output_type": "stream",
          "text": [
            "[0, 1, 4, 5, 9, 12, 14, 15, 16, 17, 19, 20, 22, 24, 25, 37, 40, 41, 42, 43, 44, 48, 53, 55, 56, 57, 58, 61, 62, 63, 64, 65, 66, 69, 71, 72, 74, 76, 78, 80, 81, 82, 83, 88, 91, 92, 93, 94, 95, 96, 98, 100, 101, 105, 107, 108, 116, 119, 120, 123, 124, 127, 129, 130, 133, 136, 137, 140, 143, 144, 147, 149, 150, 156, 157, 159, 161, 167, 173, 176, 177, 180, 181, 183, 188, 192, 193, 197, 198, 199, 200, 201, 202, 203, 208, 209, 212, 215, 221, 222, 229, 230, 231, 233, 234, 241, 242, 243, 245, 246, 247, 248, 249, 250, 251, 252, 253, 255, 261, 262, 264, 267, 270, 273, 274, 275, 276, 278, 279, 285, 286, 288, 289, 290, 291, 292, 293, 294, 295, 296, 297, 298, 300, 302, 304, 306, 307, 310, 311, 312, 313, 319, 321, 323, 324, 325, 326, 329, 330, 331, 335, 337, 338, 339, 342, 343, 344, 346, 347, 349, 356, 358, 359, 362, 364, 370, 373, 377, 378, 379, 380, 386, 387, 388, 389, 392, 393, 394, 395, 397, 398, 400, 401, 402, 405, 406, 410, 411, 415, 416, 418, 421, 423, 424, 428, 431, 433, 434, 437, 440, 444, 446, 449, 453, 454, 455, 456, 457, 458, 459, 462, 464, 466, 467, 469, 470, 471, 477, 478, 482, 483, 485, 486, 487, 489, 492, 493, 494, 496, 499, 502, 504, 507, 511, 513, 516, 517, 520, 522, 524, 525, 531, 532, 533, 534, 535, 536, 539, 540, 541, 544, 547, 548, 549, 551, 552, 553, 559, 560, 561, 566, 568, 575, 576, 578, 579, 581, 587, 591, 592, 596, 598, 601, 604, 605, 608, 609, 611, 612, 613, 617, 619, 620, 621, 623, 629, 631, 633, 634, 635, 636, 641, 642, 647, 648, 649, 652, 653, 654, 656, 657, 659, 660, 662, 663, 664, 668, 673, 675, 676, 677, 678, 679, 681, 683, 688, 689, 690, 691, 696, 697, 698, 700, 702, 704, 705, 707, 708, 709, 713, 714, 715, 720, 722, 725, 726, 729, 730, 732, 734, 737, 741, 743, 744, 745, 746, 747, 748, 750, 755, 756, 758, 760, 762, 763, 766, 767, 768, 769, 770, 772, 776, 778, 784, 785, 787, 788, 789, 791, 792, 793, 794, 795, 797, 799, 803, 804, 805, 806, 814, 816, 820, 821, 822, 825, 828, 829, 830, 834, 837, 838, 842, 846, 851, 853, 863, 864, 866, 867, 869, 871, 878, 879, 880, 881, 882, 884, 885, 886, 888, 889, 891, 892, 893, 894, 895, 896, 898, 900, 901, 902, 906, 909, 912, 915, 916, 917, 918, 920, 921, 922, 923, 926, 928, 929, 931, 932, 933, 934, 935, 937, 940]\n"
          ],
          "name": "stdout"
        }
      ]
    },
    {
      "cell_type": "markdown",
      "metadata": {
        "id": "qNbQcSA1xRiK"
      },
      "source": [
        "## 비음수 행렬 분해를 사용한 hybrid 추천"
      ]
    },
    {
      "cell_type": "code",
      "metadata": {
        "colab": {
          "base_uri": "https://localhost:8080/"
        },
        "id": "1Pw7dYTAxLmr",
        "outputId": "9cecd72d-c98d-4363-8e41-65979d649704"
      },
      "source": [
        "adj_matrix"
      ],
      "execution_count": null,
      "outputs": [
        {
          "output_type": "execute_result",
          "data": {
            "text/plain": [
              "array([[5, 3, 4, ..., 0, 0, 0],\n",
              "       [4, 0, 0, ..., 0, 0, 0],\n",
              "       [0, 0, 0, ..., 0, 0, 0],\n",
              "       ...,\n",
              "       [5, 0, 0, ..., 0, 0, 0],\n",
              "       [0, 0, 0, ..., 0, 0, 0],\n",
              "       [0, 5, 0, ..., 0, 0, 0]])"
            ]
          },
          "metadata": {
            "tags": []
          },
          "execution_count": 37
        }
      ]
    },
    {
      "cell_type": "code",
      "metadata": {
        "colab": {
          "base_uri": "https://localhost:8080/"
        },
        "id": "OmTMRW0UxVM_",
        "outputId": "7674d1aa-1be8-41e8-829e-d953d350d6d4"
      },
      "source": [
        "A, B, iter = non_negative_factorization(adj_matrix, n_components=2)"
      ],
      "execution_count": null,
      "outputs": [
        {
          "output_type": "stream",
          "text": [
            "/usr/local/lib/python3.7/dist-packages/sklearn/decomposition/_nmf.py:1035: FutureWarning: The default value of init will change from random to None in 0.23 to make it consistent with decomposition.NMF.\n",
            "  \"with decomposition.NMF.\", FutureWarning)\n"
          ],
          "name": "stderr"
        }
      ]
    },
    {
      "cell_type": "code",
      "metadata": {
        "colab": {
          "base_uri": "https://localhost:8080/"
        },
        "id": "0RwvTMy5xZVI",
        "outputId": "e29c86d7-d6c4-4c53-e362-6e4b8b7ec336"
      },
      "source": [
        "np.matmul(A, B)"
      ],
      "execution_count": null,
      "outputs": [
        {
          "output_type": "execute_result",
          "data": {
            "text/plain": [
              "array([[3.71104575e+00, 1.48477418e+00, 7.39554024e-01, ...,\n",
              "        3.64524635e-03, 1.45528284e-02, 1.44126854e-02],\n",
              "       [2.11740262e+00, 2.36758375e-01, 5.51611538e-01, ...,\n",
              "        4.76689390e-03, 2.46533278e-05, 0.00000000e+00],\n",
              "       [9.85430825e-01, 1.10186414e-01, 2.56717834e-01, ...,\n",
              "        2.21849362e-03, 1.14735615e-05, 0.00000000e+00],\n",
              "       ...,\n",
              "       [1.04463613e+00, 1.16806483e-01, 2.72141603e-01, ...,\n",
              "        2.35178211e-03, 1.21629003e-05, 0.00000000e+00],\n",
              "       [1.45790352e+00, 5.42099426e-01, 2.99288597e-01, ...,\n",
              "        1.61342606e-03, 5.15834843e-03, 5.10702576e-03],\n",
              "       [2.44663560e+00, 9.41419347e-01, 4.95534900e-01, ...,\n",
              "        2.56819760e-03, 9.08627080e-03, 8.99727174e-03]])"
            ]
          },
          "metadata": {
            "tags": []
          },
          "execution_count": 39
        }
      ]
    },
    {
      "cell_type": "code",
      "metadata": {
        "colab": {
          "base_uri": "https://localhost:8080/"
        },
        "id": "DyAYAd6Cxa3r",
        "outputId": "8b61e529-7bb5-4627-cd45-b6f7a804f404"
      },
      "source": [
        "best_match, best_match_id, best_match_vector = find_best_match(0, U[0], U, compute_cos_sim)\n",
        "print('best match {}, best match id {}'.format(best_match, best_match_id))"
      ],
      "execution_count": null,
      "outputs": [
        {
          "output_type": "stream",
          "text": [
            "best match 0.9999942295956324, best match id 235\n"
          ],
          "name": "stdout"
        }
      ]
    },
    {
      "cell_type": "code",
      "metadata": {
        "colab": {
          "base_uri": "https://localhost:8080/"
        },
        "id": "VWbIavmxx8AI",
        "outputId": "b56635fa-8548-4748-8792-d9b5f9809fd5"
      },
      "source": [
        "print(get_recommend_list_lfm(adj_matrix, 0))"
      ],
      "execution_count": null,
      "outputs": [
        {
          "output_type": "stream",
          "text": [
            "[0, 1, 4, 5, 9, 12, 14, 15, 16, 17, 19, 20, 22, 24, 25, 37, 40, 41, 42, 43, 44, 48, 53, 55, 56, 57, 58, 61, 62, 63, 64, 65, 66, 69, 71, 72, 74, 76, 78, 80, 81, 82, 83, 88, 91, 92, 93, 94, 95, 96, 98, 100, 101, 105, 107, 108, 116, 119, 120, 123, 124, 127, 129, 130, 133, 136, 137, 140, 143, 144, 147, 149, 150, 156, 157, 159, 161, 167, 173, 176, 177, 180, 181, 183, 188, 192, 193, 197, 198, 199, 200, 201, 202, 203, 208, 209, 212, 215, 221, 222, 229, 230, 231, 233, 234, 241, 242, 243, 245, 246, 247, 248, 249, 250, 251, 252, 253, 255, 261, 262, 264, 267, 270, 273, 274, 275, 276, 278, 279, 285, 286, 288, 289, 290, 291, 292, 293, 294, 295, 296, 297, 298, 300, 302, 304, 306, 307, 310, 311, 312, 313, 319, 321, 323, 324, 325, 326, 329, 330, 331, 335, 337, 338, 339, 342, 343, 344, 346, 347, 349, 356, 358, 359, 362, 364, 370, 373, 377, 378, 379, 380, 386, 387, 388, 389, 392, 393, 394, 395, 397, 398, 400, 401, 402, 405, 406, 410, 411, 415, 416, 418, 421, 423, 424, 428, 431, 433, 434, 437, 440, 444, 446, 449, 453, 454, 455, 456, 457, 458, 459, 462, 464, 466, 467, 469, 470, 471, 477, 478, 482, 483, 485, 486, 487, 489, 492, 493, 494, 496, 499, 502, 504, 507, 511, 513, 516, 517, 520, 522, 524, 525, 531, 532, 533, 534, 535, 536, 539, 540, 541, 544, 547, 548, 549, 551, 552, 553, 559, 560, 561, 566, 568, 575, 576, 578, 579, 581, 587, 591, 592, 596, 598, 601, 604, 605, 608, 609, 611, 612, 613, 617, 619, 620, 621, 623, 629, 631, 633, 634, 635, 636, 641, 642, 647, 648, 649, 652, 653, 654, 656, 657, 659, 660, 662, 663, 664, 668, 673, 675, 676, 677, 678, 679, 681, 683, 688, 689, 690, 691, 696, 697, 698, 700, 702, 704, 705, 707, 708, 709, 713, 714, 715, 720, 722, 725, 726, 729, 730, 732, 734, 737, 741, 743, 744, 745, 746, 747, 748, 750, 755, 756, 758, 760, 762, 763, 766, 767, 768, 769, 770, 772, 776, 778, 784, 785, 787, 788, 789, 791, 792, 793, 794, 795, 797, 799, 803, 804, 805, 806, 814, 816, 820, 821, 822, 825, 828, 829, 830, 834, 837, 838, 842, 846, 851, 853, 863, 864, 866, 867, 869, 871, 878, 879, 880, 881, 882, 884, 885, 886, 888, 889, 891, 892, 893, 894, 895, 896, 898, 900, 901, 902, 906, 909, 912, 915, 916, 917, 918, 920, 921, 922, 923, 926, 928, 929, 931, 932, 933, 934, 935, 937, 940]\n"
          ],
          "name": "stdout"
        }
      ]
    },
    {
      "cell_type": "markdown",
      "metadata": {
        "id": "e9S8AkuCx8rT"
      },
      "source": [
        ""
      ]
    },
    {
      "cell_type": "code",
      "metadata": {
        "colab": {
          "base_uri": "https://localhost:8080/"
        },
        "id": "nwCZTsGwxiOe",
        "outputId": "9b9fb23b-3eb7-4b02-ca34-474344ce1b61"
      },
      "source": [
        "best_match, best_match_id, best_match_vector = find_best_match(0, V.T[0], V.T, compute_cos_sim)\n",
        "print('best match {}, best match id {}'.format(best_match, best_match_id))"
      ],
      "execution_count": null,
      "outputs": [
        {
          "output_type": "stream",
          "text": [
            "best match 0.9999999951364145, best match id 1287\n"
          ],
          "name": "stdout"
        }
      ]
    },
    {
      "cell_type": "code",
      "metadata": {
        "colab": {
          "base_uri": "https://localhost:8080/"
        },
        "id": "eV9AL5WhxnbL",
        "outputId": "b2a1df72-136e-4ea5-e1f2-4b323fd37229"
      },
      "source": [
        "print(get_recommend_list_lfm(adj_matrix, 0))"
      ],
      "execution_count": null,
      "outputs": [
        {
          "output_type": "stream",
          "text": [
            "[0, 1, 4, 5, 9, 12, 14, 15, 16, 17, 19, 20, 22, 24, 25, 37, 40, 41, 42, 43, 44, 48, 53, 55, 56, 57, 58, 61, 62, 63, 64, 65, 66, 69, 71, 72, 74, 76, 78, 80, 81, 82, 83, 88, 91, 92, 93, 94, 95, 96, 98, 100, 101, 105, 107, 108, 116, 119, 120, 123, 124, 127, 129, 130, 133, 136, 137, 140, 143, 144, 147, 149, 150, 156, 157, 159, 161, 167, 173, 176, 177, 180, 181, 183, 188, 192, 193, 197, 198, 199, 200, 201, 202, 203, 208, 209, 212, 215, 221, 222, 229, 230, 231, 233, 234, 241, 242, 243, 245, 246, 247, 248, 249, 250, 251, 252, 253, 255, 261, 262, 264, 267, 270, 273, 274, 275, 276, 278, 279, 285, 286, 288, 289, 290, 291, 292, 293, 294, 295, 296, 297, 298, 300, 302, 304, 306, 307, 310, 311, 312, 313, 319, 321, 323, 324, 325, 326, 329, 330, 331, 335, 337, 338, 339, 342, 343, 344, 346, 347, 349, 356, 358, 359, 362, 364, 370, 373, 377, 378, 379, 380, 386, 387, 388, 389, 392, 393, 394, 395, 397, 398, 400, 401, 402, 405, 406, 410, 411, 415, 416, 418, 421, 423, 424, 428, 431, 433, 434, 437, 440, 444, 446, 449, 453, 454, 455, 456, 457, 458, 459, 462, 464, 466, 467, 469, 470, 471, 477, 478, 482, 483, 485, 486, 487, 489, 492, 493, 494, 496, 499, 502, 504, 507, 511, 513, 516, 517, 520, 522, 524, 525, 531, 532, 533, 534, 535, 536, 539, 540, 541, 544, 547, 548, 549, 551, 552, 553, 559, 560, 561, 566, 568, 575, 576, 578, 579, 581, 587, 591, 592, 596, 598, 601, 604, 605, 608, 609, 611, 612, 613, 617, 619, 620, 621, 623, 629, 631, 633, 634, 635, 636, 641, 642, 647, 648, 649, 652, 653, 654, 656, 657, 659, 660, 662, 663, 664, 668, 673, 675, 676, 677, 678, 679, 681, 683, 688, 689, 690, 691, 696, 697, 698, 700, 702, 704, 705, 707, 708, 709, 713, 714, 715, 720, 722, 725, 726, 729, 730, 732, 734, 737, 741, 743, 744, 745, 746, 747, 748, 750, 755, 756, 758, 760, 762, 763, 766, 767, 768, 769, 770, 772, 776, 778, 784, 785, 787, 788, 789, 791, 792, 793, 794, 795, 797, 799, 803, 804, 805, 806, 814, 816, 820, 821, 822, 825, 828, 829, 830, 834, 837, 838, 842, 846, 851, 853, 863, 864, 866, 867, 869, 871, 878, 879, 880, 881, 882, 884, 885, 886, 888, 889, 891, 892, 893, 894, 895, 896, 898, 900, 901, 902, 906, 909, 912, 915, 916, 917, 918, 920, 921, 922, 923, 926, 928, 929, 931, 932, 933, 934, 935, 937, 940]\n"
          ],
          "name": "stdout"
        }
      ]
    },
    {
      "cell_type": "code",
      "metadata": {
        "id": "xtwdULvZyAMf"
      },
      "source": [
        ""
      ],
      "execution_count": null,
      "outputs": []
    }
  ]
}