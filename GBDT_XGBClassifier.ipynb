{
  "nbformat": 4,
  "nbformat_minor": 0,
  "metadata": {
    "colab": {
      "name": "GBDT_XGBClassifier.ipynb",
      "provenance": [],
      "authorship_tag": "ABX9TyNJOO95NTIiEqIwDerAtAMH",
      "include_colab_link": true
    },
    "kernelspec": {
      "name": "python3",
      "display_name": "Python 3"
    },
    "language_info": {
      "name": "python"
    }
  },
  "cells": [
    {
      "cell_type": "markdown",
      "metadata": {
        "id": "view-in-github",
        "colab_type": "text"
      },
      "source": [
        "<a href=\"https://colab.research.google.com/github/roiei/ml_study/blob/master/GBDT_XGBClassifier.ipynb\" target=\"_parent\"><img src=\"https://colab.research.google.com/assets/colab-badge.svg\" alt=\"Open In Colab\"/></a>"
      ]
    },
    {
      "cell_type": "code",
      "metadata": {
        "id": "ct8fh_19OAR_"
      },
      "source": [
        "import pandas as pd\n",
        "import numpy as np\n",
        "import matplotlib.pyplot as plt\n",
        "%matplotlib inline\n",
        "\n",
        "from sklearn.model_selection import train_test_split\n",
        "from sklearn.metrics import accuracy_score, precision_score, recall_score, roc_auc_score\n",
        "from sklearn.metrics import f1_score, confusion_matrix, precision_recall_curve, roc_curve\n",
        "from sklearn.preprocessing import StandardScaler, Binarizer\n",
        "from sklearn.linear_model import LogisticRegression\n",
        "\n",
        "import warnings\n",
        "warnings.filterwarnings('ignore')"
      ],
      "execution_count": null,
      "outputs": []
    },
    {
      "cell_type": "markdown",
      "metadata": {
        "id": "7qfBp4sToxes"
      },
      "source": [
        "# 피마 인디언 당뇨병 예측"
      ]
    },
    {
      "cell_type": "markdown",
      "metadata": {
        "id": "D4IqSc8Ko1oY"
      },
      "source": [
        "768명의 인디언으로부터 8개의 속성과1 개의 클래스로 되어있는 csv 파일\n",
        "\n"
      ]
    },
    {
      "cell_type": "markdown",
      "metadata": {
        "id": "1_TMoimeo0IB"
      },
      "source": [
        "### www.kaggle.com/kumargh/pimaindiansdiabetescsv?select=pima-indians-diabetes.csv"
      ]
    },
    {
      "cell_type": "markdown",
      "metadata": {
        "id": "9XUftQegnq1X"
      },
      "source": [
        ""
      ]
    },
    {
      "cell_type": "code",
      "metadata": {
        "id": "2yGgI_bzOFzM"
      },
      "source": [
        "# from https://www.kaggle.com/kumargh/pimaindiansdiabetescsv\n",
        "diabetes_data = pd.read_csv('pima-indians-diabetes.csv')\n"
      ],
      "execution_count": null,
      "outputs": []
    },
    {
      "cell_type": "code",
      "metadata": {
        "id": "FBdjstmoO_mt"
      },
      "source": [
        "diabetes_data.columns = ['pregnancies', 'glucose', 'blood_pressure', 'skin_thinkness', 'insulin', 'BMI', 'diabetespedigreefunction', 'age', 'Outcome']"
      ],
      "execution_count": null,
      "outputs": []
    },
    {
      "cell_type": "code",
      "metadata": {
        "id": "UIq8e5P3pInz"
      },
      "source": [
        ""
      ],
      "execution_count": null,
      "outputs": []
    },
    {
      "cell_type": "markdown",
      "metadata": {
        "id": "r43QmJzIoZGD"
      },
      "source": [
        "1. Number of times pregnant\n",
        "2. Plasma glucose concentration a 2 hours in an oral glucose tolerance test\n",
        "3. Diastolic blood pressure (mm Hg)\n",
        "4. Triceps skin fold thickness (mm)\n",
        "5. 2-Hour serum insulin (mu U/ml)\n",
        "6. Body mass index (weight in kg/(height in m)^2)\n",
        "7. Diabetes pedigree function\n",
        "8. Age (years)\n",
        "9. Class variable (0 or 1)"
      ]
    },
    {
      "cell_type": "code",
      "metadata": {
        "colab": {
          "base_uri": "https://localhost:8080/"
        },
        "id": "DBroXm3tpJEq",
        "outputId": "23241158-02e7-4716-89a9-50a0e695a5fd"
      },
      "source": [
        "#임신횟수에 따른 당뇨병의 발병 예측\n",
        "print(diabetes_data[['pregnancies','Outcome']].groupby(['pregnancies'],as_index=False).mean().sort_values(by='pregnancies',ascending=True))\n"
      ],
      "execution_count": null,
      "outputs": [
        {
          "output_type": "stream",
          "text": [
            "    pregnancies   Outcome\n",
            "0             0  0.342342\n",
            "1             1  0.214815\n",
            "2             2  0.184466\n",
            "3             3  0.360000\n",
            "4             4  0.338235\n",
            "5             5  0.368421\n",
            "6             6  0.306122\n",
            "7             7  0.555556\n",
            "8             8  0.578947\n",
            "9             9  0.642857\n",
            "10           10  0.416667\n",
            "11           11  0.636364\n",
            "12           12  0.444444\n",
            "13           13  0.500000\n",
            "14           14  1.000000\n",
            "15           15  1.000000\n",
            "16           17  1.000000\n"
          ],
          "name": "stdout"
        }
      ]
    },
    {
      "cell_type": "code",
      "metadata": {
        "colab": {
          "base_uri": "https://localhost:8080/",
          "height": 822
        },
        "id": "Gpddl6TxpJIv",
        "outputId": "83baa1b4-79ba-46cb-8493-8ed90444ba5d"
      },
      "source": [
        "import matplotlib.pyplot as plt \n",
        "import seaborn as sns \n",
        "\n",
        "#그래프의 크기 결정\n",
        "plt.figure(figsize=(12,12))\n",
        "\n",
        "#각 항목 간의 상관관계를 나타내주는 heatmap() 함수를 통해 그래프 표시 #두 항목을 짝지은 뒤 어떤 패턴으로 변화하는지 관찰하는 함수 다르면 0 같으면 1에 수렴\n",
        "sns.heatmap(diabetes_data.corr(),linewidths=0.1,vmax=0.5,cmap=plt.cm.gist_heat,linecolor='white',annot=True)\n",
        "\n",
        "#vmax 는 색상의 밝기를 조절하는 cmap 은 미리 정해진 matpliolib 색상의 설정값 불러오기\n",
        "plt.show()\n"
      ],
      "execution_count": null,
      "outputs": [
        {
          "output_type": "display_data",
          "data": {
            "image/png": "[encoded data removed]",
            "text/plain": [
              "<Figure size 864x864 with 2 Axes>"
            ]
          },
          "metadata": {
            "needs_background": "light"
          }
        }
      ]
    },
    {
      "cell_type": "code",
      "metadata": {
        "colab": {
          "base_uri": "https://localhost:8080/",
          "height": 225
        },
        "id": "9g-qQJrDpJMl",
        "outputId": "1150c5f1-58dd-4217-ee20-7781b6f3ee0e"
      },
      "source": [
        "grid = sns.FacetGrid(diabetes_data,col='Outcome')\n",
        "grid.map(plt.hist,'glucose',bins=10)\n",
        "plt.show()\n"
      ],
      "execution_count": null,
      "outputs": [
        {
          "output_type": "display_data",
          "data": {
            "image/png": "[encoded data removed]",
            "text/plain": [
              "<Figure size 432x216 with 2 Axes>"
            ]
          },
          "metadata": {
            "needs_background": "light"
          }
        }
      ]
    },
    {
      "cell_type": "code",
      "metadata": {
        "id": "tMmFWo5EscNP",
        "colab": {
          "base_uri": "https://localhost:8080/",
          "height": 142
        },
        "outputId": "8fc8c156-49ed-44ca-d1a2-d07f3426a8a1"
      },
      "source": [
        "diabetes_data.head(3)"
      ],
      "execution_count": null,
      "outputs": [
        {
          "output_type": "execute_result",
          "data": {
            "text/html": [
              "<div>\n",
              "<style scoped>\n",
              "    .dataframe tbody tr th:only-of-type {\n",
              "        vertical-align: middle;\n",
              "    }\n",
              "\n",
              "    .dataframe tbody tr th {\n",
              "        vertical-align: top;\n",
              "    }\n",
              "\n",
              "    .dataframe thead th {\n",
              "        text-align: right;\n",
              "    }\n",
              "</style>\n",
              "<table border=\"1\" class=\"dataframe\">\n",
              "  <thead>\n",
              "    <tr style=\"text-align: right;\">\n",
              "      <th></th>\n",
              "      <th>pregnancies</th>\n",
              "      <th>glucose</th>\n",
              "      <th>blood_pressure</th>\n",
              "      <th>skin_thinkness</th>\n",
              "      <th>insulin</th>\n",
              "      <th>BMI</th>\n",
              "      <th>diabetespedigreefunction</th>\n",
              "      <th>age</th>\n",
              "      <th>Outcome</th>\n",
              "    </tr>\n",
              "  </thead>\n",
              "  <tbody>\n",
              "    <tr>\n",
              "      <th>0</th>\n",
              "      <td>1</td>\n",
              "      <td>85</td>\n",
              "      <td>66</td>\n",
              "      <td>29</td>\n",
              "      <td>0</td>\n",
              "      <td>26.6</td>\n",
              "      <td>0.351</td>\n",
              "      <td>31</td>\n",
              "      <td>0</td>\n",
              "    </tr>\n",
              "    <tr>\n",
              "      <th>1</th>\n",
              "      <td>8</td>\n",
              "      <td>183</td>\n",
              "      <td>64</td>\n",
              "      <td>0</td>\n",
              "      <td>0</td>\n",
              "      <td>23.3</td>\n",
              "      <td>0.672</td>\n",
              "      <td>32</td>\n",
              "      <td>1</td>\n",
              "    </tr>\n",
              "    <tr>\n",
              "      <th>2</th>\n",
              "      <td>1</td>\n",
              "      <td>89</td>\n",
              "      <td>66</td>\n",
              "      <td>23</td>\n",
              "      <td>94</td>\n",
              "      <td>28.1</td>\n",
              "      <td>0.167</td>\n",
              "      <td>21</td>\n",
              "      <td>0</td>\n",
              "    </tr>\n",
              "  </tbody>\n",
              "</table>\n",
              "</div>"
            ],
            "text/plain": [
              "   pregnancies  glucose  blood_pressure  ...  diabetespedigreefunction  age  Outcome\n",
              "0            1       85              66  ...                     0.351   31        0\n",
              "1            8      183              64  ...                     0.672   32        1\n",
              "2            1       89              66  ...                     0.167   21        0\n",
              "\n",
              "[3 rows x 9 columns]"
            ]
          },
          "metadata": {},
          "execution_count": 30
        }
      ]
    },
    {
      "cell_type": "markdown",
      "metadata": {
        "id": "reqXsg6n4ut_"
      },
      "source": [
        ""
      ]
    },
    {
      "cell_type": "code",
      "metadata": {
        "id": "h4HlcOhI4u8s"
      },
      "source": [
        ""
      ],
      "execution_count": null,
      "outputs": []
    },
    {
      "cell_type": "code",
      "metadata": {
        "id": "6_agQebP43Q1"
      },
      "source": [
        ""
      ],
      "execution_count": null,
      "outputs": []
    },
    {
      "cell_type": "markdown",
      "metadata": {
        "id": "WiLGs00c43Zi"
      },
      "source": [
        "# 평가지표 출력하는 함수 설정"
      ]
    },
    {
      "cell_type": "code",
      "metadata": {
        "id": "OJupf7034u_X"
      },
      "source": [
        "def get_clf_eval(y_test, y_pred):\n",
        "    confusion = confusion_matrix(y_test, y_pred)\n",
        "    accuracy = accuracy_score(y_test, y_pred)\n",
        "    precision = precision_score(y_test, y_pred)\n",
        "    recall = recall_score(y_test, y_pred)\n",
        "    F1 = f1_score(y_test, y_pred)\n",
        "    AUC = roc_auc_score(y_test, y_pred)\n",
        "    \n",
        "    print('오차행렬:\\n', confusion)\n",
        "    print('\\n정확도: {:.4f}'.format(accuracy))\n",
        "    print('정밀도: {:.4f}'.format(precision))\n",
        "    print('재현율: {:.4f}'.format(recall))\n",
        "    print('F1: {:.4f}'.format(F1))\n",
        "    print('AUC: {:.4f}'.format(AUC))"
      ],
      "execution_count": null,
      "outputs": []
    },
    {
      "cell_type": "code",
      "metadata": {
        "id": "zU6sSCzY8w_l"
      },
      "source": [
        ""
      ],
      "execution_count": null,
      "outputs": []
    },
    {
      "cell_type": "markdown",
      "metadata": {
        "id": "FdrcXG9B4xVX"
      },
      "source": [
        "# Precision-Recall Curve Plot 그리기"
      ]
    },
    {
      "cell_type": "code",
      "metadata": {
        "id": "wLbZki8a4xYl"
      },
      "source": [
        "def precision_recall_curve_plot(y_test, pred_proba):\n",
        "    # threshold ndarray와 이 threshold에 따른 정밀도, 재현율 ndarray 추출\n",
        "    precisions, recalls, thresholds = precision_recall_curve(y_test, pred_proba)\n",
        "    \n",
        "    # x축을 threshold, y축을 정밀도, 재현율로 그래프 그리기\n",
        "    plt.figure(figsize=(8, 6))\n",
        "    thresholds_boundary = thresholds.shape[0]\n",
        "    plt.plot(thresholds, precisions[:thresholds_boundary], linestyle='--', label='precision')\n",
        "    plt.plot(thresholds, recalls[:thresholds_boundary], linestyle=':', label='recall')\n",
        "    \n",
        "    # threshold의 값 X축의 scale을 0.1 단위로 변경\n",
        "    stard, end = plt.xlim()\n",
        "    plt.xticks(np.round(np.arange(stard, end, 0.1), 2))\n",
        "    \n",
        "    plt.xlim()\n",
        "    plt.xlabel('thresholds')\n",
        "    plt.ylabel('precision & recall value')\n",
        "    plt.legend()\n",
        "    plt.grid()"
      ],
      "execution_count": null,
      "outputs": []
    },
    {
      "cell_type": "code",
      "metadata": {
        "id": "7lDv3CwE4vCO"
      },
      "source": [
        ""
      ],
      "execution_count": null,
      "outputs": []
    },
    {
      "cell_type": "markdown",
      "metadata": {
        "id": "k6CIaUO54dD0"
      },
      "source": [
        "# split train data"
      ]
    },
    {
      "cell_type": "code",
      "metadata": {
        "id": "bCbmpy-m4XV6"
      },
      "source": [
        "X = diabetes_data.iloc[:,:-1]\n",
        "y = diabetes_data['Outcome']"
      ],
      "execution_count": null,
      "outputs": []
    },
    {
      "cell_type": "code",
      "metadata": {
        "id": "ZaYflrZ04XYm"
      },
      "source": [
        "X_train, X_test, y_train, y_test = train_test_split(X, y, test_size = 0.2, random_state = 156, stratify=y)"
      ],
      "execution_count": null,
      "outputs": []
    },
    {
      "cell_type": "markdown",
      "metadata": {
        "id": "Ov5iVxiB4ldU"
      },
      "source": [
        "# 로지스틱 회귀로 학습, 예측 및 평가 수행"
      ]
    },
    {
      "cell_type": "code",
      "metadata": {
        "colab": {
          "base_uri": "https://localhost:8080/"
        },
        "id": "m0bgvMsD4iI_",
        "outputId": "cabe0c6f-8533-4f64-ba8d-e5768b49934d"
      },
      "source": [
        "lr_clf = LogisticRegression()\n",
        "lr_clf.fit(X_train, y_train)"
      ],
      "execution_count": null,
      "outputs": [
        {
          "output_type": "execute_result",
          "data": {
            "text/plain": [
              "LogisticRegression(C=1.0, class_weight=None, dual=False, fit_intercept=True,\n",
              "                   intercept_scaling=1, l1_ratio=None, max_iter=100,\n",
              "                   multi_class='auto', n_jobs=None, penalty='l2',\n",
              "                   random_state=None, solver='lbfgs', tol=0.0001, verbose=0,\n",
              "                   warm_start=False)"
            ]
          },
          "metadata": {},
          "execution_count": 33
        }
      ]
    },
    {
      "cell_type": "code",
      "metadata": {
        "colab": {
          "base_uri": "https://localhost:8080/"
        },
        "id": "afcQ66db4iLu",
        "outputId": "ce84dd6a-4966-40f9-9a64-d0d20440afb9"
      },
      "source": [
        "pred = lr_clf.predict(X_test)\n",
        "get_clf_eval(y_test, pred)"
      ],
      "execution_count": null,
      "outputs": [
        {
          "output_type": "stream",
          "text": [
            "오차행렬:\n",
            " [[87 13]\n",
            " [23 31]]\n",
            "\n",
            "정확도: 0.7662\n",
            "정밀도: 0.7045\n",
            "재현율: 0.5741\n",
            "F1: 0.6327\n",
            "AUC: 0.7220\n"
          ],
          "name": "stdout"
        }
      ]
    },
    {
      "cell_type": "markdown",
      "metadata": {
        "id": "ZK0kWZiu49Uf"
      },
      "source": [
        "# 임계값별로 정밀도-재현율 출력"
      ]
    },
    {
      "cell_type": "code",
      "metadata": {
        "colab": {
          "base_uri": "https://localhost:8080/",
          "height": 388
        },
        "id": "gfKIoZKn4rz5",
        "outputId": "d127d018-8318-410b-e926-74d222a2c870"
      },
      "source": [
        "pred_proba = lr_clf.predict_proba(X_test)[:, 1]\n",
        "precision_recall_curve_plot(y_test, pred_proba)"
      ],
      "execution_count": null,
      "outputs": [
        {
          "output_type": "display_data",
          "data": {
            "image/png": "[encoded data removed]",
            "text/plain": [
              "<Figure size 576x432 with 1 Axes>"
            ]
          },
          "metadata": {
            "needs_background": "light"
          }
        }
      ]
    },
    {
      "cell_type": "markdown",
      "metadata": {
        "id": "40iKMwdo5BE5"
      },
      "source": [
        "# 데이터의 기초 통계값들"
      ]
    },
    {
      "cell_type": "code",
      "metadata": {
        "colab": {
          "base_uri": "https://localhost:8080/",
          "height": 297
        },
        "id": "Xt6Y8PeQ4r2Z",
        "outputId": "e9deb7b8-e891-4f00-b8fa-9036e95a9733"
      },
      "source": [
        "diabetes_data.describe()"
      ],
      "execution_count": null,
      "outputs": [
        {
          "output_type": "execute_result",
          "data": {
            "text/html": [
              "<div>\n",
              "<style scoped>\n",
              "    .dataframe tbody tr th:only-of-type {\n",
              "        vertical-align: middle;\n",
              "    }\n",
              "\n",
              "    .dataframe tbody tr th {\n",
              "        vertical-align: top;\n",
              "    }\n",
              "\n",
              "    .dataframe thead th {\n",
              "        text-align: right;\n",
              "    }\n",
              "</style>\n",
              "<table border=\"1\" class=\"dataframe\">\n",
              "  <thead>\n",
              "    <tr style=\"text-align: right;\">\n",
              "      <th></th>\n",
              "      <th>pregnancies</th>\n",
              "      <th>glucose</th>\n",
              "      <th>blood_pressure</th>\n",
              "      <th>skin_thinkness</th>\n",
              "      <th>insulin</th>\n",
              "      <th>BMI</th>\n",
              "      <th>diabetespedigreefunction</th>\n",
              "      <th>age</th>\n",
              "      <th>Outcome</th>\n",
              "    </tr>\n",
              "  </thead>\n",
              "  <tbody>\n",
              "    <tr>\n",
              "      <th>count</th>\n",
              "      <td>767.000000</td>\n",
              "      <td>767.000000</td>\n",
              "      <td>767.000000</td>\n",
              "      <td>767.000000</td>\n",
              "      <td>767.000000</td>\n",
              "      <td>767.000000</td>\n",
              "      <td>767.000000</td>\n",
              "      <td>767.000000</td>\n",
              "      <td>767.000000</td>\n",
              "    </tr>\n",
              "    <tr>\n",
              "      <th>mean</th>\n",
              "      <td>3.842243</td>\n",
              "      <td>120.859192</td>\n",
              "      <td>69.101695</td>\n",
              "      <td>20.517601</td>\n",
              "      <td>79.903520</td>\n",
              "      <td>31.990482</td>\n",
              "      <td>0.471674</td>\n",
              "      <td>33.219035</td>\n",
              "      <td>0.348110</td>\n",
              "    </tr>\n",
              "    <tr>\n",
              "      <th>std</th>\n",
              "      <td>3.370877</td>\n",
              "      <td>31.978468</td>\n",
              "      <td>19.368155</td>\n",
              "      <td>15.954059</td>\n",
              "      <td>115.283105</td>\n",
              "      <td>7.889091</td>\n",
              "      <td>0.331497</td>\n",
              "      <td>11.752296</td>\n",
              "      <td>0.476682</td>\n",
              "    </tr>\n",
              "    <tr>\n",
              "      <th>min</th>\n",
              "      <td>0.000000</td>\n",
              "      <td>0.000000</td>\n",
              "      <td>0.000000</td>\n",
              "      <td>0.000000</td>\n",
              "      <td>0.000000</td>\n",
              "      <td>0.000000</td>\n",
              "      <td>0.078000</td>\n",
              "      <td>21.000000</td>\n",
              "      <td>0.000000</td>\n",
              "    </tr>\n",
              "    <tr>\n",
              "      <th>25%</th>\n",
              "      <td>1.000000</td>\n",
              "      <td>99.000000</td>\n",
              "      <td>62.000000</td>\n",
              "      <td>0.000000</td>\n",
              "      <td>0.000000</td>\n",
              "      <td>27.300000</td>\n",
              "      <td>0.243500</td>\n",
              "      <td>24.000000</td>\n",
              "      <td>0.000000</td>\n",
              "    </tr>\n",
              "    <tr>\n",
              "      <th>50%</th>\n",
              "      <td>3.000000</td>\n",
              "      <td>117.000000</td>\n",
              "      <td>72.000000</td>\n",
              "      <td>23.000000</td>\n",
              "      <td>32.000000</td>\n",
              "      <td>32.000000</td>\n",
              "      <td>0.371000</td>\n",
              "      <td>29.000000</td>\n",
              "      <td>0.000000</td>\n",
              "    </tr>\n",
              "    <tr>\n",
              "      <th>75%</th>\n",
              "      <td>6.000000</td>\n",
              "      <td>140.000000</td>\n",
              "      <td>80.000000</td>\n",
              "      <td>32.000000</td>\n",
              "      <td>127.500000</td>\n",
              "      <td>36.600000</td>\n",
              "      <td>0.625000</td>\n",
              "      <td>41.000000</td>\n",
              "      <td>1.000000</td>\n",
              "    </tr>\n",
              "    <tr>\n",
              "      <th>max</th>\n",
              "      <td>17.000000</td>\n",
              "      <td>199.000000</td>\n",
              "      <td>122.000000</td>\n",
              "      <td>99.000000</td>\n",
              "      <td>846.000000</td>\n",
              "      <td>67.100000</td>\n",
              "      <td>2.420000</td>\n",
              "      <td>81.000000</td>\n",
              "      <td>1.000000</td>\n",
              "    </tr>\n",
              "  </tbody>\n",
              "</table>\n",
              "</div>"
            ],
            "text/plain": [
              "       pregnancies     glucose  ...         age     Outcome\n",
              "count   767.000000  767.000000  ...  767.000000  767.000000\n",
              "mean      3.842243  120.859192  ...   33.219035    0.348110\n",
              "std       3.370877   31.978468  ...   11.752296    0.476682\n",
              "min       0.000000    0.000000  ...   21.000000    0.000000\n",
              "25%       1.000000   99.000000  ...   24.000000    0.000000\n",
              "50%       3.000000  117.000000  ...   29.000000    0.000000\n",
              "75%       6.000000  140.000000  ...   41.000000    1.000000\n",
              "max      17.000000  199.000000  ...   81.000000    1.000000\n",
              "\n",
              "[8 rows x 9 columns]"
            ]
          },
          "metadata": {},
          "execution_count": 39
        }
      ]
    },
    {
      "cell_type": "code",
      "metadata": {
        "id": "pc5HRG2D4r4u"
      },
      "source": [
        "feature_list = ['glucose', 'blood_pressure', 'skin_thinkness', 'insulin', 'BMI']\n",
        "def hist_plot(df):\n",
        "    for col in feature_list:\n",
        "        df[col].plot(kind='hist', bins=20).set_title('Histogram of '+col)\n",
        "        plt.show()\n"
      ],
      "execution_count": null,
      "outputs": []
    },
    {
      "cell_type": "code",
      "metadata": {
        "colab": {
          "base_uri": "https://localhost:8080/",
          "height": 1000
        },
        "id": "gu97y_W84r6_",
        "outputId": "74ec5fe3-0f97-4a72-af6c-0bd171d8d35a"
      },
      "source": [
        "hist_plot(diabetes_data)"
      ],
      "execution_count": null,
      "outputs": [
        {
          "output_type": "display_data",
          "data": {
            "image/png": "[encoded data removed]",
            "text/plain": [
              "<Figure size 432x288 with 1 Axes>"
            ]
          },
          "metadata": {
            "needs_background": "light"
          }
        },
        {
          "output_type": "display_data",
          "data": {
            "image/png": "[encoded data removed]",
            "text/plain": [
              "<Figure size 432x288 with 1 Axes>"
            ]
          },
          "metadata": {
            "needs_background": "light"
          }
        },
        {
          "output_type": "display_data",
          "data": {
            "image/png": "[encoded data removed]",
            "text/plain": [
              "<Figure size 432x288 with 1 Axes>"
            ]
          },
          "metadata": {
            "needs_background": "light"
          }
        },
        {
          "output_type": "display_data",
          "data": {
            "image/png": "[encoded data removed]",
            "text/plain": [
              "<Figure size 432x288 with 1 Axes>"
            ]
          },
          "metadata": {
            "needs_background": "light"
          }
        },
        {
          "output_type": "display_data",
          "data": {
            "image/png": "[encoded data removed]",
            "text/plain": [
              "<Figure size 432x288 with 1 Axes>"
            ]
          },
          "metadata": {
            "needs_background": "light"
          }
        }
      ]
    },
    {
      "cell_type": "code",
      "metadata": {
        "id": "dNMqVZiCscVY"
      },
      "source": [
        "from tensorflow.keras.models import Sequential\n",
        "from tensorflow.keras.layers import Dense\n",
        "import numpy\n",
        "import tensorflow as tf\n"
      ],
      "execution_count": null,
      "outputs": []
    },
    {
      "cell_type": "markdown",
      "metadata": {
        "id": "VHtOC5TU5SjM"
      },
      "source": [
        "# 위 컬럼들에 대한 0 값의 비율 확인"
      ]
    },
    {
      "cell_type": "code",
      "metadata": {
        "id": "BUnp66Lj5TYR"
      },
      "source": [
        "zero_count = []\n",
        "zero_percent = []\n",
        "for col in feature_list:\n",
        "    zero_num = diabetes_data[diabetes_data[col]==0].shape[0]\n",
        "    zero_count.append(zero_num)\n",
        "    zero_percent.append(np.round(zero_num/diabetes_data.shape[0]*100,2))\n"
      ],
      "execution_count": null,
      "outputs": []
    },
    {
      "cell_type": "code",
      "metadata": {
        "id": "OKD8NDi35Ta1"
      },
      "source": [
        "zero = pd.DataFrame([zero_count, zero_percent], columns=feature_list, index=['count', 'percent']).T"
      ],
      "execution_count": null,
      "outputs": []
    },
    {
      "cell_type": "code",
      "metadata": {
        "colab": {
          "base_uri": "https://localhost:8080/",
          "height": 204
        },
        "id": "qi0Ie5O-5TeD",
        "outputId": "806554ac-d8ae-424f-b91e-4e8cebe42a25"
      },
      "source": [
        "zero"
      ],
      "execution_count": null,
      "outputs": [
        {
          "output_type": "execute_result",
          "data": {
            "text/html": [
              "<div>\n",
              "<style scoped>\n",
              "    .dataframe tbody tr th:only-of-type {\n",
              "        vertical-align: middle;\n",
              "    }\n",
              "\n",
              "    .dataframe tbody tr th {\n",
              "        vertical-align: top;\n",
              "    }\n",
              "\n",
              "    .dataframe thead th {\n",
              "        text-align: right;\n",
              "    }\n",
              "</style>\n",
              "<table border=\"1\" class=\"dataframe\">\n",
              "  <thead>\n",
              "    <tr style=\"text-align: right;\">\n",
              "      <th></th>\n",
              "      <th>count</th>\n",
              "      <th>percent</th>\n",
              "    </tr>\n",
              "  </thead>\n",
              "  <tbody>\n",
              "    <tr>\n",
              "      <th>glucose</th>\n",
              "      <td>5.0</td>\n",
              "      <td>0.65</td>\n",
              "    </tr>\n",
              "    <tr>\n",
              "      <th>blood_pressure</th>\n",
              "      <td>35.0</td>\n",
              "      <td>4.56</td>\n",
              "    </tr>\n",
              "    <tr>\n",
              "      <th>skin_thinkness</th>\n",
              "      <td>227.0</td>\n",
              "      <td>29.60</td>\n",
              "    </tr>\n",
              "    <tr>\n",
              "      <th>insulin</th>\n",
              "      <td>373.0</td>\n",
              "      <td>48.63</td>\n",
              "    </tr>\n",
              "    <tr>\n",
              "      <th>BMI</th>\n",
              "      <td>11.0</td>\n",
              "      <td>1.43</td>\n",
              "    </tr>\n",
              "  </tbody>\n",
              "</table>\n",
              "</div>"
            ],
            "text/plain": [
              "                count  percent\n",
              "glucose           5.0     0.65\n",
              "blood_pressure   35.0     4.56\n",
              "skin_thinkness  227.0    29.60\n",
              "insulin         373.0    48.63\n",
              "BMI              11.0     1.43"
            ]
          },
          "metadata": {},
          "execution_count": 46
        }
      ]
    },
    {
      "cell_type": "code",
      "metadata": {
        "id": "-6Jtf71m5Tgp"
      },
      "source": [
        ""
      ],
      "execution_count": null,
      "outputs": []
    },
    {
      "cell_type": "markdown",
      "metadata": {
        "id": "VZ9V1fdi5bkr"
      },
      "source": [
        "# 0 값들을 우선 NaN 값으로 대체"
      ]
    },
    {
      "cell_type": "code",
      "metadata": {
        "id": "X8gmZyrH5aR0"
      },
      "source": [
        "diabetes_data[feature_list] = diabetes_data[feature_list].replace(0, np.nan)"
      ],
      "execution_count": null,
      "outputs": []
    },
    {
      "cell_type": "markdown",
      "metadata": {
        "id": "8EMpu5nr5e4g"
      },
      "source": [
        "# 위 5개 feature 에 대해 0값을 평균 값으로 대체"
      ]
    },
    {
      "cell_type": "code",
      "metadata": {
        "id": "lsBJiGW_5aUs"
      },
      "source": [
        "mean_features = diabetes_data[feature_list].mean()\n",
        "diabetes_data[feature_list] = diabetes_data[feature_list].replace(np.nan, mean_features)"
      ],
      "execution_count": null,
      "outputs": []
    },
    {
      "cell_type": "markdown",
      "metadata": {
        "id": "SvEF9s095kIK"
      },
      "source": [
        "# 데이터 세트에 대해 피처 스케일링을 적용하여 변환하기(로지스틱 회귀의 경우, 숫자 데이터에 스케일링을 적용하는 것이 일반적으로 성능이 좋음)"
      ]
    },
    {
      "cell_type": "code",
      "metadata": {
        "id": "rIYSrvZ-5aYI"
      },
      "source": [
        "X = diabetes_data.iloc[:, :-1]\n",
        "y = diabetes_data.iloc[:, -1]"
      ],
      "execution_count": null,
      "outputs": []
    },
    {
      "cell_type": "code",
      "metadata": {
        "colab": {
          "base_uri": "https://localhost:8080/",
          "height": 419
        },
        "id": "QrgWf49k8oEI",
        "outputId": "9e7b3b15-8d50-42a0-a29e-9e57fe47dbd9"
      },
      "source": [
        "X"
      ],
      "execution_count": null,
      "outputs": [
        {
          "output_type": "execute_result",
          "data": {
            "text/html": [
              "<div>\n",
              "<style scoped>\n",
              "    .dataframe tbody tr th:only-of-type {\n",
              "        vertical-align: middle;\n",
              "    }\n",
              "\n",
              "    .dataframe tbody tr th {\n",
              "        vertical-align: top;\n",
              "    }\n",
              "\n",
              "    .dataframe thead th {\n",
              "        text-align: right;\n",
              "    }\n",
              "</style>\n",
              "<table border=\"1\" class=\"dataframe\">\n",
              "  <thead>\n",
              "    <tr style=\"text-align: right;\">\n",
              "      <th></th>\n",
              "      <th>pregnancies</th>\n",
              "      <th>glucose</th>\n",
              "      <th>blood_pressure</th>\n",
              "      <th>skin_thinkness</th>\n",
              "      <th>insulin</th>\n",
              "      <th>BMI</th>\n",
              "      <th>diabetespedigreefunction</th>\n",
              "      <th>age</th>\n",
              "    </tr>\n",
              "  </thead>\n",
              "  <tbody>\n",
              "    <tr>\n",
              "      <th>0</th>\n",
              "      <td>1</td>\n",
              "      <td>85.0</td>\n",
              "      <td>66.0</td>\n",
              "      <td>29.000000</td>\n",
              "      <td>155.548223</td>\n",
              "      <td>26.6</td>\n",
              "      <td>0.351</td>\n",
              "      <td>31</td>\n",
              "    </tr>\n",
              "    <tr>\n",
              "      <th>1</th>\n",
              "      <td>8</td>\n",
              "      <td>183.0</td>\n",
              "      <td>64.0</td>\n",
              "      <td>29.142593</td>\n",
              "      <td>155.548223</td>\n",
              "      <td>23.3</td>\n",
              "      <td>0.672</td>\n",
              "      <td>32</td>\n",
              "    </tr>\n",
              "    <tr>\n",
              "      <th>2</th>\n",
              "      <td>1</td>\n",
              "      <td>89.0</td>\n",
              "      <td>66.0</td>\n",
              "      <td>23.000000</td>\n",
              "      <td>94.000000</td>\n",
              "      <td>28.1</td>\n",
              "      <td>0.167</td>\n",
              "      <td>21</td>\n",
              "    </tr>\n",
              "    <tr>\n",
              "      <th>3</th>\n",
              "      <td>0</td>\n",
              "      <td>137.0</td>\n",
              "      <td>40.0</td>\n",
              "      <td>35.000000</td>\n",
              "      <td>168.000000</td>\n",
              "      <td>43.1</td>\n",
              "      <td>2.288</td>\n",
              "      <td>33</td>\n",
              "    </tr>\n",
              "    <tr>\n",
              "      <th>4</th>\n",
              "      <td>5</td>\n",
              "      <td>116.0</td>\n",
              "      <td>74.0</td>\n",
              "      <td>29.142593</td>\n",
              "      <td>155.548223</td>\n",
              "      <td>25.6</td>\n",
              "      <td>0.201</td>\n",
              "      <td>30</td>\n",
              "    </tr>\n",
              "    <tr>\n",
              "      <th>...</th>\n",
              "      <td>...</td>\n",
              "      <td>...</td>\n",
              "      <td>...</td>\n",
              "      <td>...</td>\n",
              "      <td>...</td>\n",
              "      <td>...</td>\n",
              "      <td>...</td>\n",
              "      <td>...</td>\n",
              "    </tr>\n",
              "    <tr>\n",
              "      <th>762</th>\n",
              "      <td>10</td>\n",
              "      <td>101.0</td>\n",
              "      <td>76.0</td>\n",
              "      <td>48.000000</td>\n",
              "      <td>180.000000</td>\n",
              "      <td>32.9</td>\n",
              "      <td>0.171</td>\n",
              "      <td>63</td>\n",
              "    </tr>\n",
              "    <tr>\n",
              "      <th>763</th>\n",
              "      <td>2</td>\n",
              "      <td>122.0</td>\n",
              "      <td>70.0</td>\n",
              "      <td>27.000000</td>\n",
              "      <td>155.548223</td>\n",
              "      <td>36.8</td>\n",
              "      <td>0.340</td>\n",
              "      <td>27</td>\n",
              "    </tr>\n",
              "    <tr>\n",
              "      <th>764</th>\n",
              "      <td>5</td>\n",
              "      <td>121.0</td>\n",
              "      <td>72.0</td>\n",
              "      <td>23.000000</td>\n",
              "      <td>112.000000</td>\n",
              "      <td>26.2</td>\n",
              "      <td>0.245</td>\n",
              "      <td>30</td>\n",
              "    </tr>\n",
              "    <tr>\n",
              "      <th>765</th>\n",
              "      <td>1</td>\n",
              "      <td>126.0</td>\n",
              "      <td>60.0</td>\n",
              "      <td>29.142593</td>\n",
              "      <td>155.548223</td>\n",
              "      <td>30.1</td>\n",
              "      <td>0.349</td>\n",
              "      <td>47</td>\n",
              "    </tr>\n",
              "    <tr>\n",
              "      <th>766</th>\n",
              "      <td>1</td>\n",
              "      <td>93.0</td>\n",
              "      <td>70.0</td>\n",
              "      <td>31.000000</td>\n",
              "      <td>155.548223</td>\n",
              "      <td>30.4</td>\n",
              "      <td>0.315</td>\n",
              "      <td>23</td>\n",
              "    </tr>\n",
              "  </tbody>\n",
              "</table>\n",
              "<p>767 rows × 8 columns</p>\n",
              "</div>"
            ],
            "text/plain": [
              "     pregnancies  glucose  blood_pressure  ...   BMI  diabetespedigreefunction  age\n",
              "0              1     85.0            66.0  ...  26.6                     0.351   31\n",
              "1              8    183.0            64.0  ...  23.3                     0.672   32\n",
              "2              1     89.0            66.0  ...  28.1                     0.167   21\n",
              "3              0    137.0            40.0  ...  43.1                     2.288   33\n",
              "4              5    116.0            74.0  ...  25.6                     0.201   30\n",
              "..           ...      ...             ...  ...   ...                       ...  ...\n",
              "762           10    101.0            76.0  ...  32.9                     0.171   63\n",
              "763            2    122.0            70.0  ...  36.8                     0.340   27\n",
              "764            5    121.0            72.0  ...  26.2                     0.245   30\n",
              "765            1    126.0            60.0  ...  30.1                     0.349   47\n",
              "766            1     93.0            70.0  ...  30.4                     0.315   23\n",
              "\n",
              "[767 rows x 8 columns]"
            ]
          },
          "metadata": {},
          "execution_count": 69
        }
      ]
    },
    {
      "cell_type": "code",
      "metadata": {
        "colab": {
          "base_uri": "https://localhost:8080/"
        },
        "id": "j-hXwMOn8oGt",
        "outputId": "de69972b-501a-4801-d29a-2bc65d44951c"
      },
      "source": [
        "y"
      ],
      "execution_count": null,
      "outputs": [
        {
          "output_type": "execute_result",
          "data": {
            "text/plain": [
              "0      0\n",
              "1      1\n",
              "2      0\n",
              "3      1\n",
              "4      0\n",
              "      ..\n",
              "762    0\n",
              "763    0\n",
              "764    0\n",
              "765    1\n",
              "766    0\n",
              "Name: Outcome, Length: 767, dtype: int64"
            ]
          },
          "metadata": {},
          "execution_count": 70
        }
      ]
    },
    {
      "cell_type": "markdown",
      "metadata": {
        "id": "pOsJ4nk75oIO"
      },
      "source": [
        "# StandardScaler 클래스를 상용하여 데이터 세트에 스케일링 적용"
      ]
    },
    {
      "cell_type": "code",
      "metadata": {
        "id": "9DKp889S5aaj"
      },
      "source": [
        "scaler = StandardScaler()\n",
        "X_scaled = scaler.fit_transform(X)"
      ],
      "execution_count": null,
      "outputs": []
    },
    {
      "cell_type": "code",
      "metadata": {
        "id": "785ENsXc5adN"
      },
      "source": [
        "X_train, X_test, y_train, y_test = train_test_split(X_scaled, y, test_size = 0.2, random_state=156, stratify = y)"
      ],
      "execution_count": null,
      "outputs": []
    },
    {
      "cell_type": "markdown",
      "metadata": {
        "id": "VZ-qyvnY59RX"
      },
      "source": [
        "# 로지스틱 회귀로 학습, 예측, 평가 수행"
      ]
    },
    {
      "cell_type": "code",
      "metadata": {
        "colab": {
          "base_uri": "https://localhost:8080/"
        },
        "id": "ilgGbrnU593Y",
        "outputId": "f54654ab-9d91-4fed-bc34-934ffd8e8d12"
      },
      "source": [
        "lr_clf = LogisticRegression()\n",
        "lr_clf.fit(X_train,  y_train)\n",
        "pred = lr_clf.predict(X_test)\n",
        "get_clf_eval(y_test, pred)"
      ],
      "execution_count": null,
      "outputs": [
        {
          "output_type": "stream",
          "text": [
            "오차행렬:\n",
            " [[89 11]\n",
            " [22 32]]\n",
            "\n",
            "정확도: 0.7857\n",
            "정밀도: 0.7442\n",
            "재현율: 0.5926\n",
            "F1: 0.6598\n",
            "AUC: 0.7413\n"
          ],
          "name": "stdout"
        }
      ]
    },
    {
      "cell_type": "code",
      "metadata": {
        "id": "BaNtEwsp595q"
      },
      "source": [
        ""
      ],
      "execution_count": null,
      "outputs": []
    },
    {
      "cell_type": "markdown",
      "metadata": {
        "id": "aqdVA6d76CQw"
      },
      "source": [
        "# 평가지표를 조사하기 위한 새로운 함수 생성"
      ]
    },
    {
      "cell_type": "code",
      "metadata": {
        "id": "zQd7SV-x6Ca9"
      },
      "source": [
        "def get_eval_by_threshold(y_test, pred_proba_c1, thresholds):\n",
        "    #thresholds list 객체 내의 값을 iteration 하면서 평가 수행\n",
        "    for custom_threshold in thresholds:\n",
        "        binarizer = Binarizer(threshold=custom_threshold).fit(pred_proba_c1)\n",
        "        custom_predict = binarizer.transform(pred_proba_c1)\n",
        "        print('\\n임계값: ', custom_threshold)\n",
        "        get_clf_eval(y_test, custom_predict)"
      ],
      "execution_count": null,
      "outputs": []
    },
    {
      "cell_type": "code",
      "metadata": {
        "colab": {
          "base_uri": "https://localhost:8080/"
        },
        "id": "si8hapEY6CdT",
        "outputId": "89da4255-4e16-419f-c541-df3cb86dccf9"
      },
      "source": [
        "thresholds = [0.3, 0.33, 0.36, 0.39, 0.42, 0.45, 0.48, 0.50]\n",
        "pred_proba = lr_clf.predict_proba(X_test)\n",
        "get_eval_by_threshold(y_test, pred_proba[:, 1].reshape(-1, 1), thresholds)"
      ],
      "execution_count": null,
      "outputs": [
        {
          "output_type": "stream",
          "text": [
            "\n",
            "임계값:  0.3\n",
            "오차행렬:\n",
            " [[70 30]\n",
            " [12 42]]\n",
            "\n",
            "정확도: 0.7273\n",
            "정밀도: 0.5833\n",
            "재현율: 0.7778\n",
            "F1: 0.6667\n",
            "AUC: 0.7389\n",
            "\n",
            "임계값:  0.33\n",
            "오차행렬:\n",
            " [[74 26]\n",
            " [14 40]]\n",
            "\n",
            "정확도: 0.7403\n",
            "정밀도: 0.6061\n",
            "재현율: 0.7407\n",
            "F1: 0.6667\n",
            "AUC: 0.7404\n",
            "\n",
            "임계값:  0.36\n",
            "오차행렬:\n",
            " [[76 24]\n",
            " [15 39]]\n",
            "\n",
            "정확도: 0.7468\n",
            "정밀도: 0.6190\n",
            "재현율: 0.7222\n",
            "F1: 0.6667\n",
            "AUC: 0.7411\n",
            "\n",
            "임계값:  0.39\n",
            "오차행렬:\n",
            " [[82 18]\n",
            " [15 39]]\n",
            "\n",
            "정확도: 0.7857\n",
            "정밀도: 0.6842\n",
            "재현율: 0.7222\n",
            "F1: 0.7027\n",
            "AUC: 0.7711\n",
            "\n",
            "임계값:  0.42\n",
            "오차행렬:\n",
            " [[84 16]\n",
            " [15 39]]\n",
            "\n",
            "정확도: 0.7987\n",
            "정밀도: 0.7091\n",
            "재현율: 0.7222\n",
            "F1: 0.7156\n",
            "AUC: 0.7811\n",
            "\n",
            "임계값:  0.45\n",
            "오차행렬:\n",
            " [[87 13]\n",
            " [20 34]]\n",
            "\n",
            "정확도: 0.7857\n",
            "정밀도: 0.7234\n",
            "재현율: 0.6296\n",
            "F1: 0.6733\n",
            "AUC: 0.7498\n",
            "\n",
            "임계값:  0.48\n",
            "오차행렬:\n",
            " [[88 12]\n",
            " [21 33]]\n",
            "\n",
            "정확도: 0.7857\n",
            "정밀도: 0.7333\n",
            "재현율: 0.6111\n",
            "F1: 0.6667\n",
            "AUC: 0.7456\n",
            "\n",
            "임계값:  0.5\n",
            "오차행렬:\n",
            " [[89 11]\n",
            " [22 32]]\n",
            "\n",
            "정확도: 0.7857\n",
            "정밀도: 0.7442\n",
            "재현율: 0.5926\n",
            "F1: 0.6598\n",
            "AUC: 0.7413\n"
          ],
          "name": "stdout"
        }
      ]
    },
    {
      "cell_type": "code",
      "metadata": {
        "id": "2qLSyzc_6HDD"
      },
      "source": [
        "# 임계값을 0.48로 설정하여 예측 수행\n",
        "binarizer = Binarizer(threshold=0.48)"
      ],
      "execution_count": null,
      "outputs": []
    },
    {
      "cell_type": "code",
      "metadata": {
        "id": "x7vcTHch6HFn"
      },
      "source": [
        "# 위에서 구한 predict_proba() 예측확률의 array에서 1에 해당하는 컬럼 값을 대입하여 Binarizer 반환하기\n",
        "pred_th_048 = binarizer.fit_transform(pred_proba[:, 1].reshape(-1, 1))"
      ],
      "execution_count": null,
      "outputs": []
    },
    {
      "cell_type": "code",
      "metadata": {
        "colab": {
          "base_uri": "https://localhost:8080/"
        },
        "id": "kHIR3aOj6Mpf",
        "outputId": "baa237f0-15fc-4909-8df5-cd43ea052c48"
      },
      "source": [
        "get_clf_eval(y_test, pred_th_048)"
      ],
      "execution_count": null,
      "outputs": [
        {
          "output_type": "stream",
          "text": [
            "오차행렬:\n",
            " [[88 12]\n",
            " [21 33]]\n",
            "\n",
            "정확도: 0.7857\n",
            "정밀도: 0.7333\n",
            "재현율: 0.6111\n",
            "F1: 0.6667\n",
            "AUC: 0.7456\n"
          ],
          "name": "stdout"
        }
      ]
    },
    {
      "cell_type": "code",
      "metadata": {
        "id": "D7iJ6tBI6Mr3"
      },
      "source": [
        ""
      ],
      "execution_count": null,
      "outputs": []
    },
    {
      "cell_type": "code",
      "metadata": {
        "id": "qUVQ0uwk6Mvp"
      },
      "source": [
        ""
      ],
      "execution_count": null,
      "outputs": []
    },
    {
      "cell_type": "code",
      "metadata": {
        "colab": {
          "base_uri": "https://localhost:8080/",
          "height": 466
        },
        "id": "AgPe7-P3scbz",
        "outputId": "3cec0d4c-8b61-4255-ef08-9cec8fc09cc3"
      },
      "source": [
        "#seed값 설정 (항상 같은 결과를 출력하기위해 (seed가 같으면 같은 결과 출력))\n",
        "\n",
        "numpy.random.seed(3)\n",
        "tf.random.set_seed(3)\n",
        "\n",
        "X = diabetes_data[:,0:8]\n",
        "Y = diabetes_data[:,8]\n",
        "\n",
        "#set model\n",
        "model = Sequential()\n",
        "model.add(Dense(12,input_dim=8,activation='relu'))\n",
        "model.add(Dense(8,activation='relu'))\n",
        "model.add(Dense(1,activation='sigmoid'))\n",
        "\n",
        "model.compile(loss='binary_crossentropy',optimizer='adam',metrics=['accuracy'])\n",
        "\n",
        "model.fit(X,Y,epochs=200,batch_size=10)\n",
        "\n",
        "print('Accuracy',model.evaluate(X,Y)[1])\n"
      ],
      "execution_count": null,
      "outputs": [
        {
          "output_type": "error",
          "ename": "TypeError",
          "evalue": "ignored",
          "traceback": [
            "\u001b[0;31m---------------------------------------------------------------------------\u001b[0m",
            "\u001b[0;31mTypeError\u001b[0m                                 Traceback (most recent call last)",
            "\u001b[0;32m<ipython-input-20-88db6b9fb4cd>\u001b[0m in \u001b[0;36m<module>\u001b[0;34m()\u001b[0m\n\u001b[1;32m      4\u001b[0m \u001b[0mtf\u001b[0m\u001b[0;34m.\u001b[0m\u001b[0mrandom\u001b[0m\u001b[0;34m.\u001b[0m\u001b[0mset_seed\u001b[0m\u001b[0;34m(\u001b[0m\u001b[0;36m3\u001b[0m\u001b[0;34m)\u001b[0m\u001b[0;34m\u001b[0m\u001b[0;34m\u001b[0m\u001b[0m\n\u001b[1;32m      5\u001b[0m \u001b[0;34m\u001b[0m\u001b[0m\n\u001b[0;32m----> 6\u001b[0;31m \u001b[0mX\u001b[0m \u001b[0;34m=\u001b[0m \u001b[0mdiabetes_data\u001b[0m\u001b[0;34m[\u001b[0m\u001b[0;34m:\u001b[0m\u001b[0;34m,\u001b[0m\u001b[0;36m0\u001b[0m\u001b[0;34m:\u001b[0m\u001b[0;36m8\u001b[0m\u001b[0;34m]\u001b[0m\u001b[0;34m\u001b[0m\u001b[0;34m\u001b[0m\u001b[0m\n\u001b[0m\u001b[1;32m      7\u001b[0m \u001b[0mY\u001b[0m \u001b[0;34m=\u001b[0m \u001b[0mdiabetes_data\u001b[0m\u001b[0;34m[\u001b[0m\u001b[0;34m:\u001b[0m\u001b[0;34m,\u001b[0m\u001b[0;36m8\u001b[0m\u001b[0;34m]\u001b[0m\u001b[0;34m\u001b[0m\u001b[0;34m\u001b[0m\u001b[0m\n\u001b[1;32m      8\u001b[0m \u001b[0;34m\u001b[0m\u001b[0m\n",
            "\u001b[0;32m/usr/local/lib/python3.7/dist-packages/pandas/core/frame.py\u001b[0m in \u001b[0;36m__getitem__\u001b[0;34m(self, key)\u001b[0m\n\u001b[1;32m   2904\u001b[0m             \u001b[0;32mif\u001b[0m \u001b[0mself\u001b[0m\u001b[0;34m.\u001b[0m\u001b[0mcolumns\u001b[0m\u001b[0;34m.\u001b[0m\u001b[0mnlevels\u001b[0m \u001b[0;34m>\u001b[0m \u001b[0;36m1\u001b[0m\u001b[0;34m:\u001b[0m\u001b[0;34m\u001b[0m\u001b[0;34m\u001b[0m\u001b[0m\n\u001b[1;32m   2905\u001b[0m                 \u001b[0;32mreturn\u001b[0m \u001b[0mself\u001b[0m\u001b[0;34m.\u001b[0m\u001b[0m_getitem_multilevel\u001b[0m\u001b[0;34m(\u001b[0m\u001b[0mkey\u001b[0m\u001b[0;34m)\u001b[0m\u001b[0;34m\u001b[0m\u001b[0;34m\u001b[0m\u001b[0m\n\u001b[0;32m-> 2906\u001b[0;31m             \u001b[0mindexer\u001b[0m \u001b[0;34m=\u001b[0m \u001b[0mself\u001b[0m\u001b[0;34m.\u001b[0m\u001b[0mcolumns\u001b[0m\u001b[0;34m.\u001b[0m\u001b[0mget_loc\u001b[0m\u001b[0;34m(\u001b[0m\u001b[0mkey\u001b[0m\u001b[0;34m)\u001b[0m\u001b[0;34m\u001b[0m\u001b[0;34m\u001b[0m\u001b[0m\n\u001b[0m\u001b[1;32m   2907\u001b[0m             \u001b[0;32mif\u001b[0m \u001b[0mis_integer\u001b[0m\u001b[0;34m(\u001b[0m\u001b[0mindexer\u001b[0m\u001b[0;34m)\u001b[0m\u001b[0;34m:\u001b[0m\u001b[0;34m\u001b[0m\u001b[0;34m\u001b[0m\u001b[0m\n\u001b[1;32m   2908\u001b[0m                 \u001b[0mindexer\u001b[0m \u001b[0;34m=\u001b[0m \u001b[0;34m[\u001b[0m\u001b[0mindexer\u001b[0m\u001b[0;34m]\u001b[0m\u001b[0;34m\u001b[0m\u001b[0;34m\u001b[0m\u001b[0m\n",
            "\u001b[0;32m/usr/local/lib/python3.7/dist-packages/pandas/core/indexes/base.py\u001b[0m in \u001b[0;36mget_loc\u001b[0;34m(self, key, method, tolerance)\u001b[0m\n\u001b[1;32m   2896\u001b[0m             \u001b[0mcasted_key\u001b[0m \u001b[0;34m=\u001b[0m \u001b[0mself\u001b[0m\u001b[0;34m.\u001b[0m\u001b[0m_maybe_cast_indexer\u001b[0m\u001b[0;34m(\u001b[0m\u001b[0mkey\u001b[0m\u001b[0;34m)\u001b[0m\u001b[0;34m\u001b[0m\u001b[0;34m\u001b[0m\u001b[0m\n\u001b[1;32m   2897\u001b[0m             \u001b[0;32mtry\u001b[0m\u001b[0;34m:\u001b[0m\u001b[0;34m\u001b[0m\u001b[0;34m\u001b[0m\u001b[0m\n\u001b[0;32m-> 2898\u001b[0;31m                 \u001b[0;32mreturn\u001b[0m \u001b[0mself\u001b[0m\u001b[0;34m.\u001b[0m\u001b[0m_engine\u001b[0m\u001b[0;34m.\u001b[0m\u001b[0mget_loc\u001b[0m\u001b[0;34m(\u001b[0m\u001b[0mcasted_key\u001b[0m\u001b[0;34m)\u001b[0m\u001b[0;34m\u001b[0m\u001b[0;34m\u001b[0m\u001b[0m\n\u001b[0m\u001b[1;32m   2899\u001b[0m             \u001b[0;32mexcept\u001b[0m \u001b[0mKeyError\u001b[0m \u001b[0;32mas\u001b[0m \u001b[0merr\u001b[0m\u001b[0;34m:\u001b[0m\u001b[0;34m\u001b[0m\u001b[0;34m\u001b[0m\u001b[0m\n\u001b[1;32m   2900\u001b[0m                 \u001b[0;32mraise\u001b[0m \u001b[0mKeyError\u001b[0m\u001b[0;34m(\u001b[0m\u001b[0mkey\u001b[0m\u001b[0;34m)\u001b[0m \u001b[0;32mfrom\u001b[0m \u001b[0merr\u001b[0m\u001b[0;34m\u001b[0m\u001b[0;34m\u001b[0m\u001b[0m\n",
            "\u001b[0;32mpandas/_libs/index.pyx\u001b[0m in \u001b[0;36mpandas._libs.index.IndexEngine.get_loc\u001b[0;34m()\u001b[0m\n",
            "\u001b[0;32mpandas/_libs/index.pyx\u001b[0m in \u001b[0;36mpandas._libs.index.IndexEngine.get_loc\u001b[0;34m()\u001b[0m\n",
            "\u001b[0;31mTypeError\u001b[0m: '(slice(None, None, None), slice(0, 8, None))' is an invalid key"
          ]
        }
      ]
    },
    {
      "cell_type": "code",
      "metadata": {
        "id": "Ony9chqmschM"
      },
      "source": [
        ""
      ],
      "execution_count": null,
      "outputs": []
    },
    {
      "cell_type": "code",
      "metadata": {
        "id": "oTUhjXmBsclA"
      },
      "source": [
        ""
      ],
      "execution_count": null,
      "outputs": []
    },
    {
      "cell_type": "markdown",
      "metadata": {
        "id": "rGc2BO99mnb4"
      },
      "source": [
        "# XGB Classifier"
      ]
    },
    {
      "cell_type": "code",
      "metadata": {
        "id": "uTOVHwSWVcQN"
      },
      "source": [
        "from xgboost import XGBClassifier"
      ],
      "execution_count": null,
      "outputs": []
    },
    {
      "cell_type": "code",
      "metadata": {
        "id": "A9u41GgH3xn4"
      },
      "source": [
        ""
      ],
      "execution_count": null,
      "outputs": []
    },
    {
      "cell_type": "code",
      "metadata": {
        "id": "-eK9zwNIVb-D"
      },
      "source": [
        "xgb_wrapper = XGBClassifier(n_estimators=400, learning_rate=0.1, max_depth=3)"
      ],
      "execution_count": null,
      "outputs": []
    },
    {
      "cell_type": "code",
      "metadata": {
        "colab": {
          "base_uri": "https://localhost:8080/"
        },
        "id": "qkETNUAsVW5x",
        "outputId": "1794860e-b440-4963-9977-ceb8c4265eef"
      },
      "source": [
        "xgb_wrapper.fit(X_train, y_train)"
      ],
      "execution_count": null,
      "outputs": [
        {
          "output_type": "execute_result",
          "data": {
            "text/plain": [
              "XGBClassifier(base_score=0.5, booster='gbtree', colsample_bylevel=1,\n",
              "              colsample_bynode=1, colsample_bytree=1, gamma=0,\n",
              "              learning_rate=0.1, max_delta_step=0, max_depth=3,\n",
              "              min_child_weight=1, missing=None, n_estimators=400, n_jobs=1,\n",
              "              nthread=None, objective='binary:logistic', random_state=0,\n",
              "              reg_alpha=0, reg_lambda=1, scale_pos_weight=1, seed=None,\n",
              "              silent=None, subsample=1, verbosity=1)"
            ]
          },
          "metadata": {},
          "execution_count": 62
        }
      ]
    },
    {
      "cell_type": "code",
      "metadata": {
        "id": "rHkrPHhtVjZz"
      },
      "source": [
        "w_preds = xgb_wrapper.predict(X_test)"
      ],
      "execution_count": null,
      "outputs": []
    },
    {
      "cell_type": "code",
      "metadata": {
        "id": "xjDSwjHiVmfF"
      },
      "source": [
        "w_pred_proba = xgb_wrapper.predict_proba(X_test)[:, 1]"
      ],
      "execution_count": null,
      "outputs": []
    },
    {
      "cell_type": "code",
      "metadata": {
        "id": "CWAFOA9pV6cz"
      },
      "source": [
        "\n"
      ],
      "execution_count": null,
      "outputs": []
    },
    {
      "cell_type": "code",
      "metadata": {
        "colab": {
          "base_uri": "https://localhost:8080/"
        },
        "id": "4nhIA9ZEVpbD",
        "outputId": "39d0aed5-e10e-4f9a-ab26-6522bb4b0f4e"
      },
      "source": [
        "get_clf_eval(y_test, w_preds)"
      ],
      "execution_count": null,
      "outputs": [
        {
          "output_type": "stream",
          "text": [
            "오차행렬:\n",
            " [[82 18]\n",
            " [22 32]]\n",
            "\n",
            "정확도: 0.7403\n",
            "정밀도: 0.6400\n",
            "재현율: 0.5926\n",
            "F1: 0.6154\n",
            "AUC: 0.7063\n"
          ],
          "name": "stdout"
        }
      ]
    },
    {
      "cell_type": "code",
      "metadata": {
        "id": "XOVbsfBpVsWw"
      },
      "source": [
        ""
      ],
      "execution_count": null,
      "outputs": []
    },
    {
      "cell_type": "code",
      "metadata": {
        "id": "_p5GBp_XV2TN"
      },
      "source": [
        ""
      ],
      "execution_count": null,
      "outputs": []
    },
    {
      "cell_type": "code",
      "metadata": {
        "colab": {
          "base_uri": "https://localhost:8080/"
        },
        "id": "NS1emK1VV2it",
        "outputId": "5ff4759a-44de-4e25-cee1-81efd65fc5cc"
      },
      "source": [
        "for num_estimators in range(10):\n",
        "  print('num estimators = ', num_estimators)\n",
        "  xgb_wrapper = XGBClassifier(n_estimators=num_estimators, learning_rate=0.1, max_depth=3)\n",
        "  xgb_wrapper.fit(X_train, y_train)\n",
        "  w_preds = xgb_wrapper.predict(X_test)\n",
        "  w_pred_proba = xgb_wrapper.predict_proba(X_test)[:, 1]\n",
        "  get_clf_eval(y_test, w_preds)"
      ],
      "execution_count": null,
      "outputs": [
        {
          "output_type": "stream",
          "text": [
            "num estimators =  0\n",
            "오차행렬:\n",
            " [[100   0]\n",
            " [ 54   0]]\n",
            "\n",
            "정확도: 0.6494\n",
            "정밀도: 0.0000\n",
            "재현율: 0.0000\n",
            "F1: 0.0000\n",
            "AUC: 0.5000\n",
            "num estimators =  1\n",
            "오차행렬:\n",
            " [[86 14]\n",
            " [22 32]]\n",
            "\n",
            "정확도: 0.7662\n",
            "정밀도: 0.6957\n",
            "재현율: 0.5926\n",
            "F1: 0.6400\n",
            "AUC: 0.7263\n",
            "num estimators =  2\n",
            "오차행렬:\n",
            " [[86 14]\n",
            " [22 32]]\n",
            "\n",
            "정확도: 0.7662\n",
            "정밀도: 0.6957\n",
            "재현율: 0.5926\n",
            "F1: 0.6400\n",
            "AUC: 0.7263\n",
            "num estimators =  3\n",
            "오차행렬:\n",
            " [[86 14]\n",
            " [22 32]]\n",
            "\n",
            "정확도: 0.7662\n",
            "정밀도: 0.6957\n",
            "재현율: 0.5926\n",
            "F1: 0.6400\n",
            "AUC: 0.7263\n",
            "num estimators =  4\n",
            "오차행렬:\n",
            " [[86 14]\n",
            " [22 32]]\n",
            "\n",
            "정확도: 0.7662\n",
            "정밀도: 0.6957\n",
            "재현율: 0.5926\n",
            "F1: 0.6400\n",
            "AUC: 0.7263\n",
            "num estimators =  5\n",
            "오차행렬:\n",
            " [[86 14]\n",
            " [22 32]]\n",
            "\n",
            "정확도: 0.7662\n",
            "정밀도: 0.6957\n",
            "재현율: 0.5926\n",
            "F1: 0.6400\n",
            "AUC: 0.7263\n",
            "num estimators =  6\n",
            "오차행렬:\n",
            " [[86 14]\n",
            " [22 32]]\n",
            "\n",
            "정확도: 0.7662\n",
            "정밀도: 0.6957\n",
            "재현율: 0.5926\n",
            "F1: 0.6400\n",
            "AUC: 0.7263\n",
            "num estimators =  7\n",
            "오차행렬:\n",
            " [[86 14]\n",
            " [23 31]]\n",
            "\n",
            "정확도: 0.7597\n",
            "정밀도: 0.6889\n",
            "재현율: 0.5741\n",
            "F1: 0.6263\n",
            "AUC: 0.7170\n",
            "num estimators =  8\n",
            "오차행렬:\n",
            " [[84 16]\n",
            " [21 33]]\n",
            "\n",
            "정확도: 0.7597\n",
            "정밀도: 0.6735\n",
            "재현율: 0.6111\n",
            "F1: 0.6408\n",
            "AUC: 0.7256\n",
            "num estimators =  9\n",
            "오차행렬:\n",
            " [[85 15]\n",
            " [23 31]]\n",
            "\n",
            "정확도: 0.7532\n",
            "정밀도: 0.6739\n",
            "재현율: 0.5741\n",
            "F1: 0.6200\n",
            "AUC: 0.7120\n"
          ],
          "name": "stdout"
        }
      ]
    },
    {
      "cell_type": "code",
      "metadata": {
        "id": "BANSAwPFV2us"
      },
      "source": [
        ""
      ],
      "execution_count": null,
      "outputs": []
    },
    {
      "cell_type": "markdown",
      "metadata": {
        "id": "_44--mfK8Jaw"
      },
      "source": [
        "# complexity prediction"
      ]
    },
    {
      "cell_type": "code",
      "metadata": {
        "id": "HunXcsN8RaNj"
      },
      "source": [
        "import pandas as pd\n",
        "import numpy as np\n",
        "import matplotlib.pyplot as plt\n",
        "%matplotlib inline\n",
        "\n",
        "from sklearn.model_selection import train_test_split\n",
        "from sklearn.metrics import accuracy_score, precision_score, recall_score, roc_auc_score\n",
        "from sklearn.metrics import f1_score, confusion_matrix, precision_recall_curve, roc_curve\n",
        "from sklearn.preprocessing import StandardScaler, Binarizer\n",
        "from sklearn.linear_model import LogisticRegression\n",
        "\n",
        "import warnings\n",
        "warnings.filterwarnings('ignore')"
      ],
      "execution_count": null,
      "outputs": []
    },
    {
      "cell_type": "code",
      "metadata": {
        "id": "u23Io44k8Kw8"
      },
      "source": [
        "\n",
        "df = pd.DataFrame({\n",
        "    'complexity': [67, 15,10,52,34,27,22,14,31,24, 47, 7, 17], \n",
        "    'doxygen': [72.8,55,100,100,74,80,84,97,65,70, 30, 100, 95],\n",
        "    'instability': [0.75,0.8,0.25,0.74,0.54,0.42,0.33,0.27,0.30,0.28, 0.85,0.20,0.30],\n",
        "    'modular_score': [0.44,0.85,0.94,0.32,0.47,0.74,0.80,0.98,0.65,0.72,0.22,0.94,0.88],\n",
        "    'quality': [20,84,95,32,40,55,60,98,59,68,7,98,84]})"
      ],
      "execution_count": null,
      "outputs": []
    },
    {
      "cell_type": "code",
      "metadata": {
        "id": "bK9ax7J1B0TO"
      },
      "source": [
        "df = pd.read_csv('complexity_test.csv')"
      ],
      "execution_count": null,
      "outputs": []
    },
    {
      "cell_type": "code",
      "metadata": {
        "id": "yftnBiXyB0V7"
      },
      "source": [
        "df.columns = ['complexity', 'doxygen', 'instability', 'modular_score', 'quality']"
      ],
      "execution_count": null,
      "outputs": []
    },
    {
      "cell_type": "code",
      "metadata": {
        "colab": {
          "base_uri": "https://localhost:8080/",
          "height": 204
        },
        "id": "Ty8_KC7G8LEh",
        "outputId": "b046068a-ada7-432e-d3f8-42825aad2e5e"
      },
      "source": [
        "df.head()\n"
      ],
      "execution_count": null,
      "outputs": [
        {
          "output_type": "execute_result",
          "data": {
            "text/html": [
              "<div>\n",
              "<style scoped>\n",
              "    .dataframe tbody tr th:only-of-type {\n",
              "        vertical-align: middle;\n",
              "    }\n",
              "\n",
              "    .dataframe tbody tr th {\n",
              "        vertical-align: top;\n",
              "    }\n",
              "\n",
              "    .dataframe thead th {\n",
              "        text-align: right;\n",
              "    }\n",
              "</style>\n",
              "<table border=\"1\" class=\"dataframe\">\n",
              "  <thead>\n",
              "    <tr style=\"text-align: right;\">\n",
              "      <th></th>\n",
              "      <th>complexity</th>\n",
              "      <th>doxygen</th>\n",
              "      <th>instability</th>\n",
              "      <th>modular_score</th>\n",
              "      <th>quality</th>\n",
              "    </tr>\n",
              "  </thead>\n",
              "  <tbody>\n",
              "    <tr>\n",
              "      <th>0</th>\n",
              "      <td>15</td>\n",
              "      <td>55.0</td>\n",
              "      <td>0.80</td>\n",
              "      <td>0.85</td>\n",
              "      <td>84</td>\n",
              "    </tr>\n",
              "    <tr>\n",
              "      <th>1</th>\n",
              "      <td>10</td>\n",
              "      <td>100.0</td>\n",
              "      <td>0.25</td>\n",
              "      <td>0.94</td>\n",
              "      <td>95</td>\n",
              "    </tr>\n",
              "    <tr>\n",
              "      <th>2</th>\n",
              "      <td>52</td>\n",
              "      <td>100.0</td>\n",
              "      <td>0.74</td>\n",
              "      <td>0.32</td>\n",
              "      <td>32</td>\n",
              "    </tr>\n",
              "    <tr>\n",
              "      <th>3</th>\n",
              "      <td>34</td>\n",
              "      <td>74.0</td>\n",
              "      <td>0.54</td>\n",
              "      <td>0.47</td>\n",
              "      <td>40</td>\n",
              "    </tr>\n",
              "    <tr>\n",
              "      <th>4</th>\n",
              "      <td>27</td>\n",
              "      <td>80.0</td>\n",
              "      <td>0.42</td>\n",
              "      <td>0.74</td>\n",
              "      <td>55</td>\n",
              "    </tr>\n",
              "  </tbody>\n",
              "</table>\n",
              "</div>"
            ],
            "text/plain": [
              "   complexity  doxygen  instability  modular_score  quality\n",
              "0          15     55.0         0.80           0.85       84\n",
              "1          10    100.0         0.25           0.94       95\n",
              "2          52    100.0         0.74           0.32       32\n",
              "3          34     74.0         0.54           0.47       40\n",
              "4          27     80.0         0.42           0.74       55"
            ]
          },
          "metadata": {},
          "execution_count": 5
        }
      ]
    },
    {
      "cell_type": "code",
      "metadata": {
        "id": "Wu5H4MgW8OB9"
      },
      "source": [
        "X = df.iloc[:, :-1]\n",
        "y = df.iloc[:, -1]"
      ],
      "execution_count": null,
      "outputs": []
    },
    {
      "cell_type": "code",
      "metadata": {
        "colab": {
          "base_uri": "https://localhost:8080/",
          "height": 419
        },
        "id": "QSQsgvhY82KZ",
        "outputId": "5d9c4bff-9d3b-4154-fe10-312f2d3e3820"
      },
      "source": [
        "X\n"
      ],
      "execution_count": null,
      "outputs": [
        {
          "output_type": "execute_result",
          "data": {
            "text/html": [
              "<div>\n",
              "<style scoped>\n",
              "    .dataframe tbody tr th:only-of-type {\n",
              "        vertical-align: middle;\n",
              "    }\n",
              "\n",
              "    .dataframe tbody tr th {\n",
              "        vertical-align: top;\n",
              "    }\n",
              "\n",
              "    .dataframe thead th {\n",
              "        text-align: right;\n",
              "    }\n",
              "</style>\n",
              "<table border=\"1\" class=\"dataframe\">\n",
              "  <thead>\n",
              "    <tr style=\"text-align: right;\">\n",
              "      <th></th>\n",
              "      <th>complexity</th>\n",
              "      <th>doxygen</th>\n",
              "      <th>instability</th>\n",
              "      <th>modular_score</th>\n",
              "    </tr>\n",
              "  </thead>\n",
              "  <tbody>\n",
              "    <tr>\n",
              "      <th>0</th>\n",
              "      <td>15</td>\n",
              "      <td>55.0</td>\n",
              "      <td>0.80</td>\n",
              "      <td>0.85</td>\n",
              "    </tr>\n",
              "    <tr>\n",
              "      <th>1</th>\n",
              "      <td>10</td>\n",
              "      <td>100.0</td>\n",
              "      <td>0.25</td>\n",
              "      <td>0.94</td>\n",
              "    </tr>\n",
              "    <tr>\n",
              "      <th>2</th>\n",
              "      <td>52</td>\n",
              "      <td>100.0</td>\n",
              "      <td>0.74</td>\n",
              "      <td>0.32</td>\n",
              "    </tr>\n",
              "    <tr>\n",
              "      <th>3</th>\n",
              "      <td>34</td>\n",
              "      <td>74.0</td>\n",
              "      <td>0.54</td>\n",
              "      <td>0.47</td>\n",
              "    </tr>\n",
              "    <tr>\n",
              "      <th>4</th>\n",
              "      <td>27</td>\n",
              "      <td>80.0</td>\n",
              "      <td>0.42</td>\n",
              "      <td>0.74</td>\n",
              "    </tr>\n",
              "    <tr>\n",
              "      <th>...</th>\n",
              "      <td>...</td>\n",
              "      <td>...</td>\n",
              "      <td>...</td>\n",
              "      <td>...</td>\n",
              "    </tr>\n",
              "    <tr>\n",
              "      <th>189</th>\n",
              "      <td>31</td>\n",
              "      <td>65.0</td>\n",
              "      <td>0.30</td>\n",
              "      <td>0.65</td>\n",
              "    </tr>\n",
              "    <tr>\n",
              "      <th>190</th>\n",
              "      <td>24</td>\n",
              "      <td>70.0</td>\n",
              "      <td>0.28</td>\n",
              "      <td>0.72</td>\n",
              "    </tr>\n",
              "    <tr>\n",
              "      <th>191</th>\n",
              "      <td>47</td>\n",
              "      <td>30.0</td>\n",
              "      <td>0.85</td>\n",
              "      <td>0.22</td>\n",
              "    </tr>\n",
              "    <tr>\n",
              "      <th>192</th>\n",
              "      <td>7</td>\n",
              "      <td>100.0</td>\n",
              "      <td>0.20</td>\n",
              "      <td>0.94</td>\n",
              "    </tr>\n",
              "    <tr>\n",
              "      <th>193</th>\n",
              "      <td>17</td>\n",
              "      <td>95.0</td>\n",
              "      <td>0.30</td>\n",
              "      <td>0.88</td>\n",
              "    </tr>\n",
              "  </tbody>\n",
              "</table>\n",
              "<p>194 rows × 4 columns</p>\n",
              "</div>"
            ],
            "text/plain": [
              "     complexity  doxygen  instability  modular_score\n",
              "0            15     55.0         0.80           0.85\n",
              "1            10    100.0         0.25           0.94\n",
              "2            52    100.0         0.74           0.32\n",
              "3            34     74.0         0.54           0.47\n",
              "4            27     80.0         0.42           0.74\n",
              "..          ...      ...          ...            ...\n",
              "189          31     65.0         0.30           0.65\n",
              "190          24     70.0         0.28           0.72\n",
              "191          47     30.0         0.85           0.22\n",
              "192           7    100.0         0.20           0.94\n",
              "193          17     95.0         0.30           0.88\n",
              "\n",
              "[194 rows x 4 columns]"
            ]
          },
          "metadata": {},
          "execution_count": 9
        }
      ]
    },
    {
      "cell_type": "code",
      "metadata": {
        "colab": {
          "base_uri": "https://localhost:8080/"
        },
        "id": "tJ6kwvDF83AY",
        "outputId": "da5673d1-9fde-4882-9451-e27a5140ed6d"
      },
      "source": [
        "y"
      ],
      "execution_count": null,
      "outputs": [
        {
          "output_type": "execute_result",
          "data": {
            "text/plain": [
              "0      84\n",
              "1      95\n",
              "2      32\n",
              "3      40\n",
              "4      55\n",
              "       ..\n",
              "189    59\n",
              "190    68\n",
              "191     7\n",
              "192    98\n",
              "193    84\n",
              "Name: quality, Length: 194, dtype: int64"
            ]
          },
          "metadata": {},
          "execution_count": 10
        }
      ]
    },
    {
      "cell_type": "code",
      "metadata": {
        "id": "FiQGYkJO84KS"
      },
      "source": [
        "from sklearn.preprocessing import StandardScaler, Binarizer"
      ],
      "execution_count": null,
      "outputs": []
    },
    {
      "cell_type": "code",
      "metadata": {
        "id": "7mUzUqZR85bQ"
      },
      "source": [
        "scaler = StandardScaler()\n",
        "X_scaled = scaler.fit_transform(X)"
      ],
      "execution_count": null,
      "outputs": []
    },
    {
      "cell_type": "code",
      "metadata": {
        "colab": {
          "base_uri": "https://localhost:8080/"
        },
        "id": "SMsx4rIp9jqR",
        "outputId": "58c1d8c7-4719-4267-d424-eec60669bc39"
      },
      "source": [
        "X_scaled"
      ],
      "execution_count": null,
      "outputs": [
        {
          "output_type": "execute_result",
          "data": {
            "text/plain": [
              "array([[-0.76984276, -1.17748519,  1.47156163,  0.66441658],\n",
              "       [-1.06523338,  1.05756563, -0.9256235 ,  1.03754986],\n",
              "       [ 1.4160478 ,  1.05756563,  1.21005053, -1.53292381],\n",
              "       [ 0.35264158, -0.23379707,  0.33834684, -0.91103502],\n",
              "       [-0.06090528,  0.06420971, -0.18467537,  0.2083648 ],\n",
              "       [-0.3562959 ,  0.26288089, -0.57694203,  0.45712032],\n",
              "       [-0.82892089,  0.90856224, -0.83845313,  1.20338687],\n",
              "       [ 0.17540721, -0.68080723, -0.70769758, -0.16476847],\n",
              "       [-0.23813965, -0.43246825, -0.79486795,  0.1254463 ],\n",
              "       [ 1.12065719, -2.41918009,  1.68948755, -1.94751634],\n",
              "       [-1.24246775,  1.05756563, -1.14354942,  1.03754986],\n",
              "       [-0.65168652,  0.80922665, -0.70769758,  0.78879434],\n",
              "       [ 2.30221965, -0.29339842,  1.25363571, -1.03541278],\n",
              "       [-0.76984276, -1.17748519,  1.47156163,  0.66441658],\n",
              "       [-1.06523338,  1.05756563, -0.9256235 ,  1.03754986],\n",
              "       [ 1.4160478 ,  1.05756563,  1.21005053, -1.53292381],\n",
              "       [ 0.35264158, -0.23379707,  0.33834684, -0.91103502],\n",
              "       [-0.06090528,  0.06420971, -0.18467537,  0.2083648 ],\n",
              "       [-0.3562959 ,  0.26288089, -0.57694203,  0.45712032],\n",
              "       [-0.82892089,  0.90856224, -0.83845313,  1.20338687],\n",
              "       [ 0.17540721, -0.68080723, -0.70769758, -0.16476847],\n",
              "       [-0.23813965, -0.43246825, -0.79486795,  0.1254463 ],\n",
              "       [ 1.12065719, -2.41918009,  1.68948755, -1.94751634],\n",
              "       [-1.24246775,  1.05756563, -1.14354942,  1.03754986],\n",
              "       [-0.65168652,  0.80922665, -0.70769758,  0.78879434],\n",
              "       [ 2.30221965, -0.29339842,  1.25363571, -1.03541278],\n",
              "       [-0.76984276, -1.17748519,  1.47156163,  0.66441658],\n",
              "       [-1.06523338,  1.05756563, -0.9256235 ,  1.03754986],\n",
              "       [ 1.4160478 ,  1.05756563,  1.21005053, -1.53292381],\n",
              "       [ 0.35264158, -0.23379707,  0.33834684, -0.91103502],\n",
              "       [-0.06090528,  0.06420971, -0.18467537,  0.2083648 ],\n",
              "       [-0.3562959 ,  0.26288089, -0.57694203,  0.45712032],\n",
              "       [-0.82892089,  0.90856224, -0.83845313,  1.20338687],\n",
              "       [ 0.17540721, -0.68080723, -0.70769758, -0.16476847],\n",
              "       [-0.23813965, -0.43246825, -0.79486795,  0.1254463 ],\n",
              "       [ 1.12065719, -2.41918009,  1.68948755, -1.94751634],\n",
              "       [-1.24246775,  1.05756563, -1.14354942,  1.03754986],\n",
              "       [-0.65168652,  0.80922665, -0.70769758,  0.78879434],\n",
              "       [ 2.30221965, -0.29339842,  1.25363571, -1.03541278],\n",
              "       [-0.76984276, -1.17748519,  1.47156163,  0.66441658],\n",
              "       [-1.06523338,  1.05756563, -0.9256235 ,  1.03754986],\n",
              "       [ 1.4160478 ,  1.05756563,  1.21005053, -1.53292381],\n",
              "       [ 0.35264158, -0.23379707,  0.33834684, -0.91103502],\n",
              "       [-0.06090528,  0.06420971, -0.18467537,  0.2083648 ],\n",
              "       [-0.3562959 ,  0.26288089, -0.57694203,  0.45712032],\n",
              "       [-0.82892089,  0.90856224, -0.83845313,  1.20338687],\n",
              "       [ 0.17540721, -0.68080723, -0.70769758, -0.16476847],\n",
              "       [-0.23813965, -0.43246825, -0.79486795,  0.1254463 ],\n",
              "       [ 1.12065719, -2.41918009,  1.68948755, -1.94751634],\n",
              "       [-1.24246775,  1.05756563, -1.14354942,  1.03754986],\n",
              "       [-0.65168652,  0.80922665, -0.70769758,  0.78879434],\n",
              "       [ 2.30221965, -0.29339842,  1.25363571, -1.03541278],\n",
              "       [-0.76984276, -1.17748519,  1.47156163,  0.66441658],\n",
              "       [-1.06523338,  1.05756563, -0.9256235 ,  1.03754986],\n",
              "       [ 1.4160478 ,  1.05756563,  1.21005053, -1.53292381],\n",
              "       [ 0.35264158, -0.23379707,  0.33834684, -0.91103502],\n",
              "       [-0.06090528,  0.06420971, -0.18467537,  0.2083648 ],\n",
              "       [-0.3562959 ,  0.26288089, -0.57694203,  0.45712032],\n",
              "       [-0.82892089,  0.90856224, -0.83845313,  1.20338687],\n",
              "       [ 0.17540721, -0.68080723, -0.70769758, -0.16476847],\n",
              "       [-0.23813965, -0.43246825, -0.79486795,  0.1254463 ],\n",
              "       [ 1.12065719, -2.41918009,  1.68948755, -1.94751634],\n",
              "       [-1.24246775,  1.05756563, -1.14354942,  1.03754986],\n",
              "       [-0.65168652,  0.80922665, -0.70769758,  0.78879434],\n",
              "       [ 2.30221965, -0.29339842,  1.25363571, -1.03541278],\n",
              "       [-0.76984276, -1.17748519,  1.47156163,  0.66441658],\n",
              "       [-1.06523338,  1.05756563, -0.9256235 ,  1.03754986],\n",
              "       [ 1.4160478 ,  1.05756563,  1.21005053, -1.53292381],\n",
              "       [ 0.35264158, -0.23379707,  0.33834684, -0.91103502],\n",
              "       [-0.06090528,  0.06420971, -0.18467537,  0.2083648 ],\n",
              "       [-0.3562959 ,  0.26288089, -0.57694203,  0.45712032],\n",
              "       [-0.82892089,  0.90856224, -0.83845313,  1.20338687],\n",
              "       [ 0.17540721, -0.68080723, -0.70769758, -0.16476847],\n",
              "       [-0.23813965, -0.43246825, -0.79486795,  0.1254463 ],\n",
              "       [ 1.12065719, -2.41918009,  1.68948755, -1.94751634],\n",
              "       [-1.24246775,  1.05756563, -1.14354942,  1.03754986],\n",
              "       [-0.65168652,  0.80922665, -0.70769758,  0.78879434],\n",
              "       [ 2.30221965, -0.29339842,  1.25363571, -1.03541278],\n",
              "       [-0.76984276, -1.17748519,  1.47156163,  0.66441658],\n",
              "       [-1.06523338,  1.05756563, -0.9256235 ,  1.03754986],\n",
              "       [ 1.4160478 ,  1.05756563,  1.21005053, -1.53292381],\n",
              "       [ 0.35264158, -0.23379707,  0.33834684, -0.91103502],\n",
              "       [-0.06090528,  0.06420971, -0.18467537,  0.2083648 ],\n",
              "       [-0.3562959 ,  0.26288089, -0.57694203,  0.45712032],\n",
              "       [-0.82892089,  0.90856224, -0.83845313,  1.20338687],\n",
              "       [ 0.17540721, -0.68080723, -0.70769758, -0.16476847],\n",
              "       [-0.23813965, -0.43246825, -0.79486795,  0.1254463 ],\n",
              "       [ 1.12065719, -2.41918009,  1.68948755, -1.94751634],\n",
              "       [-1.24246775,  1.05756563, -1.14354942,  1.03754986],\n",
              "       [-0.65168652,  0.80922665, -0.70769758,  0.78879434],\n",
              "       [ 2.30221965, -0.29339842,  1.25363571, -1.03541278],\n",
              "       [-0.76984276, -1.17748519,  1.47156163,  0.66441658],\n",
              "       [-1.06523338,  1.05756563, -0.9256235 ,  1.03754986],\n",
              "       [ 1.4160478 ,  1.05756563,  1.21005053, -1.53292381],\n",
              "       [ 0.35264158, -0.23379707,  0.33834684, -0.91103502],\n",
              "       [-0.06090528,  0.06420971, -0.18467537,  0.2083648 ],\n",
              "       [-0.3562959 ,  0.26288089, -0.57694203,  0.45712032],\n",
              "       [-0.82892089,  0.90856224, -0.83845313,  1.20338687],\n",
              "       [ 0.17540721, -0.68080723, -0.70769758, -0.16476847],\n",
              "       [-0.23813965, -0.43246825, -0.79486795,  0.1254463 ],\n",
              "       [ 1.12065719, -2.41918009,  1.68948755, -1.94751634],\n",
              "       [-1.24246775,  1.05756563, -1.14354942,  1.03754986],\n",
              "       [-0.65168652,  0.80922665, -0.70769758,  0.78879434],\n",
              "       [ 2.30221965, -0.29339842,  1.25363571, -1.03541278],\n",
              "       [-0.76984276, -1.17748519,  1.47156163,  0.66441658],\n",
              "       [-1.06523338,  1.05756563, -0.9256235 ,  1.03754986],\n",
              "       [ 1.4160478 ,  1.05756563,  1.21005053, -1.53292381],\n",
              "       [ 0.35264158, -0.23379707,  0.33834684, -0.91103502],\n",
              "       [-0.06090528,  0.06420971, -0.18467537,  0.2083648 ],\n",
              "       [-0.3562959 ,  0.26288089, -0.57694203,  0.45712032],\n",
              "       [-0.82892089,  0.90856224, -0.83845313,  1.20338687],\n",
              "       [ 0.17540721, -0.68080723, -0.70769758, -0.16476847],\n",
              "       [-0.23813965, -0.43246825, -0.79486795,  0.1254463 ],\n",
              "       [ 1.12065719, -2.41918009,  1.68948755, -1.94751634],\n",
              "       [-1.24246775,  1.05756563, -1.14354942,  1.03754986],\n",
              "       [-0.65168652,  0.80922665, -0.70769758,  0.78879434],\n",
              "       [ 2.30221965, -0.29339842,  1.25363571, -1.03541278],\n",
              "       [-0.76984276, -1.17748519,  1.47156163,  0.66441658],\n",
              "       [-1.06523338,  1.05756563, -0.9256235 ,  1.03754986],\n",
              "       [ 1.4160478 ,  1.05756563,  1.21005053, -1.53292381],\n",
              "       [ 0.35264158, -0.23379707,  0.33834684, -0.91103502],\n",
              "       [-0.06090528,  0.06420971, -0.18467537,  0.2083648 ],\n",
              "       [-0.3562959 ,  0.26288089, -0.57694203,  0.45712032],\n",
              "       [-0.82892089,  0.90856224, -0.83845313,  1.20338687],\n",
              "       [ 0.17540721, -0.68080723, -0.70769758, -0.16476847],\n",
              "       [-0.23813965, -0.43246825, -0.79486795,  0.1254463 ],\n",
              "       [ 1.12065719, -2.41918009,  1.68948755, -1.94751634],\n",
              "       [-1.24246775,  1.05756563, -1.14354942,  1.03754986],\n",
              "       [-0.65168652,  0.80922665, -0.70769758,  0.78879434],\n",
              "       [ 2.30221965, -0.29339842,  1.25363571, -1.03541278],\n",
              "       [-0.76984276, -1.17748519,  1.47156163,  0.66441658],\n",
              "       [-1.06523338,  1.05756563, -0.9256235 ,  1.03754986],\n",
              "       [ 1.4160478 ,  1.05756563,  1.21005053, -1.53292381],\n",
              "       [ 0.35264158, -0.23379707,  0.33834684, -0.91103502],\n",
              "       [-0.06090528,  0.06420971, -0.18467537,  0.2083648 ],\n",
              "       [-0.3562959 ,  0.26288089, -0.57694203,  0.45712032],\n",
              "       [-0.82892089,  0.90856224, -0.83845313,  1.20338687],\n",
              "       [ 0.17540721, -0.68080723, -0.70769758, -0.16476847],\n",
              "       [-0.23813965, -0.43246825, -0.79486795,  0.1254463 ],\n",
              "       [ 1.12065719, -2.41918009,  1.68948755, -1.94751634],\n",
              "       [-1.24246775,  1.05756563, -1.14354942,  1.03754986],\n",
              "       [-0.65168652,  0.80922665, -0.70769758,  0.78879434],\n",
              "       [ 2.30221965, -0.29339842,  1.25363571, -1.03541278],\n",
              "       [-0.76984276, -1.17748519,  1.47156163,  0.66441658],\n",
              "       [-1.06523338,  1.05756563, -0.9256235 ,  1.03754986],\n",
              "       [ 1.4160478 ,  1.05756563,  1.21005053, -1.53292381],\n",
              "       [ 0.35264158, -0.23379707,  0.33834684, -0.91103502],\n",
              "       [-0.06090528,  0.06420971, -0.18467537,  0.2083648 ],\n",
              "       [-0.3562959 ,  0.26288089, -0.57694203,  0.45712032],\n",
              "       [-0.82892089,  0.90856224, -0.83845313,  1.20338687],\n",
              "       [ 0.17540721, -0.68080723, -0.70769758, -0.16476847],\n",
              "       [-0.23813965, -0.43246825, -0.79486795,  0.1254463 ],\n",
              "       [ 1.12065719, -2.41918009,  1.68948755, -1.94751634],\n",
              "       [-1.24246775,  1.05756563, -1.14354942,  1.03754986],\n",
              "       [-0.65168652,  0.80922665, -0.70769758,  0.78879434],\n",
              "       [ 2.30221965, -0.29339842,  1.25363571, -1.03541278],\n",
              "       [-0.76984276, -1.17748519,  1.47156163,  0.66441658],\n",
              "       [-1.06523338,  1.05756563, -0.9256235 ,  1.03754986],\n",
              "       [ 1.4160478 ,  1.05756563,  1.21005053, -1.53292381],\n",
              "       [ 0.35264158, -0.23379707,  0.33834684, -0.91103502],\n",
              "       [-0.06090528,  0.06420971, -0.18467537,  0.2083648 ],\n",
              "       [-0.3562959 ,  0.26288089, -0.57694203,  0.45712032],\n",
              "       [-0.82892089,  0.90856224, -0.83845313,  1.20338687],\n",
              "       [ 0.17540721, -0.68080723, -0.70769758, -0.16476847],\n",
              "       [-0.23813965, -0.43246825, -0.79486795,  0.1254463 ],\n",
              "       [ 1.12065719, -2.41918009,  1.68948755, -1.94751634],\n",
              "       [-1.24246775,  1.05756563, -1.14354942,  1.03754986],\n",
              "       [-0.65168652,  0.80922665, -0.70769758,  0.78879434],\n",
              "       [ 2.30221965, -0.29339842,  1.25363571, -1.03541278],\n",
              "       [-0.76984276, -1.17748519,  1.47156163,  0.66441658],\n",
              "       [-1.06523338,  1.05756563, -0.9256235 ,  1.03754986],\n",
              "       [ 1.4160478 ,  1.05756563,  1.21005053, -1.53292381],\n",
              "       [ 0.35264158, -0.23379707,  0.33834684, -0.91103502],\n",
              "       [-0.06090528,  0.06420971, -0.18467537,  0.2083648 ],\n",
              "       [-0.3562959 ,  0.26288089, -0.57694203,  0.45712032],\n",
              "       [-0.82892089,  0.90856224, -0.83845313,  1.20338687],\n",
              "       [ 0.17540721, -0.68080723, -0.70769758, -0.16476847],\n",
              "       [-0.23813965, -0.43246825, -0.79486795,  0.1254463 ],\n",
              "       [ 1.12065719, -2.41918009,  1.68948755, -1.94751634],\n",
              "       [-1.24246775,  1.05756563, -1.14354942,  1.03754986],\n",
              "       [-0.65168652,  0.80922665, -0.70769758,  0.78879434],\n",
              "       [ 2.30221965, -0.29339842,  1.25363571, -1.03541278],\n",
              "       [-0.76984276, -1.17748519,  1.47156163,  0.66441658],\n",
              "       [-1.06523338,  1.05756563, -0.9256235 ,  1.03754986],\n",
              "       [ 1.4160478 ,  1.05756563,  1.21005053, -1.53292381],\n",
              "       [ 0.35264158, -0.23379707,  0.33834684, -0.91103502],\n",
              "       [-0.06090528,  0.06420971, -0.18467537,  0.2083648 ],\n",
              "       [-0.3562959 ,  0.26288089, -0.57694203,  0.45712032],\n",
              "       [-0.82892089,  0.90856224, -0.83845313,  1.20338687],\n",
              "       [ 0.17540721, -0.68080723, -0.70769758, -0.16476847],\n",
              "       [-0.23813965, -0.43246825, -0.79486795,  0.1254463 ],\n",
              "       [ 1.12065719, -2.41918009,  1.68948755, -1.94751634],\n",
              "       [-1.24246775,  1.05756563, -1.14354942,  1.03754986],\n",
              "       [-0.65168652,  0.80922665, -0.70769758,  0.78879434]])"
            ]
          },
          "metadata": {},
          "execution_count": 13
        }
      ]
    },
    {
      "cell_type": "code",
      "metadata": {
        "id": "gOb7rSG89j_B"
      },
      "source": [
        ""
      ],
      "execution_count": null,
      "outputs": []
    },
    {
      "cell_type": "code",
      "metadata": {
        "colab": {
          "base_uri": "https://localhost:8080/"
        },
        "id": "JAfZuvHC9xp2",
        "outputId": "157c1a66-6b97-4346-b139-044e07ab8340"
      },
      "source": [
        "len(X)"
      ],
      "execution_count": null,
      "outputs": [
        {
          "output_type": "execute_result",
          "data": {
            "text/plain": [
              "194"
            ]
          },
          "metadata": {},
          "execution_count": 14
        }
      ]
    },
    {
      "cell_type": "code",
      "metadata": {
        "colab": {
          "base_uri": "https://localhost:8080/",
          "height": 419
        },
        "id": "Y4sLBc--96HX",
        "outputId": "5185e4ef-6574-410e-8712-7df7d99909d8"
      },
      "source": [
        "X\n"
      ],
      "execution_count": null,
      "outputs": [
        {
          "output_type": "execute_result",
          "data": {
            "text/html": [
              "<div>\n",
              "<style scoped>\n",
              "    .dataframe tbody tr th:only-of-type {\n",
              "        vertical-align: middle;\n",
              "    }\n",
              "\n",
              "    .dataframe tbody tr th {\n",
              "        vertical-align: top;\n",
              "    }\n",
              "\n",
              "    .dataframe thead th {\n",
              "        text-align: right;\n",
              "    }\n",
              "</style>\n",
              "<table border=\"1\" class=\"dataframe\">\n",
              "  <thead>\n",
              "    <tr style=\"text-align: right;\">\n",
              "      <th></th>\n",
              "      <th>complexity</th>\n",
              "      <th>doxygen</th>\n",
              "      <th>instability</th>\n",
              "      <th>modular_score</th>\n",
              "    </tr>\n",
              "  </thead>\n",
              "  <tbody>\n",
              "    <tr>\n",
              "      <th>0</th>\n",
              "      <td>15</td>\n",
              "      <td>55.0</td>\n",
              "      <td>0.80</td>\n",
              "      <td>0.85</td>\n",
              "    </tr>\n",
              "    <tr>\n",
              "      <th>1</th>\n",
              "      <td>10</td>\n",
              "      <td>100.0</td>\n",
              "      <td>0.25</td>\n",
              "      <td>0.94</td>\n",
              "    </tr>\n",
              "    <tr>\n",
              "      <th>2</th>\n",
              "      <td>52</td>\n",
              "      <td>100.0</td>\n",
              "      <td>0.74</td>\n",
              "      <td>0.32</td>\n",
              "    </tr>\n",
              "    <tr>\n",
              "      <th>3</th>\n",
              "      <td>34</td>\n",
              "      <td>74.0</td>\n",
              "      <td>0.54</td>\n",
              "      <td>0.47</td>\n",
              "    </tr>\n",
              "    <tr>\n",
              "      <th>4</th>\n",
              "      <td>27</td>\n",
              "      <td>80.0</td>\n",
              "      <td>0.42</td>\n",
              "      <td>0.74</td>\n",
              "    </tr>\n",
              "    <tr>\n",
              "      <th>...</th>\n",
              "      <td>...</td>\n",
              "      <td>...</td>\n",
              "      <td>...</td>\n",
              "      <td>...</td>\n",
              "    </tr>\n",
              "    <tr>\n",
              "      <th>189</th>\n",
              "      <td>31</td>\n",
              "      <td>65.0</td>\n",
              "      <td>0.30</td>\n",
              "      <td>0.65</td>\n",
              "    </tr>\n",
              "    <tr>\n",
              "      <th>190</th>\n",
              "      <td>24</td>\n",
              "      <td>70.0</td>\n",
              "      <td>0.28</td>\n",
              "      <td>0.72</td>\n",
              "    </tr>\n",
              "    <tr>\n",
              "      <th>191</th>\n",
              "      <td>47</td>\n",
              "      <td>30.0</td>\n",
              "      <td>0.85</td>\n",
              "      <td>0.22</td>\n",
              "    </tr>\n",
              "    <tr>\n",
              "      <th>192</th>\n",
              "      <td>7</td>\n",
              "      <td>100.0</td>\n",
              "      <td>0.20</td>\n",
              "      <td>0.94</td>\n",
              "    </tr>\n",
              "    <tr>\n",
              "      <th>193</th>\n",
              "      <td>17</td>\n",
              "      <td>95.0</td>\n",
              "      <td>0.30</td>\n",
              "      <td>0.88</td>\n",
              "    </tr>\n",
              "  </tbody>\n",
              "</table>\n",
              "<p>194 rows × 4 columns</p>\n",
              "</div>"
            ],
            "text/plain": [
              "     complexity  doxygen  instability  modular_score\n",
              "0            15     55.0         0.80           0.85\n",
              "1            10    100.0         0.25           0.94\n",
              "2            52    100.0         0.74           0.32\n",
              "3            34     74.0         0.54           0.47\n",
              "4            27     80.0         0.42           0.74\n",
              "..          ...      ...          ...            ...\n",
              "189          31     65.0         0.30           0.65\n",
              "190          24     70.0         0.28           0.72\n",
              "191          47     30.0         0.85           0.22\n",
              "192           7    100.0         0.20           0.94\n",
              "193          17     95.0         0.30           0.88\n",
              "\n",
              "[194 rows x 4 columns]"
            ]
          },
          "metadata": {},
          "execution_count": 15
        }
      ]
    },
    {
      "cell_type": "code",
      "metadata": {
        "colab": {
          "base_uri": "https://localhost:8080/"
        },
        "id": "5eq5vuZL9xsc",
        "outputId": "eba21bce-145c-479d-c1ee-abfa5c404632"
      },
      "source": [
        "len(y)"
      ],
      "execution_count": null,
      "outputs": [
        {
          "output_type": "execute_result",
          "data": {
            "text/plain": [
              "194"
            ]
          },
          "metadata": {},
          "execution_count": 146
        }
      ]
    },
    {
      "cell_type": "code",
      "metadata": {
        "id": "SjO-MxH686JZ"
      },
      "source": [
        "X_train, X_test, y_train, y_test = train_test_split(X, y, test_size = 0.2, stratify = y, random_state=34)\n"
      ],
      "execution_count": null,
      "outputs": []
    },
    {
      "cell_type": "code",
      "metadata": {
        "id": "QNenr4vN-I_y"
      },
      "source": [
        ""
      ],
      "execution_count": null,
      "outputs": []
    },
    {
      "cell_type": "code",
      "metadata": {
        "id": "zuLVs01wcTjA"
      },
      "source": [
        ""
      ],
      "execution_count": null,
      "outputs": []
    },
    {
      "cell_type": "markdown",
      "metadata": {
        "id": "IIDiqM0UcUJz"
      },
      "source": [
        "\n",
        "# xgboost\n"
      ]
    },
    {
      "cell_type": "code",
      "metadata": {
        "id": "BnBa8ePNcTmH"
      },
      "source": [
        "from sklearn.datasets import load_boston\n",
        "import xgboost\n",
        "import xgboost as xgb\n",
        "import matplotlib.pyplot as plt\n",
        "from sklearn.model_selection import train_test_split\n",
        "from sklearn.metrics import explained_variance_score"
      ],
      "execution_count": null,
      "outputs": []
    },
    {
      "cell_type": "code",
      "metadata": {
        "id": "fr2JCrz-cTpW"
      },
      "source": [
        "xgb_model = xgboost.XGBRegressor(n_estimators=100, learning_rate=0.08, gamma=0, subsample=0.75,\n",
        "                           colsample_bytree=1, max_depth=7)"
      ],
      "execution_count": null,
      "outputs": []
    },
    {
      "cell_type": "code",
      "metadata": {
        "colab": {
          "base_uri": "https://localhost:8080/"
        },
        "id": "wAju69UgcTsE",
        "outputId": "8231ba2f-164a-4c36-f21e-0f93548b0960"
      },
      "source": [
        "xgb_model.fit(X_train, y_train)"
      ],
      "execution_count": null,
      "outputs": [
        {
          "output_type": "stream",
          "text": [
            "[09:10:06] WARNING: /workspace/src/objective/regression_obj.cu:152: reg:linear is now deprecated in favor of reg:squarederror.\n"
          ],
          "name": "stdout"
        },
        {
          "output_type": "execute_result",
          "data": {
            "text/plain": [
              "XGBRegressor(base_score=0.5, booster='gbtree', colsample_bylevel=1,\n",
              "             colsample_bynode=1, colsample_bytree=1, gamma=0,\n",
              "             importance_type='gain', learning_rate=0.08, max_delta_step=0,\n",
              "             max_depth=7, min_child_weight=1, missing=None, n_estimators=100,\n",
              "             n_jobs=1, nthread=None, objective='reg:linear', random_state=0,\n",
              "             reg_alpha=0, reg_lambda=1, scale_pos_weight=1, seed=None,\n",
              "             silent=None, subsample=0.75, verbosity=1)"
            ]
          },
          "metadata": {},
          "execution_count": 12
        }
      ]
    },
    {
      "cell_type": "code",
      "metadata": {
        "colab": {
          "base_uri": "https://localhost:8080/",
          "height": 313
        },
        "id": "wgRBFX-SchFx",
        "outputId": "61fe9cd2-00c3-422e-8985-6cd0c62441a5"
      },
      "source": [
        "xgboost.plot_importance(xgb_model)"
      ],
      "execution_count": null,
      "outputs": [
        {
          "output_type": "execute_result",
          "data": {
            "text/plain": [
              "<matplotlib.axes._subplots.AxesSubplot at 0x7f2a24398c50>"
            ]
          },
          "metadata": {},
          "execution_count": 13
        },
        {
          "output_type": "display_data",
          "data": {
            "image/png": "[encoded data removed]",
            "text/plain": [
              "<Figure size 432x288 with 1 Axes>"
            ]
          },
          "metadata": {
            "needs_background": "light"
          }
        }
      ]
    },
    {
      "cell_type": "code",
      "metadata": {
        "colab": {
          "base_uri": "https://localhost:8080/"
        },
        "id": "gA6ahnumxAI2",
        "outputId": "7dc2f1bb-4d9e-404f-9449-ca4fda7b310d"
      },
      "source": [
        "xgb_model.feature_importances_"
      ],
      "execution_count": null,
      "outputs": [
        {
          "output_type": "execute_result",
          "data": {
            "text/plain": [
              "array([0.7079052 , 0.19997104, 0.09051152, 0.00161226], dtype=float32)"
            ]
          },
          "metadata": {},
          "execution_count": 14
        }
      ]
    },
    {
      "cell_type": "code",
      "metadata": {
        "colab": {
          "base_uri": "https://localhost:8080/",
          "height": 461
        },
        "id": "ftywPXfdxALo",
        "outputId": "b0697186-c467-4e1b-cdc5-08996fe56989"
      },
      "source": [
        "import matplotlib.pyplot as plt\n",
        "\n",
        "\n",
        "fig, axes = plt.subplots(nrows=2, ncols=3, figsize=(20,8))\n",
        "axes = [ax for row_axes in axes for ax in row_axes]\n",
        "\n",
        "for i, type in enumerate(['gain', 'cover', 'weight', 'total_gain', 'total_cover']):\n",
        "  xgboost.plot_importance(xgb_model, importance_type=type, title=type, xlabel='', grid=False, ax=axes[i])\n",
        "\n",
        "plt.tight_layout()\n",
        "plt.show()"
      ],
      "execution_count": null,
      "outputs": [
        {
          "output_type": "display_data",
          "data": {
            "image/png": "[encoded data removed]",
            "text/plain": [
              "<Figure size 1440x576 with 6 Axes>"
            ]
          },
          "metadata": {
            "needs_background": "light"
          }
        }
      ]
    },
    {
      "cell_type": "code",
      "metadata": {
        "id": "em7SioACxb3o"
      },
      "source": [
        ""
      ],
      "execution_count": null,
      "outputs": []
    },
    {
      "cell_type": "code",
      "metadata": {
        "colab": {
          "base_uri": "https://localhost:8080/",
          "height": 172
        },
        "id": "bQYNU8y-xb54",
        "outputId": "c5a03020-b7e0-429b-c4e0-354bac15014e"
      },
      "source": [
        "xgb_model."
      ],
      "execution_count": null,
      "outputs": [
        {
          "output_type": "error",
          "ename": "AttributeError",
          "evalue": "ignored",
          "traceback": [
            "\u001b[0;31m---------------------------------------------------------------------------\u001b[0m",
            "\u001b[0;31mAttributeError\u001b[0m                            Traceback (most recent call last)",
            "\u001b[0;32m<ipython-input-45-3179e01a5800>\u001b[0m in \u001b[0;36m<module>\u001b[0;34m()\u001b[0m\n\u001b[0;32m----> 1\u001b[0;31m \u001b[0mxgb_model\u001b[0m\u001b[0;34m.\u001b[0m\u001b[0mbest_ntree_limit\u001b[0m\u001b[0;34m\u001b[0m\u001b[0;34m\u001b[0m\u001b[0m\n\u001b[0m",
            "\u001b[0;31mAttributeError\u001b[0m: 'XGBRegressor' object has no attribute 'best_ntree_limit'"
          ]
        }
      ]
    },
    {
      "cell_type": "code",
      "metadata": {
        "id": "kRABSa8Qxb8H"
      },
      "source": [
        ""
      ],
      "execution_count": null,
      "outputs": []
    },
    {
      "cell_type": "code",
      "metadata": {
        "id": "wdxwlqPHxb-c"
      },
      "source": [
        ""
      ],
      "execution_count": null,
      "outputs": []
    },
    {
      "cell_type": "markdown",
      "metadata": {
        "id": "wMQ06RtRxAQB"
      },
      "source": [
        ""
      ]
    },
    {
      "cell_type": "code",
      "metadata": {
        "id": "vt9WuYkychIS"
      },
      "source": [
        "predictions = xgb_model.predict(X_test)"
      ],
      "execution_count": null,
      "outputs": []
    },
    {
      "cell_type": "code",
      "metadata": {
        "colab": {
          "base_uri": "https://localhost:8080/"
        },
        "id": "BqnukfdIcqjV",
        "outputId": "5cf54949-33a0-43f7-af4f-80ed1e37f391"
      },
      "source": [
        "predictions"
      ],
      "execution_count": null,
      "outputs": [
        {
          "output_type": "execute_result",
          "data": {
            "text/plain": [
              "array([58.98365  , 67.96056  , 59.993534 , 19.994194 , 97.92856  ,\n",
              "       19.994194 , 83.9599   , 39.98724  , 59.993534 , 54.974895 ,\n",
              "       58.98365  , 31.99045  , 58.98365  , 83.9599   ,  6.9966693,\n",
              "       54.974895 ,  6.9966693, 97.93545  , 83.9599   , 31.99045  ,\n",
              "       54.974895 , 83.9599   , 39.98724  , 97.92856  , 67.96056  ,\n",
              "        6.9966693, 19.994194 , 39.98724  , 97.92856  , 59.993534 ,\n",
              "       97.92856  , 97.92856  , 94.98696  , 67.96056  , 83.9599   ,\n",
              "       94.98696  , 83.976875 , 31.99045  , 94.98696  ], dtype=float32)"
            ]
          },
          "metadata": {},
          "execution_count": 31
        }
      ]
    },
    {
      "cell_type": "code",
      "metadata": {
        "id": "pxBzLvHt_uJg"
      },
      "source": [
        "predictions = xgb_model.predict(X_test, ntree_limit=50)"
      ],
      "execution_count": null,
      "outputs": []
    },
    {
      "cell_type": "code",
      "metadata": {
        "colab": {
          "base_uri": "https://localhost:8080/"
        },
        "id": "kSGUX7wss7vs",
        "outputId": "cf5ffe8f-042c-470e-cb0e-69ae6b9ff31d"
      },
      "source": [
        "predictions"
      ],
      "execution_count": null,
      "outputs": [
        {
          "output_type": "execute_result",
          "data": {
            "text/plain": [
              "array([57.98265 , 66.40147 , 59.328632, 19.656666, 95.28996 , 19.656666,\n",
              "       82.37731 , 39.34766 , 59.328632, 54.070503, 57.98265 , 31.477081,\n",
              "       57.98265 , 82.37731 ,  6.843997, 54.070503,  6.843997, 95.42642 ,\n",
              "       82.37731 , 31.477081, 54.070503, 82.37731 , 39.34766 , 95.28996 ,\n",
              "       66.40147 ,  6.843997, 19.656666, 39.34766 , 95.28996 , 59.328632,\n",
              "       95.28996 , 95.28996 , 94.19446 , 66.40147 , 82.37731 , 94.19446 ,\n",
              "       82.71249 , 31.477081, 94.19446 ], dtype=float32)"
            ]
          },
          "metadata": {},
          "execution_count": 20
        }
      ]
    },
    {
      "cell_type": "code",
      "metadata": {
        "id": "9rpesG-Ds7yy"
      },
      "source": [
        ""
      ],
      "execution_count": null,
      "outputs": []
    },
    {
      "cell_type": "code",
      "metadata": {
        "colab": {
          "base_uri": "https://localhost:8080/"
        },
        "id": "SwykQ12WcqmQ",
        "outputId": "b8aea94f-da10-443a-e55e-28b9d6093899"
      },
      "source": [
        "r_sq = xgb_model.score(X_train, y_train)\n",
        "print(r_sq)\n",
        "print(explained_variance_score(predictions,y_test))"
      ],
      "execution_count": null,
      "outputs": [
        {
          "output_type": "stream",
          "text": [
            "0.9999986967518744\n",
            "0.9999994079083193\n"
          ],
          "name": "stdout"
        }
      ]
    },
    {
      "cell_type": "code",
      "metadata": {
        "id": "8f2OtH5bc9Xl"
      },
      "source": [
        ""
      ],
      "execution_count": null,
      "outputs": []
    },
    {
      "cell_type": "markdown",
      "metadata": {
        "id": "DhnL9zfSTfwJ"
      },
      "source": [
        "# model save"
      ]
    },
    {
      "cell_type": "code",
      "metadata": {
        "id": "g1rEhWXhc9ao"
      },
      "source": [
        "xgb_model.save_model(\"model.json\")"
      ],
      "execution_count": null,
      "outputs": []
    },
    {
      "cell_type": "code",
      "metadata": {
        "id": "ILXt8QNDTg1d"
      },
      "source": [
        "xgb_model.save_model(\"model.txt\")"
      ],
      "execution_count": null,
      "outputs": []
    },
    {
      "cell_type": "markdown",
      "metadata": {
        "id": "cPNkJU9DT65K"
      },
      "source": [
        "#load\n"
      ]
    },
    {
      "cell_type": "code",
      "metadata": {
        "id": "ppkwwoTyTg3u"
      },
      "source": [
        "model2 = xgb.XGBRegressor()"
      ],
      "execution_count": null,
      "outputs": []
    },
    {
      "cell_type": "code",
      "metadata": {
        "colab": {
          "base_uri": "https://localhost:8080/"
        },
        "id": "aequprBLcqs-",
        "outputId": "fb97b01a-239d-426a-e9a5-77f07081fcce"
      },
      "source": [
        "model2.load_model(\"model.json\")"
      ],
      "execution_count": null,
      "outputs": [
        {
          "output_type": "stream",
          "text": [
            "[09:33:54] WARNING: /workspace/src/objective/regression_obj.cu:152: reg:linear is now deprecated in favor of reg:squarederror.\n"
          ],
          "name": "stdout"
        }
      ]
    },
    {
      "cell_type": "code",
      "metadata": {
        "id": "QtcIkJjlT8tK"
      },
      "source": [
        "resutl = model2.predict(X_test, ntree_limit=50)"
      ],
      "execution_count": null,
      "outputs": []
    },
    {
      "cell_type": "code",
      "metadata": {
        "colab": {
          "base_uri": "https://localhost:8080/"
        },
        "id": "NKcUQmrBT8v8",
        "outputId": "aaff3c55-e889-4614-c889-064ba9dac8ef"
      },
      "source": [
        "resutl"
      ],
      "execution_count": null,
      "outputs": [
        {
          "output_type": "execute_result",
          "data": {
            "text/plain": [
              "array([57.98265 , 66.40147 , 59.328632, 19.656666, 95.28996 , 19.656666,\n",
              "       82.37731 , 39.34766 , 59.328632, 54.070503, 57.98265 , 31.477081,\n",
              "       57.98265 , 82.37731 ,  6.843997, 54.070503,  6.843997, 95.42642 ,\n",
              "       82.37731 , 31.477081, 54.070503, 82.37731 , 39.34766 , 95.28996 ,\n",
              "       66.40147 ,  6.843997, 19.656666, 39.34766 , 95.28996 , 59.328632,\n",
              "       95.28996 , 95.28996 , 94.19446 , 66.40147 , 82.37731 , 94.19446 ,\n",
              "       82.71249 , 31.477081, 94.19446 ], dtype=float32)"
            ]
          },
          "metadata": {},
          "execution_count": 35
        }
      ]
    },
    {
      "cell_type": "code",
      "metadata": {
        "id": "R5g-VL_xT81S"
      },
      "source": [
        ""
      ],
      "execution_count": null,
      "outputs": []
    },
    {
      "cell_type": "markdown",
      "metadata": {
        "id": "2kmtEPZBcXTe"
      },
      "source": [
        "# XGBClassifier"
      ]
    },
    {
      "cell_type": "code",
      "metadata": {
        "id": "9j5yOFA89QXs"
      },
      "source": [
        "from xgboost import XGBClassifier"
      ],
      "execution_count": null,
      "outputs": []
    },
    {
      "cell_type": "code",
      "metadata": {
        "id": "FSWeNAPS-Kv8"
      },
      "source": [
        "xgb_wrapper = XGBClassifier(n_estimators=400, learning_rate=0.1, max_depth=3)"
      ],
      "execution_count": null,
      "outputs": []
    },
    {
      "cell_type": "code",
      "metadata": {
        "colab": {
          "base_uri": "https://localhost:8080/"
        },
        "id": "siR_fdb4-Lkj",
        "outputId": "26ac6a1f-b109-43a5-b2a0-8908d2169e8b"
      },
      "source": [
        "xgb_wrapper.fit(X_train, y_train)"
      ],
      "execution_count": null,
      "outputs": [
        {
          "output_type": "execute_result",
          "data": {
            "text/plain": [
              "XGBClassifier(base_score=0.5, booster='gbtree', colsample_bylevel=1,\n",
              "              colsample_bynode=1, colsample_bytree=1, gamma=0,\n",
              "              learning_rate=0.1, max_delta_step=0, max_depth=3,\n",
              "              min_child_weight=1, missing=None, n_estimators=400, n_jobs=1,\n",
              "              nthread=None, objective='multi:softprob', random_state=0,\n",
              "              reg_alpha=0, reg_lambda=1, scale_pos_weight=1, seed=None,\n",
              "              silent=None, subsample=1, verbosity=1)"
            ]
          },
          "metadata": {},
          "execution_count": 158
        }
      ]
    },
    {
      "cell_type": "code",
      "metadata": {
        "id": "WFaIVJWW-MMT"
      },
      "source": [
        "w_preds = xgb_wrapper.predict(X_test)"
      ],
      "execution_count": null,
      "outputs": []
    },
    {
      "cell_type": "code",
      "metadata": {
        "colab": {
          "base_uri": "https://localhost:8080/"
        },
        "id": "gNEPzdWfAeiV",
        "outputId": "b5a2de9f-db1b-4fe1-bb5a-b6bf9de79a4b"
      },
      "source": [
        "w_preds"
      ],
      "execution_count": null,
      "outputs": [
        {
          "output_type": "execute_result",
          "data": {
            "text/plain": [
              "array([59, 68, 60, 20, 98, 20, 84, 40, 60, 55, 59, 32, 59, 84,  7, 55,  7,\n",
              "       98, 84, 32, 55, 84, 40, 98, 68,  7, 20, 40, 98, 60, 98, 98, 95, 68,\n",
              "       84, 95, 84, 32, 95])"
            ]
          },
          "metadata": {},
          "execution_count": 160
        }
      ]
    },
    {
      "cell_type": "code",
      "metadata": {
        "colab": {
          "base_uri": "https://localhost:8080/",
          "height": 204
        },
        "id": "Y5CUKeTb-qm9",
        "outputId": "4cd68ed6-2041-46e7-c8eb-ed421f17a310"
      },
      "source": [
        "X_test[:5]"
      ],
      "execution_count": null,
      "outputs": [
        {
          "output_type": "execute_result",
          "data": {
            "text/html": [
              "<div>\n",
              "<style scoped>\n",
              "    .dataframe tbody tr th:only-of-type {\n",
              "        vertical-align: middle;\n",
              "    }\n",
              "\n",
              "    .dataframe tbody tr th {\n",
              "        vertical-align: top;\n",
              "    }\n",
              "\n",
              "    .dataframe thead th {\n",
              "        text-align: right;\n",
              "    }\n",
              "</style>\n",
              "<table border=\"1\" class=\"dataframe\">\n",
              "  <thead>\n",
              "    <tr style=\"text-align: right;\">\n",
              "      <th></th>\n",
              "      <th>complexity</th>\n",
              "      <th>doxygen</th>\n",
              "      <th>instability</th>\n",
              "      <th>modular_score</th>\n",
              "    </tr>\n",
              "  </thead>\n",
              "  <tbody>\n",
              "    <tr>\n",
              "      <th>7</th>\n",
              "      <td>31</td>\n",
              "      <td>65.0</td>\n",
              "      <td>0.30</td>\n",
              "      <td>0.65</td>\n",
              "    </tr>\n",
              "    <tr>\n",
              "      <th>34</th>\n",
              "      <td>24</td>\n",
              "      <td>70.0</td>\n",
              "      <td>0.28</td>\n",
              "      <td>0.72</td>\n",
              "    </tr>\n",
              "    <tr>\n",
              "      <th>187</th>\n",
              "      <td>22</td>\n",
              "      <td>84.0</td>\n",
              "      <td>0.33</td>\n",
              "      <td>0.80</td>\n",
              "    </tr>\n",
              "    <tr>\n",
              "      <th>51</th>\n",
              "      <td>67</td>\n",
              "      <td>72.8</td>\n",
              "      <td>0.75</td>\n",
              "      <td>0.44</td>\n",
              "    </tr>\n",
              "    <tr>\n",
              "      <th>166</th>\n",
              "      <td>7</td>\n",
              "      <td>100.0</td>\n",
              "      <td>0.20</td>\n",
              "      <td>0.94</td>\n",
              "    </tr>\n",
              "  </tbody>\n",
              "</table>\n",
              "</div>"
            ],
            "text/plain": [
              "     complexity  doxygen  instability  modular_score\n",
              "7            31     65.0         0.30           0.65\n",
              "34           24     70.0         0.28           0.72\n",
              "187          22     84.0         0.33           0.80\n",
              "51           67     72.8         0.75           0.44\n",
              "166           7    100.0         0.20           0.94"
            ]
          },
          "metadata": {},
          "execution_count": 169
        }
      ]
    },
    {
      "cell_type": "code",
      "metadata": {
        "colab": {
          "base_uri": "https://localhost:8080/"
        },
        "id": "LNajheym-kSp",
        "outputId": "6e36e24f-c6df-4152-f874-3900b0eb6319"
      },
      "source": [
        "w_preds"
      ],
      "execution_count": null,
      "outputs": [
        {
          "output_type": "execute_result",
          "data": {
            "text/plain": [
              "array([59, 68, 60, 20, 98, 20, 84, 40, 60, 55, 59, 32, 59, 84,  7, 55,  7,\n",
              "       98, 84, 32, 55, 84, 40, 98, 68,  7, 20, 40, 98, 60, 98, 98, 95, 68,\n",
              "       84, 95, 84, 32, 95])"
            ]
          },
          "metadata": {},
          "execution_count": 162
        }
      ]
    },
    {
      "cell_type": "code",
      "metadata": {
        "id": "pQDA_8aM-VnP"
      },
      "source": [
        "w_pred_proba = xgb_wrapper.predict_proba(X_test)[:, 1]"
      ],
      "execution_count": null,
      "outputs": []
    },
    {
      "cell_type": "code",
      "metadata": {
        "colab": {
          "base_uri": "https://localhost:8080/"
        },
        "id": "FjBUZBkZAP5-",
        "outputId": "7a44b7af-d56d-4459-b793-10b173ffd933"
      },
      "source": [
        "w_pred_proba"
      ],
      "execution_count": null,
      "outputs": [
        {
          "output_type": "execute_result",
          "data": {
            "text/plain": [
              "array([4.4500250e-03, 4.3878625e-03, 5.0187879e-03, 9.5810127e-01,\n",
              "       8.7454991e-04, 9.5810127e-01, 1.8518582e-03, 4.9674041e-03,\n",
              "       5.0187879e-03, 5.0456850e-03, 4.4500250e-03, 3.3853285e-03,\n",
              "       4.4500250e-03, 1.8518582e-03, 1.9301957e-03, 5.0456850e-03,\n",
              "       1.9301957e-03, 1.9053089e-03, 1.8518582e-03, 3.3853285e-03,\n",
              "       5.0456850e-03, 1.8518582e-03, 4.9674041e-03, 8.7454991e-04,\n",
              "       4.3878625e-03, 1.9301957e-03, 9.5810127e-01, 4.9674041e-03,\n",
              "       8.7454991e-04, 5.0187879e-03, 8.7454991e-04, 8.7454991e-04,\n",
              "       2.2024310e-03, 4.3878625e-03, 1.8518582e-03, 2.2024310e-03,\n",
              "       2.1944486e-03, 3.3853285e-03, 2.2024310e-03], dtype=float32)"
            ]
          },
          "metadata": {},
          "execution_count": 164
        }
      ]
    },
    {
      "cell_type": "markdown",
      "metadata": {
        "id": "9jilcX99CqbW"
      },
      "source": [
        "#evaluation"
      ]
    },
    {
      "cell_type": "code",
      "metadata": {
        "id": "bFXOpGz0CzrN"
      },
      "source": [
        "from sklearn.metrics import explained_variance_score"
      ],
      "execution_count": null,
      "outputs": []
    },
    {
      "cell_type": "code",
      "metadata": {
        "colab": {
          "base_uri": "https://localhost:8080/"
        },
        "id": "w7puDa6OAP8c",
        "outputId": "ab33d2d1-3984-4c9f-de1e-35dba4b98250"
      },
      "source": [
        "r_sq = xgb_wrapper.score(X_train, y_train)\n",
        "print(r_sq)\n",
        "\n",
        "# Explained variance regression score function.\n",
        "# Best possible score is 1.0, lower values are worse.\n",
        "print(explained_variance_score(w_preds, y_test))"
      ],
      "execution_count": null,
      "outputs": [
        {
          "output_type": "stream",
          "text": [
            "1.0\n",
            "1.0\n"
          ],
          "name": "stdout"
        }
      ]
    },
    {
      "cell_type": "code",
      "metadata": {
        "id": "RB1JCEnyAP-i"
      },
      "source": [
        ""
      ],
      "execution_count": null,
      "outputs": []
    },
    {
      "cell_type": "code",
      "metadata": {
        "id": "Pp5cNXkbAQAz"
      },
      "source": [
        ""
      ],
      "execution_count": null,
      "outputs": []
    },
    {
      "cell_type": "markdown",
      "metadata": {
        "id": "95KDO1RHAQdf"
      },
      "source": [
        "#binary classification이 아니므로, 아래 confusion matrix를 통한 평가는 필요 없음"
      ]
    },
    {
      "cell_type": "code",
      "metadata": {
        "colab": {
          "base_uri": "https://localhost:8080/",
          "height": 322
        },
        "id": "8DNe1NsG-Xgc",
        "outputId": "3b8546f2-da76-4c89-aa05-2c00143f69f9"
      },
      "source": [
        "get_clf_eval(y_test, w_preds)"
      ],
      "execution_count": null,
      "outputs": [
        {
          "output_type": "error",
          "ename": "ValueError",
          "evalue": "ignored",
          "traceback": [
            "\u001b[0;31m---------------------------------------------------------------------------\u001b[0m",
            "\u001b[0;31mValueError\u001b[0m                                Traceback (most recent call last)",
            "\u001b[0;32m<ipython-input-117-14ff0976cba9>\u001b[0m in \u001b[0;36m<module>\u001b[0;34m()\u001b[0m\n\u001b[0;32m----> 1\u001b[0;31m \u001b[0mget_clf_eval\u001b[0m\u001b[0;34m(\u001b[0m\u001b[0my_test\u001b[0m\u001b[0;34m,\u001b[0m \u001b[0mw_preds\u001b[0m\u001b[0;34m)\u001b[0m\u001b[0;34m\u001b[0m\u001b[0;34m\u001b[0m\u001b[0m\n\u001b[0m",
            "\u001b[0;32m<ipython-input-36-e515974d90cc>\u001b[0m in \u001b[0;36mget_clf_eval\u001b[0;34m(y_test, y_pred)\u001b[0m\n\u001b[1;32m      2\u001b[0m     \u001b[0mconfusion\u001b[0m \u001b[0;34m=\u001b[0m \u001b[0mconfusion_matrix\u001b[0m\u001b[0;34m(\u001b[0m\u001b[0my_test\u001b[0m\u001b[0;34m,\u001b[0m \u001b[0my_pred\u001b[0m\u001b[0;34m)\u001b[0m\u001b[0;34m\u001b[0m\u001b[0;34m\u001b[0m\u001b[0m\n\u001b[1;32m      3\u001b[0m     \u001b[0maccuracy\u001b[0m \u001b[0;34m=\u001b[0m \u001b[0maccuracy_score\u001b[0m\u001b[0;34m(\u001b[0m\u001b[0my_test\u001b[0m\u001b[0;34m,\u001b[0m \u001b[0my_pred\u001b[0m\u001b[0;34m)\u001b[0m\u001b[0;34m\u001b[0m\u001b[0;34m\u001b[0m\u001b[0m\n\u001b[0;32m----> 4\u001b[0;31m     \u001b[0mprecision\u001b[0m \u001b[0;34m=\u001b[0m \u001b[0mprecision_score\u001b[0m\u001b[0;34m(\u001b[0m\u001b[0my_test\u001b[0m\u001b[0;34m,\u001b[0m \u001b[0my_pred\u001b[0m\u001b[0;34m)\u001b[0m\u001b[0;34m\u001b[0m\u001b[0;34m\u001b[0m\u001b[0m\n\u001b[0m\u001b[1;32m      5\u001b[0m     \u001b[0mrecall\u001b[0m \u001b[0;34m=\u001b[0m \u001b[0mrecall_score\u001b[0m\u001b[0;34m(\u001b[0m\u001b[0my_test\u001b[0m\u001b[0;34m,\u001b[0m \u001b[0my_pred\u001b[0m\u001b[0;34m)\u001b[0m\u001b[0;34m\u001b[0m\u001b[0;34m\u001b[0m\u001b[0m\n\u001b[1;32m      6\u001b[0m     \u001b[0mF1\u001b[0m \u001b[0;34m=\u001b[0m \u001b[0mf1_score\u001b[0m\u001b[0;34m(\u001b[0m\u001b[0my_test\u001b[0m\u001b[0;34m,\u001b[0m \u001b[0my_pred\u001b[0m\u001b[0;34m)\u001b[0m\u001b[0;34m\u001b[0m\u001b[0;34m\u001b[0m\u001b[0m\n",
            "\u001b[0;32m/usr/local/lib/python3.7/dist-packages/sklearn/metrics/_classification.py\u001b[0m in \u001b[0;36mprecision_score\u001b[0;34m(y_true, y_pred, labels, pos_label, average, sample_weight, zero_division)\u001b[0m\n\u001b[1;32m   1670\u001b[0m                                                  \u001b[0mwarn_for\u001b[0m\u001b[0;34m=\u001b[0m\u001b[0;34m(\u001b[0m\u001b[0;34m'precision'\u001b[0m\u001b[0;34m,\u001b[0m\u001b[0;34m)\u001b[0m\u001b[0;34m,\u001b[0m\u001b[0;34m\u001b[0m\u001b[0;34m\u001b[0m\u001b[0m\n\u001b[1;32m   1671\u001b[0m                                                  \u001b[0msample_weight\u001b[0m\u001b[0;34m=\u001b[0m\u001b[0msample_weight\u001b[0m\u001b[0;34m,\u001b[0m\u001b[0;34m\u001b[0m\u001b[0;34m\u001b[0m\u001b[0m\n\u001b[0;32m-> 1672\u001b[0;31m                                                  zero_division=zero_division)\n\u001b[0m\u001b[1;32m   1673\u001b[0m     \u001b[0;32mreturn\u001b[0m \u001b[0mp\u001b[0m\u001b[0;34m\u001b[0m\u001b[0;34m\u001b[0m\u001b[0m\n\u001b[1;32m   1674\u001b[0m \u001b[0;34m\u001b[0m\u001b[0m\n",
            "\u001b[0;32m/usr/local/lib/python3.7/dist-packages/sklearn/metrics/_classification.py\u001b[0m in \u001b[0;36mprecision_recall_fscore_support\u001b[0;34m(y_true, y_pred, beta, labels, pos_label, average, warn_for, sample_weight, zero_division)\u001b[0m\n\u001b[1;32m   1482\u001b[0m         \u001b[0;32mraise\u001b[0m \u001b[0mValueError\u001b[0m\u001b[0;34m(\u001b[0m\u001b[0;34m\"beta should be >=0 in the F-beta score\"\u001b[0m\u001b[0;34m)\u001b[0m\u001b[0;34m\u001b[0m\u001b[0;34m\u001b[0m\u001b[0m\n\u001b[1;32m   1483\u001b[0m     labels = _check_set_wise_labels(y_true, y_pred, average, labels,\n\u001b[0;32m-> 1484\u001b[0;31m                                     pos_label)\n\u001b[0m\u001b[1;32m   1485\u001b[0m \u001b[0;34m\u001b[0m\u001b[0m\n\u001b[1;32m   1486\u001b[0m     \u001b[0;31m# Calculate tp_sum, pred_sum, true_sum ###\u001b[0m\u001b[0;34m\u001b[0m\u001b[0;34m\u001b[0m\u001b[0;34m\u001b[0m\u001b[0m\n",
            "\u001b[0;32m/usr/local/lib/python3.7/dist-packages/sklearn/metrics/_classification.py\u001b[0m in \u001b[0;36m_check_set_wise_labels\u001b[0;34m(y_true, y_pred, average, labels, pos_label)\u001b[0m\n\u001b[1;32m   1314\u001b[0m             raise ValueError(\"Target is %s but average='binary'. Please \"\n\u001b[1;32m   1315\u001b[0m                              \u001b[0;34m\"choose another average setting, one of %r.\"\u001b[0m\u001b[0;34m\u001b[0m\u001b[0;34m\u001b[0m\u001b[0m\n\u001b[0;32m-> 1316\u001b[0;31m                              % (y_type, average_options))\n\u001b[0m\u001b[1;32m   1317\u001b[0m     \u001b[0;32melif\u001b[0m \u001b[0mpos_label\u001b[0m \u001b[0;32mnot\u001b[0m \u001b[0;32min\u001b[0m \u001b[0;34m(\u001b[0m\u001b[0;32mNone\u001b[0m\u001b[0;34m,\u001b[0m \u001b[0;36m1\u001b[0m\u001b[0;34m)\u001b[0m\u001b[0;34m:\u001b[0m\u001b[0;34m\u001b[0m\u001b[0;34m\u001b[0m\u001b[0m\n\u001b[1;32m   1318\u001b[0m         warnings.warn(\"Note that pos_label (set to %r) is ignored when \"\n",
            "\u001b[0;31mValueError\u001b[0m: Target is multiclass but average='binary'. Please choose another average setting, one of [None, 'micro', 'macro', 'weighted']."
          ]
        }
      ]
    },
    {
      "cell_type": "code",
      "metadata": {
        "id": "ohgUpFjl-Ygr"
      },
      "source": [
        "confusion = confusion_matrix(y_test, w_preds)\n"
      ],
      "execution_count": null,
      "outputs": []
    },
    {
      "cell_type": "code",
      "metadata": {
        "id": "HOE5K-1__qb_"
      },
      "source": [
        "accuracy = accuracy_score(y_test, w_preds)\n"
      ],
      "execution_count": null,
      "outputs": []
    },
    {
      "cell_type": "code",
      "metadata": {
        "id": "is5_vNZT_rWw"
      },
      "source": [
        "precision = precision_score(y_test, w_preds, average=None)\n"
      ],
      "execution_count": null,
      "outputs": []
    },
    {
      "cell_type": "code",
      "metadata": {
        "id": "ZttF2hst_sTf"
      },
      "source": [
        "recall = recall_score(y_test, w_preds, average=None)\n"
      ],
      "execution_count": null,
      "outputs": []
    },
    {
      "cell_type": "code",
      "metadata": {
        "id": "81xUA9Lk_xtK"
      },
      "source": [
        "F1 = f1_score(y_test, w_preds, average=None)\n"
      ],
      "execution_count": null,
      "outputs": []
    },
    {
      "cell_type": "code",
      "metadata": {
        "colab": {
          "base_uri": "https://localhost:8080/",
          "height": 334
        },
        "id": "F82ndxyz_0AD",
        "outputId": "d18c8a4c-751c-4532-9054-9733fbc7057d"
      },
      "source": [
        "AUC = roc_auc_score(y_test, w_preds, average='ovo')\n",
        "\n"
      ],
      "execution_count": null,
      "outputs": [
        {
          "output_type": "error",
          "ename": "ValueError",
          "evalue": "ignored",
          "traceback": [
            "\u001b[0;31m---------------------------------------------------------------------------\u001b[0m",
            "\u001b[0;31mValueError\u001b[0m                                Traceback (most recent call last)",
            "\u001b[0;32m<ipython-input-129-3179f7de2ae4>\u001b[0m in \u001b[0;36m<module>\u001b[0;34m()\u001b[0m\n\u001b[0;32m----> 1\u001b[0;31m \u001b[0mAUC\u001b[0m \u001b[0;34m=\u001b[0m \u001b[0mroc_auc_score\u001b[0m\u001b[0;34m(\u001b[0m\u001b[0my_test\u001b[0m\u001b[0;34m,\u001b[0m \u001b[0mw_preds\u001b[0m\u001b[0;34m,\u001b[0m \u001b[0maverage\u001b[0m\u001b[0;34m=\u001b[0m\u001b[0;34m'ovo'\u001b[0m\u001b[0;34m)\u001b[0m\u001b[0;34m\u001b[0m\u001b[0;34m\u001b[0m\u001b[0m\n\u001b[0m\u001b[1;32m      2\u001b[0m \u001b[0;34m\u001b[0m\u001b[0m\n",
            "\u001b[0;32m/usr/local/lib/python3.7/dist-packages/sklearn/metrics/_ranking.py\u001b[0m in \u001b[0;36mroc_auc_score\u001b[0;34m(y_true, y_score, average, sample_weight, max_fpr, multi_class, labels)\u001b[0m\n\u001b[1;32m    379\u001b[0m                              \"instead\".format(max_fpr))\n\u001b[1;32m    380\u001b[0m         \u001b[0;32mif\u001b[0m \u001b[0mmulti_class\u001b[0m \u001b[0;34m==\u001b[0m \u001b[0;34m'raise'\u001b[0m\u001b[0;34m:\u001b[0m\u001b[0;34m\u001b[0m\u001b[0;34m\u001b[0m\u001b[0m\n\u001b[0;32m--> 381\u001b[0;31m             \u001b[0;32mraise\u001b[0m \u001b[0mValueError\u001b[0m\u001b[0;34m(\u001b[0m\u001b[0;34m\"multi_class must be in ('ovo', 'ovr')\"\u001b[0m\u001b[0;34m)\u001b[0m\u001b[0;34m\u001b[0m\u001b[0;34m\u001b[0m\u001b[0m\n\u001b[0m\u001b[1;32m    382\u001b[0m         return _multiclass_roc_auc_score(y_true, y_score, labels,\n\u001b[1;32m    383\u001b[0m                                          multi_class, average, sample_weight)\n",
            "\u001b[0;31mValueError\u001b[0m: multi_class must be in ('ovo', 'ovr')"
          ]
        }
      ]
    },
    {
      "cell_type": "code",
      "metadata": {
        "colab": {
          "base_uri": "https://localhost:8080/"
        },
        "id": "aw0jrgOH_2eA",
        "outputId": "9b702a10-46f6-4f07-d64b-b14841a386d2"
      },
      "source": [
        "print('오차행렬:\\n', confusion)\n",
        "print('\\n정확도: {:.4f}'.format(accuracy))\n",
        "print('정밀도: {}'.format(precision))\n",
        "print('재현율: {}'.format(recall))\n",
        "print('F1: {}'.format(F1))"
      ],
      "execution_count": null,
      "outputs": [
        {
          "output_type": "stream",
          "text": [
            "오차행렬:\n",
            " [[0 1 0 0]\n",
            " [0 0 0 0]\n",
            " [0 1 0 0]\n",
            " [0 1 0 0]]\n",
            "\n",
            "정확도: 0.0000\n",
            "정밀도: [0. 0. 0. 0.]\n",
            "재현율: [0. 0. 0. 0.]\n",
            "F1: [0. 0. 0. 0.]\n"
          ],
          "name": "stdout"
        }
      ]
    },
    {
      "cell_type": "code",
      "metadata": {
        "id": "oupm490OAGCo"
      },
      "source": [
        ""
      ],
      "execution_count": null,
      "outputs": []
    }
  ]
}